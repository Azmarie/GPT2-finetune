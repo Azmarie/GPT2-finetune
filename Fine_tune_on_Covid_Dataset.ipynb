{
  "nbformat": 4,
  "nbformat_minor": 0,
  "metadata": {
    "colab": {
      "name": "Fine-tune on Covid Dataset.ipynb",
      "provenance": [],
      "collapsed_sections": [
        "4hyTyW7Le2Sb",
        "IuzSROqxjUKM",
        "LzUQGhffFknn",
        "1155nQJ_GShb",
        "pkvMNnrnVHQw"
      ],
      "toc_visible": true
    },
    "kernelspec": {
      "name": "python3",
      "display_name": "Python 3"
    },
    "accelerator": "GPU",
    "widgets": {
      "application/vnd.jupyter.widget-state+json": {
        "b70c3514eb584cf7b66df3867753785c": {
          "model_module": "@jupyter-widgets/controls",
          "model_name": "HBoxModel",
          "state": {
            "_view_name": "HBoxView",
            "_dom_classes": [],
            "_model_name": "HBoxModel",
            "_view_module": "@jupyter-widgets/controls",
            "_model_module_version": "1.5.0",
            "_view_count": null,
            "_view_module_version": "1.5.0",
            "box_style": "",
            "layout": "IPY_MODEL_d8434f4f43b944d397e966ba72e76251",
            "_model_module": "@jupyter-widgets/controls",
            "children": [
              "IPY_MODEL_7bb44bcec2db46e5bb9e165af79884c1",
              "IPY_MODEL_e42c52d7ec934c0da04e2ffe90470723"
            ]
          }
        },
        "d8434f4f43b944d397e966ba72e76251": {
          "model_module": "@jupyter-widgets/base",
          "model_name": "LayoutModel",
          "state": {
            "_view_name": "LayoutView",
            "grid_template_rows": null,
            "right": null,
            "justify_content": null,
            "_view_module": "@jupyter-widgets/base",
            "overflow": null,
            "_model_module_version": "1.2.0",
            "_view_count": null,
            "flex_flow": null,
            "width": null,
            "min_width": null,
            "border": null,
            "align_items": null,
            "bottom": null,
            "_model_module": "@jupyter-widgets/base",
            "top": null,
            "grid_column": null,
            "overflow_y": null,
            "overflow_x": null,
            "grid_auto_flow": null,
            "grid_area": null,
            "grid_template_columns": null,
            "flex": null,
            "_model_name": "LayoutModel",
            "justify_items": null,
            "grid_row": null,
            "max_height": null,
            "align_content": null,
            "visibility": null,
            "align_self": null,
            "height": null,
            "min_height": null,
            "padding": null,
            "grid_auto_rows": null,
            "grid_gap": null,
            "max_width": null,
            "order": null,
            "_view_module_version": "1.2.0",
            "grid_template_areas": null,
            "object_position": null,
            "object_fit": null,
            "grid_auto_columns": null,
            "margin": null,
            "display": null,
            "left": null
          }
        },
        "7bb44bcec2db46e5bb9e165af79884c1": {
          "model_module": "@jupyter-widgets/controls",
          "model_name": "FloatProgressModel",
          "state": {
            "_view_name": "ProgressView",
            "style": "IPY_MODEL_6ba86e62422643318033fb25b85dc79a",
            "_dom_classes": [],
            "description": "Downloading: 100%",
            "_model_name": "FloatProgressModel",
            "bar_style": "success",
            "max": 641,
            "_view_module": "@jupyter-widgets/controls",
            "_model_module_version": "1.5.0",
            "value": 641,
            "_view_count": null,
            "_view_module_version": "1.5.0",
            "orientation": "horizontal",
            "min": 0,
            "description_tooltip": null,
            "_model_module": "@jupyter-widgets/controls",
            "layout": "IPY_MODEL_63f170a53b6a4f1085cac6cbb7f3b421"
          }
        },
        "e42c52d7ec934c0da04e2ffe90470723": {
          "model_module": "@jupyter-widgets/controls",
          "model_name": "HTMLModel",
          "state": {
            "_view_name": "HTMLView",
            "style": "IPY_MODEL_1ed84948cd944654a3775f5c16fd1dd0",
            "_dom_classes": [],
            "description": "",
            "_model_name": "HTMLModel",
            "placeholder": "​",
            "_view_module": "@jupyter-widgets/controls",
            "_model_module_version": "1.5.0",
            "value": " 641/641 [00:00&lt;00:00, 7.92kB/s]",
            "_view_count": null,
            "_view_module_version": "1.5.0",
            "description_tooltip": null,
            "_model_module": "@jupyter-widgets/controls",
            "layout": "IPY_MODEL_f2ed9a98097e4fcf82706ba23a835cbe"
          }
        },
        "6ba86e62422643318033fb25b85dc79a": {
          "model_module": "@jupyter-widgets/controls",
          "model_name": "ProgressStyleModel",
          "state": {
            "_view_name": "StyleView",
            "_model_name": "ProgressStyleModel",
            "description_width": "initial",
            "_view_module": "@jupyter-widgets/base",
            "_model_module_version": "1.5.0",
            "_view_count": null,
            "_view_module_version": "1.2.0",
            "bar_color": null,
            "_model_module": "@jupyter-widgets/controls"
          }
        },
        "63f170a53b6a4f1085cac6cbb7f3b421": {
          "model_module": "@jupyter-widgets/base",
          "model_name": "LayoutModel",
          "state": {
            "_view_name": "LayoutView",
            "grid_template_rows": null,
            "right": null,
            "justify_content": null,
            "_view_module": "@jupyter-widgets/base",
            "overflow": null,
            "_model_module_version": "1.2.0",
            "_view_count": null,
            "flex_flow": null,
            "width": null,
            "min_width": null,
            "border": null,
            "align_items": null,
            "bottom": null,
            "_model_module": "@jupyter-widgets/base",
            "top": null,
            "grid_column": null,
            "overflow_y": null,
            "overflow_x": null,
            "grid_auto_flow": null,
            "grid_area": null,
            "grid_template_columns": null,
            "flex": null,
            "_model_name": "LayoutModel",
            "justify_items": null,
            "grid_row": null,
            "max_height": null,
            "align_content": null,
            "visibility": null,
            "align_self": null,
            "height": null,
            "min_height": null,
            "padding": null,
            "grid_auto_rows": null,
            "grid_gap": null,
            "max_width": null,
            "order": null,
            "_view_module_version": "1.2.0",
            "grid_template_areas": null,
            "object_position": null,
            "object_fit": null,
            "grid_auto_columns": null,
            "margin": null,
            "display": null,
            "left": null
          }
        },
        "1ed84948cd944654a3775f5c16fd1dd0": {
          "model_module": "@jupyter-widgets/controls",
          "model_name": "DescriptionStyleModel",
          "state": {
            "_view_name": "StyleView",
            "_model_name": "DescriptionStyleModel",
            "description_width": "",
            "_view_module": "@jupyter-widgets/base",
            "_model_module_version": "1.5.0",
            "_view_count": null,
            "_view_module_version": "1.2.0",
            "_model_module": "@jupyter-widgets/controls"
          }
        },
        "f2ed9a98097e4fcf82706ba23a835cbe": {
          "model_module": "@jupyter-widgets/base",
          "model_name": "LayoutModel",
          "state": {
            "_view_name": "LayoutView",
            "grid_template_rows": null,
            "right": null,
            "justify_content": null,
            "_view_module": "@jupyter-widgets/base",
            "overflow": null,
            "_model_module_version": "1.2.0",
            "_view_count": null,
            "flex_flow": null,
            "width": null,
            "min_width": null,
            "border": null,
            "align_items": null,
            "bottom": null,
            "_model_module": "@jupyter-widgets/base",
            "top": null,
            "grid_column": null,
            "overflow_y": null,
            "overflow_x": null,
            "grid_auto_flow": null,
            "grid_area": null,
            "grid_template_columns": null,
            "flex": null,
            "_model_name": "LayoutModel",
            "justify_items": null,
            "grid_row": null,
            "max_height": null,
            "align_content": null,
            "visibility": null,
            "align_self": null,
            "height": null,
            "min_height": null,
            "padding": null,
            "grid_auto_rows": null,
            "grid_gap": null,
            "max_width": null,
            "order": null,
            "_view_module_version": "1.2.0",
            "grid_template_areas": null,
            "object_position": null,
            "object_fit": null,
            "grid_auto_columns": null,
            "margin": null,
            "display": null,
            "left": null
          }
        },
        "c132bdff2e194616914c7674dd9d162b": {
          "model_module": "@jupyter-widgets/controls",
          "model_name": "HBoxModel",
          "state": {
            "_view_name": "HBoxView",
            "_dom_classes": [],
            "_model_name": "HBoxModel",
            "_view_module": "@jupyter-widgets/controls",
            "_model_module_version": "1.5.0",
            "_view_count": null,
            "_view_module_version": "1.5.0",
            "box_style": "",
            "layout": "IPY_MODEL_bd9340a867324e66adc3f4fc568dbf46",
            "_model_module": "@jupyter-widgets/controls",
            "children": [
              "IPY_MODEL_2207177ac5f14f2f8e0fdc3b0645b5ab",
              "IPY_MODEL_848eb5924ec94963935c69e2ad225e13"
            ]
          }
        },
        "bd9340a867324e66adc3f4fc568dbf46": {
          "model_module": "@jupyter-widgets/base",
          "model_name": "LayoutModel",
          "state": {
            "_view_name": "LayoutView",
            "grid_template_rows": null,
            "right": null,
            "justify_content": null,
            "_view_module": "@jupyter-widgets/base",
            "overflow": null,
            "_model_module_version": "1.2.0",
            "_view_count": null,
            "flex_flow": null,
            "width": null,
            "min_width": null,
            "border": null,
            "align_items": null,
            "bottom": null,
            "_model_module": "@jupyter-widgets/base",
            "top": null,
            "grid_column": null,
            "overflow_y": null,
            "overflow_x": null,
            "grid_auto_flow": null,
            "grid_area": null,
            "grid_template_columns": null,
            "flex": null,
            "_model_name": "LayoutModel",
            "justify_items": null,
            "grid_row": null,
            "max_height": null,
            "align_content": null,
            "visibility": null,
            "align_self": null,
            "height": null,
            "min_height": null,
            "padding": null,
            "grid_auto_rows": null,
            "grid_gap": null,
            "max_width": null,
            "order": null,
            "_view_module_version": "1.2.0",
            "grid_template_areas": null,
            "object_position": null,
            "object_fit": null,
            "grid_auto_columns": null,
            "margin": null,
            "display": null,
            "left": null
          }
        },
        "2207177ac5f14f2f8e0fdc3b0645b5ab": {
          "model_module": "@jupyter-widgets/controls",
          "model_name": "FloatProgressModel",
          "state": {
            "_view_name": "ProgressView",
            "style": "IPY_MODEL_12adf750b486454994ae19f193cc010b",
            "_dom_classes": [],
            "description": "Downloading: 100%",
            "_model_name": "FloatProgressModel",
            "bar_style": "success",
            "max": 1042301,
            "_view_module": "@jupyter-widgets/controls",
            "_model_module_version": "1.5.0",
            "value": 1042301,
            "_view_count": null,
            "_view_module_version": "1.5.0",
            "orientation": "horizontal",
            "min": 0,
            "description_tooltip": null,
            "_model_module": "@jupyter-widgets/controls",
            "layout": "IPY_MODEL_7135269d5629422daa85d7c6d6aeb6bc"
          }
        },
        "848eb5924ec94963935c69e2ad225e13": {
          "model_module": "@jupyter-widgets/controls",
          "model_name": "HTMLModel",
          "state": {
            "_view_name": "HTMLView",
            "style": "IPY_MODEL_2b0cfb83988843cbb0724a2692210d5e",
            "_dom_classes": [],
            "description": "",
            "_model_name": "HTMLModel",
            "placeholder": "​",
            "_view_module": "@jupyter-widgets/controls",
            "_model_module_version": "1.5.0",
            "value": " 1.04M/1.04M [00:00&lt;00:00, 3.30MB/s]",
            "_view_count": null,
            "_view_module_version": "1.5.0",
            "description_tooltip": null,
            "_model_module": "@jupyter-widgets/controls",
            "layout": "IPY_MODEL_63827ec5e69c4e21be14d8ffe52f6ef4"
          }
        },
        "12adf750b486454994ae19f193cc010b": {
          "model_module": "@jupyter-widgets/controls",
          "model_name": "ProgressStyleModel",
          "state": {
            "_view_name": "StyleView",
            "_model_name": "ProgressStyleModel",
            "description_width": "initial",
            "_view_module": "@jupyter-widgets/base",
            "_model_module_version": "1.5.0",
            "_view_count": null,
            "_view_module_version": "1.2.0",
            "bar_color": null,
            "_model_module": "@jupyter-widgets/controls"
          }
        },
        "7135269d5629422daa85d7c6d6aeb6bc": {
          "model_module": "@jupyter-widgets/base",
          "model_name": "LayoutModel",
          "state": {
            "_view_name": "LayoutView",
            "grid_template_rows": null,
            "right": null,
            "justify_content": null,
            "_view_module": "@jupyter-widgets/base",
            "overflow": null,
            "_model_module_version": "1.2.0",
            "_view_count": null,
            "flex_flow": null,
            "width": null,
            "min_width": null,
            "border": null,
            "align_items": null,
            "bottom": null,
            "_model_module": "@jupyter-widgets/base",
            "top": null,
            "grid_column": null,
            "overflow_y": null,
            "overflow_x": null,
            "grid_auto_flow": null,
            "grid_area": null,
            "grid_template_columns": null,
            "flex": null,
            "_model_name": "LayoutModel",
            "justify_items": null,
            "grid_row": null,
            "max_height": null,
            "align_content": null,
            "visibility": null,
            "align_self": null,
            "height": null,
            "min_height": null,
            "padding": null,
            "grid_auto_rows": null,
            "grid_gap": null,
            "max_width": null,
            "order": null,
            "_view_module_version": "1.2.0",
            "grid_template_areas": null,
            "object_position": null,
            "object_fit": null,
            "grid_auto_columns": null,
            "margin": null,
            "display": null,
            "left": null
          }
        },
        "2b0cfb83988843cbb0724a2692210d5e": {
          "model_module": "@jupyter-widgets/controls",
          "model_name": "DescriptionStyleModel",
          "state": {
            "_view_name": "StyleView",
            "_model_name": "DescriptionStyleModel",
            "description_width": "",
            "_view_module": "@jupyter-widgets/base",
            "_model_module_version": "1.5.0",
            "_view_count": null,
            "_view_module_version": "1.2.0",
            "_model_module": "@jupyter-widgets/controls"
          }
        },
        "63827ec5e69c4e21be14d8ffe52f6ef4": {
          "model_module": "@jupyter-widgets/base",
          "model_name": "LayoutModel",
          "state": {
            "_view_name": "LayoutView",
            "grid_template_rows": null,
            "right": null,
            "justify_content": null,
            "_view_module": "@jupyter-widgets/base",
            "overflow": null,
            "_model_module_version": "1.2.0",
            "_view_count": null,
            "flex_flow": null,
            "width": null,
            "min_width": null,
            "border": null,
            "align_items": null,
            "bottom": null,
            "_model_module": "@jupyter-widgets/base",
            "top": null,
            "grid_column": null,
            "overflow_y": null,
            "overflow_x": null,
            "grid_auto_flow": null,
            "grid_area": null,
            "grid_template_columns": null,
            "flex": null,
            "_model_name": "LayoutModel",
            "justify_items": null,
            "grid_row": null,
            "max_height": null,
            "align_content": null,
            "visibility": null,
            "align_self": null,
            "height": null,
            "min_height": null,
            "padding": null,
            "grid_auto_rows": null,
            "grid_gap": null,
            "max_width": null,
            "order": null,
            "_view_module_version": "1.2.0",
            "grid_template_areas": null,
            "object_position": null,
            "object_fit": null,
            "grid_auto_columns": null,
            "margin": null,
            "display": null,
            "left": null
          }
        },
        "a8423732cc854f9c878fdc0821f2f9be": {
          "model_module": "@jupyter-widgets/controls",
          "model_name": "HBoxModel",
          "state": {
            "_view_name": "HBoxView",
            "_dom_classes": [],
            "_model_name": "HBoxModel",
            "_view_module": "@jupyter-widgets/controls",
            "_model_module_version": "1.5.0",
            "_view_count": null,
            "_view_module_version": "1.5.0",
            "box_style": "",
            "layout": "IPY_MODEL_2f828f4019fb4c37816e1c51a5405397",
            "_model_module": "@jupyter-widgets/controls",
            "children": [
              "IPY_MODEL_9ef038419c354367b3f2ec25caad9e9a",
              "IPY_MODEL_b53e01d0f7b748bf8208ff1e017523d8"
            ]
          }
        },
        "2f828f4019fb4c37816e1c51a5405397": {
          "model_module": "@jupyter-widgets/base",
          "model_name": "LayoutModel",
          "state": {
            "_view_name": "LayoutView",
            "grid_template_rows": null,
            "right": null,
            "justify_content": null,
            "_view_module": "@jupyter-widgets/base",
            "overflow": null,
            "_model_module_version": "1.2.0",
            "_view_count": null,
            "flex_flow": null,
            "width": null,
            "min_width": null,
            "border": null,
            "align_items": null,
            "bottom": null,
            "_model_module": "@jupyter-widgets/base",
            "top": null,
            "grid_column": null,
            "overflow_y": null,
            "overflow_x": null,
            "grid_auto_flow": null,
            "grid_area": null,
            "grid_template_columns": null,
            "flex": null,
            "_model_name": "LayoutModel",
            "justify_items": null,
            "grid_row": null,
            "max_height": null,
            "align_content": null,
            "visibility": null,
            "align_self": null,
            "height": null,
            "min_height": null,
            "padding": null,
            "grid_auto_rows": null,
            "grid_gap": null,
            "max_width": null,
            "order": null,
            "_view_module_version": "1.2.0",
            "grid_template_areas": null,
            "object_position": null,
            "object_fit": null,
            "grid_auto_columns": null,
            "margin": null,
            "display": null,
            "left": null
          }
        },
        "9ef038419c354367b3f2ec25caad9e9a": {
          "model_module": "@jupyter-widgets/controls",
          "model_name": "FloatProgressModel",
          "state": {
            "_view_name": "ProgressView",
            "style": "IPY_MODEL_c76a295ec1ac4dc7a3e6a505260471ce",
            "_dom_classes": [],
            "description": "Downloading: 100%",
            "_model_name": "FloatProgressModel",
            "bar_style": "success",
            "max": 456318,
            "_view_module": "@jupyter-widgets/controls",
            "_model_module_version": "1.5.0",
            "value": 456318,
            "_view_count": null,
            "_view_module_version": "1.5.0",
            "orientation": "horizontal",
            "min": 0,
            "description_tooltip": null,
            "_model_module": "@jupyter-widgets/controls",
            "layout": "IPY_MODEL_8a3eb1ca6eb9404e860f405f9f59611f"
          }
        },
        "b53e01d0f7b748bf8208ff1e017523d8": {
          "model_module": "@jupyter-widgets/controls",
          "model_name": "HTMLModel",
          "state": {
            "_view_name": "HTMLView",
            "style": "IPY_MODEL_975b292f2f0e4dd0b03317ae6cd34d11",
            "_dom_classes": [],
            "description": "",
            "_model_name": "HTMLModel",
            "placeholder": "​",
            "_view_module": "@jupyter-widgets/controls",
            "_model_module_version": "1.5.0",
            "value": " 456k/456k [00:00&lt;00:00, 2.47MB/s]",
            "_view_count": null,
            "_view_module_version": "1.5.0",
            "description_tooltip": null,
            "_model_module": "@jupyter-widgets/controls",
            "layout": "IPY_MODEL_fc9db838ca834d75adaef2a572b5d73b"
          }
        },
        "c76a295ec1ac4dc7a3e6a505260471ce": {
          "model_module": "@jupyter-widgets/controls",
          "model_name": "ProgressStyleModel",
          "state": {
            "_view_name": "StyleView",
            "_model_name": "ProgressStyleModel",
            "description_width": "initial",
            "_view_module": "@jupyter-widgets/base",
            "_model_module_version": "1.5.0",
            "_view_count": null,
            "_view_module_version": "1.2.0",
            "bar_color": null,
            "_model_module": "@jupyter-widgets/controls"
          }
        },
        "8a3eb1ca6eb9404e860f405f9f59611f": {
          "model_module": "@jupyter-widgets/base",
          "model_name": "LayoutModel",
          "state": {
            "_view_name": "LayoutView",
            "grid_template_rows": null,
            "right": null,
            "justify_content": null,
            "_view_module": "@jupyter-widgets/base",
            "overflow": null,
            "_model_module_version": "1.2.0",
            "_view_count": null,
            "flex_flow": null,
            "width": null,
            "min_width": null,
            "border": null,
            "align_items": null,
            "bottom": null,
            "_model_module": "@jupyter-widgets/base",
            "top": null,
            "grid_column": null,
            "overflow_y": null,
            "overflow_x": null,
            "grid_auto_flow": null,
            "grid_area": null,
            "grid_template_columns": null,
            "flex": null,
            "_model_name": "LayoutModel",
            "justify_items": null,
            "grid_row": null,
            "max_height": null,
            "align_content": null,
            "visibility": null,
            "align_self": null,
            "height": null,
            "min_height": null,
            "padding": null,
            "grid_auto_rows": null,
            "grid_gap": null,
            "max_width": null,
            "order": null,
            "_view_module_version": "1.2.0",
            "grid_template_areas": null,
            "object_position": null,
            "object_fit": null,
            "grid_auto_columns": null,
            "margin": null,
            "display": null,
            "left": null
          }
        },
        "975b292f2f0e4dd0b03317ae6cd34d11": {
          "model_module": "@jupyter-widgets/controls",
          "model_name": "DescriptionStyleModel",
          "state": {
            "_view_name": "StyleView",
            "_model_name": "DescriptionStyleModel",
            "description_width": "",
            "_view_module": "@jupyter-widgets/base",
            "_model_module_version": "1.5.0",
            "_view_count": null,
            "_view_module_version": "1.2.0",
            "_model_module": "@jupyter-widgets/controls"
          }
        },
        "fc9db838ca834d75adaef2a572b5d73b": {
          "model_module": "@jupyter-widgets/base",
          "model_name": "LayoutModel",
          "state": {
            "_view_name": "LayoutView",
            "grid_template_rows": null,
            "right": null,
            "justify_content": null,
            "_view_module": "@jupyter-widgets/base",
            "overflow": null,
            "_model_module_version": "1.2.0",
            "_view_count": null,
            "flex_flow": null,
            "width": null,
            "min_width": null,
            "border": null,
            "align_items": null,
            "bottom": null,
            "_model_module": "@jupyter-widgets/base",
            "top": null,
            "grid_column": null,
            "overflow_y": null,
            "overflow_x": null,
            "grid_auto_flow": null,
            "grid_area": null,
            "grid_template_columns": null,
            "flex": null,
            "_model_name": "LayoutModel",
            "justify_items": null,
            "grid_row": null,
            "max_height": null,
            "align_content": null,
            "visibility": null,
            "align_self": null,
            "height": null,
            "min_height": null,
            "padding": null,
            "grid_auto_rows": null,
            "grid_gap": null,
            "max_width": null,
            "order": null,
            "_view_module_version": "1.2.0",
            "grid_template_areas": null,
            "object_position": null,
            "object_fit": null,
            "grid_auto_columns": null,
            "margin": null,
            "display": null,
            "left": null
          }
        },
        "9f4c487a79c045b1be4dc5a3d9f38688": {
          "model_module": "@jupyter-widgets/controls",
          "model_name": "HBoxModel",
          "state": {
            "_view_name": "HBoxView",
            "_dom_classes": [],
            "_model_name": "HBoxModel",
            "_view_module": "@jupyter-widgets/controls",
            "_model_module_version": "1.5.0",
            "_view_count": null,
            "_view_module_version": "1.5.0",
            "box_style": "",
            "layout": "IPY_MODEL_1d27cb3bf2704fe19477daf0a9267699",
            "_model_module": "@jupyter-widgets/controls",
            "children": [
              "IPY_MODEL_513a29c582e54304bba0a6b3b4438f38",
              "IPY_MODEL_81f1b2696e1e4e95ad818038b635f915"
            ]
          }
        },
        "1d27cb3bf2704fe19477daf0a9267699": {
          "model_module": "@jupyter-widgets/base",
          "model_name": "LayoutModel",
          "state": {
            "_view_name": "LayoutView",
            "grid_template_rows": null,
            "right": null,
            "justify_content": null,
            "_view_module": "@jupyter-widgets/base",
            "overflow": null,
            "_model_module_version": "1.2.0",
            "_view_count": null,
            "flex_flow": null,
            "width": null,
            "min_width": null,
            "border": null,
            "align_items": null,
            "bottom": null,
            "_model_module": "@jupyter-widgets/base",
            "top": null,
            "grid_column": null,
            "overflow_y": null,
            "overflow_x": null,
            "grid_auto_flow": null,
            "grid_area": null,
            "grid_template_columns": null,
            "flex": null,
            "_model_name": "LayoutModel",
            "justify_items": null,
            "grid_row": null,
            "max_height": null,
            "align_content": null,
            "visibility": null,
            "align_self": null,
            "height": null,
            "min_height": null,
            "padding": null,
            "grid_auto_rows": null,
            "grid_gap": null,
            "max_width": null,
            "order": null,
            "_view_module_version": "1.2.0",
            "grid_template_areas": null,
            "object_position": null,
            "object_fit": null,
            "grid_auto_columns": null,
            "margin": null,
            "display": null,
            "left": null
          }
        },
        "513a29c582e54304bba0a6b3b4438f38": {
          "model_module": "@jupyter-widgets/controls",
          "model_name": "FloatProgressModel",
          "state": {
            "_view_name": "ProgressView",
            "style": "IPY_MODEL_a68ff01c94164ff4bd7003f467958265",
            "_dom_classes": [],
            "description": "Downloading: 100%",
            "_model_name": "FloatProgressModel",
            "bar_style": "success",
            "max": 351265583,
            "_view_module": "@jupyter-widgets/controls",
            "_model_module_version": "1.5.0",
            "value": 351265583,
            "_view_count": null,
            "_view_module_version": "1.5.0",
            "orientation": "horizontal",
            "min": 0,
            "description_tooltip": null,
            "_model_module": "@jupyter-widgets/controls",
            "layout": "IPY_MODEL_39526a4365024a22ab8ef37d5b4e133e"
          }
        },
        "81f1b2696e1e4e95ad818038b635f915": {
          "model_module": "@jupyter-widgets/controls",
          "model_name": "HTMLModel",
          "state": {
            "_view_name": "HTMLView",
            "style": "IPY_MODEL_e69c797bf34e43c0b90a6efd40aa3db3",
            "_dom_classes": [],
            "description": "",
            "_model_name": "HTMLModel",
            "placeholder": "​",
            "_view_module": "@jupyter-widgets/controls",
            "_model_module_version": "1.5.0",
            "value": " 351M/351M [00:10&lt;00:00, 32.1MB/s]",
            "_view_count": null,
            "_view_module_version": "1.5.0",
            "description_tooltip": null,
            "_model_module": "@jupyter-widgets/controls",
            "layout": "IPY_MODEL_0cf6fbb4f011443198aced8ff8f31b85"
          }
        },
        "a68ff01c94164ff4bd7003f467958265": {
          "model_module": "@jupyter-widgets/controls",
          "model_name": "ProgressStyleModel",
          "state": {
            "_view_name": "StyleView",
            "_model_name": "ProgressStyleModel",
            "description_width": "initial",
            "_view_module": "@jupyter-widgets/base",
            "_model_module_version": "1.5.0",
            "_view_count": null,
            "_view_module_version": "1.2.0",
            "bar_color": null,
            "_model_module": "@jupyter-widgets/controls"
          }
        },
        "39526a4365024a22ab8ef37d5b4e133e": {
          "model_module": "@jupyter-widgets/base",
          "model_name": "LayoutModel",
          "state": {
            "_view_name": "LayoutView",
            "grid_template_rows": null,
            "right": null,
            "justify_content": null,
            "_view_module": "@jupyter-widgets/base",
            "overflow": null,
            "_model_module_version": "1.2.0",
            "_view_count": null,
            "flex_flow": null,
            "width": null,
            "min_width": null,
            "border": null,
            "align_items": null,
            "bottom": null,
            "_model_module": "@jupyter-widgets/base",
            "top": null,
            "grid_column": null,
            "overflow_y": null,
            "overflow_x": null,
            "grid_auto_flow": null,
            "grid_area": null,
            "grid_template_columns": null,
            "flex": null,
            "_model_name": "LayoutModel",
            "justify_items": null,
            "grid_row": null,
            "max_height": null,
            "align_content": null,
            "visibility": null,
            "align_self": null,
            "height": null,
            "min_height": null,
            "padding": null,
            "grid_auto_rows": null,
            "grid_gap": null,
            "max_width": null,
            "order": null,
            "_view_module_version": "1.2.0",
            "grid_template_areas": null,
            "object_position": null,
            "object_fit": null,
            "grid_auto_columns": null,
            "margin": null,
            "display": null,
            "left": null
          }
        },
        "e69c797bf34e43c0b90a6efd40aa3db3": {
          "model_module": "@jupyter-widgets/controls",
          "model_name": "DescriptionStyleModel",
          "state": {
            "_view_name": "StyleView",
            "_model_name": "DescriptionStyleModel",
            "description_width": "",
            "_view_module": "@jupyter-widgets/base",
            "_model_module_version": "1.5.0",
            "_view_count": null,
            "_view_module_version": "1.2.0",
            "_model_module": "@jupyter-widgets/controls"
          }
        },
        "0cf6fbb4f011443198aced8ff8f31b85": {
          "model_module": "@jupyter-widgets/base",
          "model_name": "LayoutModel",
          "state": {
            "_view_name": "LayoutView",
            "grid_template_rows": null,
            "right": null,
            "justify_content": null,
            "_view_module": "@jupyter-widgets/base",
            "overflow": null,
            "_model_module_version": "1.2.0",
            "_view_count": null,
            "flex_flow": null,
            "width": null,
            "min_width": null,
            "border": null,
            "align_items": null,
            "bottom": null,
            "_model_module": "@jupyter-widgets/base",
            "top": null,
            "grid_column": null,
            "overflow_y": null,
            "overflow_x": null,
            "grid_auto_flow": null,
            "grid_area": null,
            "grid_template_columns": null,
            "flex": null,
            "_model_name": "LayoutModel",
            "justify_items": null,
            "grid_row": null,
            "max_height": null,
            "align_content": null,
            "visibility": null,
            "align_self": null,
            "height": null,
            "min_height": null,
            "padding": null,
            "grid_auto_rows": null,
            "grid_gap": null,
            "max_width": null,
            "order": null,
            "_view_module_version": "1.2.0",
            "grid_template_areas": null,
            "object_position": null,
            "object_fit": null,
            "grid_auto_columns": null,
            "margin": null,
            "display": null,
            "left": null
          }
        },
        "7a1c3db2634d48e9895f8f845e300655": {
          "model_module": "@jupyter-widgets/controls",
          "model_name": "HBoxModel",
          "state": {
            "_view_name": "HBoxView",
            "_dom_classes": [],
            "_model_name": "HBoxModel",
            "_view_module": "@jupyter-widgets/controls",
            "_model_module_version": "1.5.0",
            "_view_count": null,
            "_view_module_version": "1.5.0",
            "box_style": "",
            "layout": "IPY_MODEL_2def08bf659046009517a96a0f6b0fb9",
            "_model_module": "@jupyter-widgets/controls",
            "children": [
              "IPY_MODEL_ed686b10943b48eebad60dff5930b1b1",
              "IPY_MODEL_47d77c5527004505bcad86f8ab111645"
            ]
          }
        },
        "2def08bf659046009517a96a0f6b0fb9": {
          "model_module": "@jupyter-widgets/base",
          "model_name": "LayoutModel",
          "state": {
            "_view_name": "LayoutView",
            "grid_template_rows": null,
            "right": null,
            "justify_content": null,
            "_view_module": "@jupyter-widgets/base",
            "overflow": null,
            "_model_module_version": "1.2.0",
            "_view_count": null,
            "flex_flow": null,
            "width": null,
            "min_width": null,
            "border": null,
            "align_items": null,
            "bottom": null,
            "_model_module": "@jupyter-widgets/base",
            "top": null,
            "grid_column": null,
            "overflow_y": null,
            "overflow_x": null,
            "grid_auto_flow": null,
            "grid_area": null,
            "grid_template_columns": null,
            "flex": null,
            "_model_name": "LayoutModel",
            "justify_items": null,
            "grid_row": null,
            "max_height": null,
            "align_content": null,
            "visibility": null,
            "align_self": null,
            "height": null,
            "min_height": null,
            "padding": null,
            "grid_auto_rows": null,
            "grid_gap": null,
            "max_width": null,
            "order": null,
            "_view_module_version": "1.2.0",
            "grid_template_areas": null,
            "object_position": null,
            "object_fit": null,
            "grid_auto_columns": null,
            "margin": null,
            "display": null,
            "left": null
          }
        },
        "ed686b10943b48eebad60dff5930b1b1": {
          "model_module": "@jupyter-widgets/controls",
          "model_name": "FloatProgressModel",
          "state": {
            "_view_name": "ProgressView",
            "style": "IPY_MODEL_8c2b393101134a359d1b77cb9940c155",
            "_dom_classes": [],
            "description": "Epoch: 100%",
            "_model_name": "FloatProgressModel",
            "bar_style": "success",
            "max": 3,
            "_view_module": "@jupyter-widgets/controls",
            "_model_module_version": "1.5.0",
            "value": 3,
            "_view_count": null,
            "_view_module_version": "1.5.0",
            "orientation": "horizontal",
            "min": 0,
            "description_tooltip": null,
            "_model_module": "@jupyter-widgets/controls",
            "layout": "IPY_MODEL_12380024e0744fbdb7ef200312f05306"
          }
        },
        "47d77c5527004505bcad86f8ab111645": {
          "model_module": "@jupyter-widgets/controls",
          "model_name": "HTMLModel",
          "state": {
            "_view_name": "HTMLView",
            "style": "IPY_MODEL_b78fda0239624a1fb3169ba036ba171a",
            "_dom_classes": [],
            "description": "",
            "_model_name": "HTMLModel",
            "placeholder": "​",
            "_view_module": "@jupyter-widgets/controls",
            "_model_module_version": "1.5.0",
            "value": " 3/3 [01:48&lt;00:00, 36.14s/it]",
            "_view_count": null,
            "_view_module_version": "1.5.0",
            "description_tooltip": null,
            "_model_module": "@jupyter-widgets/controls",
            "layout": "IPY_MODEL_37e8dbbfed604e029734d3fb1b44df02"
          }
        },
        "8c2b393101134a359d1b77cb9940c155": {
          "model_module": "@jupyter-widgets/controls",
          "model_name": "ProgressStyleModel",
          "state": {
            "_view_name": "StyleView",
            "_model_name": "ProgressStyleModel",
            "description_width": "initial",
            "_view_module": "@jupyter-widgets/base",
            "_model_module_version": "1.5.0",
            "_view_count": null,
            "_view_module_version": "1.2.0",
            "bar_color": null,
            "_model_module": "@jupyter-widgets/controls"
          }
        },
        "12380024e0744fbdb7ef200312f05306": {
          "model_module": "@jupyter-widgets/base",
          "model_name": "LayoutModel",
          "state": {
            "_view_name": "LayoutView",
            "grid_template_rows": null,
            "right": null,
            "justify_content": null,
            "_view_module": "@jupyter-widgets/base",
            "overflow": null,
            "_model_module_version": "1.2.0",
            "_view_count": null,
            "flex_flow": null,
            "width": null,
            "min_width": null,
            "border": null,
            "align_items": null,
            "bottom": null,
            "_model_module": "@jupyter-widgets/base",
            "top": null,
            "grid_column": null,
            "overflow_y": null,
            "overflow_x": null,
            "grid_auto_flow": null,
            "grid_area": null,
            "grid_template_columns": null,
            "flex": null,
            "_model_name": "LayoutModel",
            "justify_items": null,
            "grid_row": null,
            "max_height": null,
            "align_content": null,
            "visibility": null,
            "align_self": null,
            "height": null,
            "min_height": null,
            "padding": null,
            "grid_auto_rows": null,
            "grid_gap": null,
            "max_width": null,
            "order": null,
            "_view_module_version": "1.2.0",
            "grid_template_areas": null,
            "object_position": null,
            "object_fit": null,
            "grid_auto_columns": null,
            "margin": null,
            "display": null,
            "left": null
          }
        },
        "b78fda0239624a1fb3169ba036ba171a": {
          "model_module": "@jupyter-widgets/controls",
          "model_name": "DescriptionStyleModel",
          "state": {
            "_view_name": "StyleView",
            "_model_name": "DescriptionStyleModel",
            "description_width": "",
            "_view_module": "@jupyter-widgets/base",
            "_model_module_version": "1.5.0",
            "_view_count": null,
            "_view_module_version": "1.2.0",
            "_model_module": "@jupyter-widgets/controls"
          }
        },
        "37e8dbbfed604e029734d3fb1b44df02": {
          "model_module": "@jupyter-widgets/base",
          "model_name": "LayoutModel",
          "state": {
            "_view_name": "LayoutView",
            "grid_template_rows": null,
            "right": null,
            "justify_content": null,
            "_view_module": "@jupyter-widgets/base",
            "overflow": null,
            "_model_module_version": "1.2.0",
            "_view_count": null,
            "flex_flow": null,
            "width": null,
            "min_width": null,
            "border": null,
            "align_items": null,
            "bottom": null,
            "_model_module": "@jupyter-widgets/base",
            "top": null,
            "grid_column": null,
            "overflow_y": null,
            "overflow_x": null,
            "grid_auto_flow": null,
            "grid_area": null,
            "grid_template_columns": null,
            "flex": null,
            "_model_name": "LayoutModel",
            "justify_items": null,
            "grid_row": null,
            "max_height": null,
            "align_content": null,
            "visibility": null,
            "align_self": null,
            "height": null,
            "min_height": null,
            "padding": null,
            "grid_auto_rows": null,
            "grid_gap": null,
            "max_width": null,
            "order": null,
            "_view_module_version": "1.2.0",
            "grid_template_areas": null,
            "object_position": null,
            "object_fit": null,
            "grid_auto_columns": null,
            "margin": null,
            "display": null,
            "left": null
          }
        },
        "0101dfd274cc4a999bf3f3a084f5d294": {
          "model_module": "@jupyter-widgets/controls",
          "model_name": "HBoxModel",
          "state": {
            "_view_name": "HBoxView",
            "_dom_classes": [],
            "_model_name": "HBoxModel",
            "_view_module": "@jupyter-widgets/controls",
            "_model_module_version": "1.5.0",
            "_view_count": null,
            "_view_module_version": "1.5.0",
            "box_style": "",
            "layout": "IPY_MODEL_e03f663421af44858227267110bc931a",
            "_model_module": "@jupyter-widgets/controls",
            "children": [
              "IPY_MODEL_645ce8bb85bb42a1bac00fc0c7838389",
              "IPY_MODEL_d47e9ba08e36402b869efeb79adcb186"
            ]
          }
        },
        "e03f663421af44858227267110bc931a": {
          "model_module": "@jupyter-widgets/base",
          "model_name": "LayoutModel",
          "state": {
            "_view_name": "LayoutView",
            "grid_template_rows": null,
            "right": null,
            "justify_content": null,
            "_view_module": "@jupyter-widgets/base",
            "overflow": null,
            "_model_module_version": "1.2.0",
            "_view_count": null,
            "flex_flow": null,
            "width": null,
            "min_width": null,
            "border": null,
            "align_items": null,
            "bottom": null,
            "_model_module": "@jupyter-widgets/base",
            "top": null,
            "grid_column": null,
            "overflow_y": null,
            "overflow_x": null,
            "grid_auto_flow": null,
            "grid_area": null,
            "grid_template_columns": null,
            "flex": null,
            "_model_name": "LayoutModel",
            "justify_items": null,
            "grid_row": null,
            "max_height": null,
            "align_content": null,
            "visibility": null,
            "align_self": null,
            "height": null,
            "min_height": null,
            "padding": null,
            "grid_auto_rows": null,
            "grid_gap": null,
            "max_width": null,
            "order": null,
            "_view_module_version": "1.2.0",
            "grid_template_areas": null,
            "object_position": null,
            "object_fit": null,
            "grid_auto_columns": null,
            "margin": null,
            "display": null,
            "left": null
          }
        },
        "645ce8bb85bb42a1bac00fc0c7838389": {
          "model_module": "@jupyter-widgets/controls",
          "model_name": "FloatProgressModel",
          "state": {
            "_view_name": "ProgressView",
            "style": "IPY_MODEL_fbeb2f7a5f794df2b7419558600c1121",
            "_dom_classes": [],
            "description": "Iteration: 100%",
            "_model_name": "FloatProgressModel",
            "bar_style": "success",
            "max": 120,
            "_view_module": "@jupyter-widgets/controls",
            "_model_module_version": "1.5.0",
            "value": 120,
            "_view_count": null,
            "_view_module_version": "1.5.0",
            "orientation": "horizontal",
            "min": 0,
            "description_tooltip": null,
            "_model_module": "@jupyter-widgets/controls",
            "layout": "IPY_MODEL_72e0bf8d1aff4a0285192c38ee417da3"
          }
        },
        "d47e9ba08e36402b869efeb79adcb186": {
          "model_module": "@jupyter-widgets/controls",
          "model_name": "HTMLModel",
          "state": {
            "_view_name": "HTMLView",
            "style": "IPY_MODEL_7bb3e2d4cdaa4da2b96f0018d8e9f0c3",
            "_dom_classes": [],
            "description": "",
            "_model_name": "HTMLModel",
            "placeholder": "​",
            "_view_module": "@jupyter-widgets/controls",
            "_model_module_version": "1.5.0",
            "value": " 120/120 [01:17&lt;00:00,  1.54it/s]",
            "_view_count": null,
            "_view_module_version": "1.5.0",
            "description_tooltip": null,
            "_model_module": "@jupyter-widgets/controls",
            "layout": "IPY_MODEL_51f2037b2dae455a8cc4e5dc3b5f4b41"
          }
        },
        "fbeb2f7a5f794df2b7419558600c1121": {
          "model_module": "@jupyter-widgets/controls",
          "model_name": "ProgressStyleModel",
          "state": {
            "_view_name": "StyleView",
            "_model_name": "ProgressStyleModel",
            "description_width": "initial",
            "_view_module": "@jupyter-widgets/base",
            "_model_module_version": "1.5.0",
            "_view_count": null,
            "_view_module_version": "1.2.0",
            "bar_color": null,
            "_model_module": "@jupyter-widgets/controls"
          }
        },
        "72e0bf8d1aff4a0285192c38ee417da3": {
          "model_module": "@jupyter-widgets/base",
          "model_name": "LayoutModel",
          "state": {
            "_view_name": "LayoutView",
            "grid_template_rows": null,
            "right": null,
            "justify_content": null,
            "_view_module": "@jupyter-widgets/base",
            "overflow": null,
            "_model_module_version": "1.2.0",
            "_view_count": null,
            "flex_flow": null,
            "width": null,
            "min_width": null,
            "border": null,
            "align_items": null,
            "bottom": null,
            "_model_module": "@jupyter-widgets/base",
            "top": null,
            "grid_column": null,
            "overflow_y": null,
            "overflow_x": null,
            "grid_auto_flow": null,
            "grid_area": null,
            "grid_template_columns": null,
            "flex": null,
            "_model_name": "LayoutModel",
            "justify_items": null,
            "grid_row": null,
            "max_height": null,
            "align_content": null,
            "visibility": null,
            "align_self": null,
            "height": null,
            "min_height": null,
            "padding": null,
            "grid_auto_rows": null,
            "grid_gap": null,
            "max_width": null,
            "order": null,
            "_view_module_version": "1.2.0",
            "grid_template_areas": null,
            "object_position": null,
            "object_fit": null,
            "grid_auto_columns": null,
            "margin": null,
            "display": null,
            "left": null
          }
        },
        "7bb3e2d4cdaa4da2b96f0018d8e9f0c3": {
          "model_module": "@jupyter-widgets/controls",
          "model_name": "DescriptionStyleModel",
          "state": {
            "_view_name": "StyleView",
            "_model_name": "DescriptionStyleModel",
            "description_width": "",
            "_view_module": "@jupyter-widgets/base",
            "_model_module_version": "1.5.0",
            "_view_count": null,
            "_view_module_version": "1.2.0",
            "_model_module": "@jupyter-widgets/controls"
          }
        },
        "51f2037b2dae455a8cc4e5dc3b5f4b41": {
          "model_module": "@jupyter-widgets/base",
          "model_name": "LayoutModel",
          "state": {
            "_view_name": "LayoutView",
            "grid_template_rows": null,
            "right": null,
            "justify_content": null,
            "_view_module": "@jupyter-widgets/base",
            "overflow": null,
            "_model_module_version": "1.2.0",
            "_view_count": null,
            "flex_flow": null,
            "width": null,
            "min_width": null,
            "border": null,
            "align_items": null,
            "bottom": null,
            "_model_module": "@jupyter-widgets/base",
            "top": null,
            "grid_column": null,
            "overflow_y": null,
            "overflow_x": null,
            "grid_auto_flow": null,
            "grid_area": null,
            "grid_template_columns": null,
            "flex": null,
            "_model_name": "LayoutModel",
            "justify_items": null,
            "grid_row": null,
            "max_height": null,
            "align_content": null,
            "visibility": null,
            "align_self": null,
            "height": null,
            "min_height": null,
            "padding": null,
            "grid_auto_rows": null,
            "grid_gap": null,
            "max_width": null,
            "order": null,
            "_view_module_version": "1.2.0",
            "grid_template_areas": null,
            "object_position": null,
            "object_fit": null,
            "grid_auto_columns": null,
            "margin": null,
            "display": null,
            "left": null
          }
        },
        "9fea833141174b0cb2bd7cfbe2bd20c2": {
          "model_module": "@jupyter-widgets/controls",
          "model_name": "HBoxModel",
          "state": {
            "_view_name": "HBoxView",
            "_dom_classes": [],
            "_model_name": "HBoxModel",
            "_view_module": "@jupyter-widgets/controls",
            "_model_module_version": "1.5.0",
            "_view_count": null,
            "_view_module_version": "1.5.0",
            "box_style": "",
            "layout": "IPY_MODEL_c4795974a84f4970b7d766972d8a35d5",
            "_model_module": "@jupyter-widgets/controls",
            "children": [
              "IPY_MODEL_bba33c0c563d45c584420535a25941aa",
              "IPY_MODEL_c4968c8b347c48ecbc5c10a4e2c23d25"
            ]
          }
        },
        "c4795974a84f4970b7d766972d8a35d5": {
          "model_module": "@jupyter-widgets/base",
          "model_name": "LayoutModel",
          "state": {
            "_view_name": "LayoutView",
            "grid_template_rows": null,
            "right": null,
            "justify_content": null,
            "_view_module": "@jupyter-widgets/base",
            "overflow": null,
            "_model_module_version": "1.2.0",
            "_view_count": null,
            "flex_flow": null,
            "width": null,
            "min_width": null,
            "border": null,
            "align_items": null,
            "bottom": null,
            "_model_module": "@jupyter-widgets/base",
            "top": null,
            "grid_column": null,
            "overflow_y": null,
            "overflow_x": null,
            "grid_auto_flow": null,
            "grid_area": null,
            "grid_template_columns": null,
            "flex": null,
            "_model_name": "LayoutModel",
            "justify_items": null,
            "grid_row": null,
            "max_height": null,
            "align_content": null,
            "visibility": null,
            "align_self": null,
            "height": null,
            "min_height": null,
            "padding": null,
            "grid_auto_rows": null,
            "grid_gap": null,
            "max_width": null,
            "order": null,
            "_view_module_version": "1.2.0",
            "grid_template_areas": null,
            "object_position": null,
            "object_fit": null,
            "grid_auto_columns": null,
            "margin": null,
            "display": null,
            "left": null
          }
        },
        "bba33c0c563d45c584420535a25941aa": {
          "model_module": "@jupyter-widgets/controls",
          "model_name": "FloatProgressModel",
          "state": {
            "_view_name": "ProgressView",
            "style": "IPY_MODEL_0d05657fb40d402585899d3cd99c0592",
            "_dom_classes": [],
            "description": "Iteration: 100%",
            "_model_name": "FloatProgressModel",
            "bar_style": "success",
            "max": 120,
            "_view_module": "@jupyter-widgets/controls",
            "_model_module_version": "1.5.0",
            "value": 120,
            "_view_count": null,
            "_view_module_version": "1.5.0",
            "orientation": "horizontal",
            "min": 0,
            "description_tooltip": null,
            "_model_module": "@jupyter-widgets/controls",
            "layout": "IPY_MODEL_132f8da7f9134c0b9dede500766ff033"
          }
        },
        "c4968c8b347c48ecbc5c10a4e2c23d25": {
          "model_module": "@jupyter-widgets/controls",
          "model_name": "HTMLModel",
          "state": {
            "_view_name": "HTMLView",
            "style": "IPY_MODEL_744bd31242514fb684a9813056fa0d44",
            "_dom_classes": [],
            "description": "",
            "_model_name": "HTMLModel",
            "placeholder": "​",
            "_view_module": "@jupyter-widgets/controls",
            "_model_module_version": "1.5.0",
            "value": " 120/120 [00:36&lt;00:00,  3.31it/s]",
            "_view_count": null,
            "_view_module_version": "1.5.0",
            "description_tooltip": null,
            "_model_module": "@jupyter-widgets/controls",
            "layout": "IPY_MODEL_ff94c57fc7fd488ead91882d329f63c3"
          }
        },
        "0d05657fb40d402585899d3cd99c0592": {
          "model_module": "@jupyter-widgets/controls",
          "model_name": "ProgressStyleModel",
          "state": {
            "_view_name": "StyleView",
            "_model_name": "ProgressStyleModel",
            "description_width": "initial",
            "_view_module": "@jupyter-widgets/base",
            "_model_module_version": "1.5.0",
            "_view_count": null,
            "_view_module_version": "1.2.0",
            "bar_color": null,
            "_model_module": "@jupyter-widgets/controls"
          }
        },
        "132f8da7f9134c0b9dede500766ff033": {
          "model_module": "@jupyter-widgets/base",
          "model_name": "LayoutModel",
          "state": {
            "_view_name": "LayoutView",
            "grid_template_rows": null,
            "right": null,
            "justify_content": null,
            "_view_module": "@jupyter-widgets/base",
            "overflow": null,
            "_model_module_version": "1.2.0",
            "_view_count": null,
            "flex_flow": null,
            "width": null,
            "min_width": null,
            "border": null,
            "align_items": null,
            "bottom": null,
            "_model_module": "@jupyter-widgets/base",
            "top": null,
            "grid_column": null,
            "overflow_y": null,
            "overflow_x": null,
            "grid_auto_flow": null,
            "grid_area": null,
            "grid_template_columns": null,
            "flex": null,
            "_model_name": "LayoutModel",
            "justify_items": null,
            "grid_row": null,
            "max_height": null,
            "align_content": null,
            "visibility": null,
            "align_self": null,
            "height": null,
            "min_height": null,
            "padding": null,
            "grid_auto_rows": null,
            "grid_gap": null,
            "max_width": null,
            "order": null,
            "_view_module_version": "1.2.0",
            "grid_template_areas": null,
            "object_position": null,
            "object_fit": null,
            "grid_auto_columns": null,
            "margin": null,
            "display": null,
            "left": null
          }
        },
        "744bd31242514fb684a9813056fa0d44": {
          "model_module": "@jupyter-widgets/controls",
          "model_name": "DescriptionStyleModel",
          "state": {
            "_view_name": "StyleView",
            "_model_name": "DescriptionStyleModel",
            "description_width": "",
            "_view_module": "@jupyter-widgets/base",
            "_model_module_version": "1.5.0",
            "_view_count": null,
            "_view_module_version": "1.2.0",
            "_model_module": "@jupyter-widgets/controls"
          }
        },
        "ff94c57fc7fd488ead91882d329f63c3": {
          "model_module": "@jupyter-widgets/base",
          "model_name": "LayoutModel",
          "state": {
            "_view_name": "LayoutView",
            "grid_template_rows": null,
            "right": null,
            "justify_content": null,
            "_view_module": "@jupyter-widgets/base",
            "overflow": null,
            "_model_module_version": "1.2.0",
            "_view_count": null,
            "flex_flow": null,
            "width": null,
            "min_width": null,
            "border": null,
            "align_items": null,
            "bottom": null,
            "_model_module": "@jupyter-widgets/base",
            "top": null,
            "grid_column": null,
            "overflow_y": null,
            "overflow_x": null,
            "grid_auto_flow": null,
            "grid_area": null,
            "grid_template_columns": null,
            "flex": null,
            "_model_name": "LayoutModel",
            "justify_items": null,
            "grid_row": null,
            "max_height": null,
            "align_content": null,
            "visibility": null,
            "align_self": null,
            "height": null,
            "min_height": null,
            "padding": null,
            "grid_auto_rows": null,
            "grid_gap": null,
            "max_width": null,
            "order": null,
            "_view_module_version": "1.2.0",
            "grid_template_areas": null,
            "object_position": null,
            "object_fit": null,
            "grid_auto_columns": null,
            "margin": null,
            "display": null,
            "left": null
          }
        },
        "89729685898a40888912b9efd96adc04": {
          "model_module": "@jupyter-widgets/controls",
          "model_name": "HBoxModel",
          "state": {
            "_view_name": "HBoxView",
            "_dom_classes": [],
            "_model_name": "HBoxModel",
            "_view_module": "@jupyter-widgets/controls",
            "_model_module_version": "1.5.0",
            "_view_count": null,
            "_view_module_version": "1.5.0",
            "box_style": "",
            "layout": "IPY_MODEL_acd80ab9d8e14284a37d79f41facc914",
            "_model_module": "@jupyter-widgets/controls",
            "children": [
              "IPY_MODEL_e275fe7fe08a4bf2b0e6c948a23855c6",
              "IPY_MODEL_324f358e93e24b86bf13812fd24e04ca"
            ]
          }
        },
        "acd80ab9d8e14284a37d79f41facc914": {
          "model_module": "@jupyter-widgets/base",
          "model_name": "LayoutModel",
          "state": {
            "_view_name": "LayoutView",
            "grid_template_rows": null,
            "right": null,
            "justify_content": null,
            "_view_module": "@jupyter-widgets/base",
            "overflow": null,
            "_model_module_version": "1.2.0",
            "_view_count": null,
            "flex_flow": null,
            "width": null,
            "min_width": null,
            "border": null,
            "align_items": null,
            "bottom": null,
            "_model_module": "@jupyter-widgets/base",
            "top": null,
            "grid_column": null,
            "overflow_y": null,
            "overflow_x": null,
            "grid_auto_flow": null,
            "grid_area": null,
            "grid_template_columns": null,
            "flex": null,
            "_model_name": "LayoutModel",
            "justify_items": null,
            "grid_row": null,
            "max_height": null,
            "align_content": null,
            "visibility": null,
            "align_self": null,
            "height": null,
            "min_height": null,
            "padding": null,
            "grid_auto_rows": null,
            "grid_gap": null,
            "max_width": null,
            "order": null,
            "_view_module_version": "1.2.0",
            "grid_template_areas": null,
            "object_position": null,
            "object_fit": null,
            "grid_auto_columns": null,
            "margin": null,
            "display": null,
            "left": null
          }
        },
        "e275fe7fe08a4bf2b0e6c948a23855c6": {
          "model_module": "@jupyter-widgets/controls",
          "model_name": "FloatProgressModel",
          "state": {
            "_view_name": "ProgressView",
            "style": "IPY_MODEL_0271b5d20a0646c7ae341b7a90a3f195",
            "_dom_classes": [],
            "description": "Iteration: 100%",
            "_model_name": "FloatProgressModel",
            "bar_style": "success",
            "max": 120,
            "_view_module": "@jupyter-widgets/controls",
            "_model_module_version": "1.5.0",
            "value": 120,
            "_view_count": null,
            "_view_module_version": "1.5.0",
            "orientation": "horizontal",
            "min": 0,
            "description_tooltip": null,
            "_model_module": "@jupyter-widgets/controls",
            "layout": "IPY_MODEL_63f87d14558e48a781a17141105ffa4e"
          }
        },
        "324f358e93e24b86bf13812fd24e04ca": {
          "model_module": "@jupyter-widgets/controls",
          "model_name": "HTMLModel",
          "state": {
            "_view_name": "HTMLView",
            "style": "IPY_MODEL_aa8e53f66e1d4c58b1bacd1734248801",
            "_dom_classes": [],
            "description": "",
            "_model_name": "HTMLModel",
            "placeholder": "​",
            "_view_module": "@jupyter-widgets/controls",
            "_model_module_version": "1.5.0",
            "value": " 120/120 [00:36&lt;00:00,  3.28it/s]",
            "_view_count": null,
            "_view_module_version": "1.5.0",
            "description_tooltip": null,
            "_model_module": "@jupyter-widgets/controls",
            "layout": "IPY_MODEL_f5919c77eec64761a769062c157c4455"
          }
        },
        "0271b5d20a0646c7ae341b7a90a3f195": {
          "model_module": "@jupyter-widgets/controls",
          "model_name": "ProgressStyleModel",
          "state": {
            "_view_name": "StyleView",
            "_model_name": "ProgressStyleModel",
            "description_width": "initial",
            "_view_module": "@jupyter-widgets/base",
            "_model_module_version": "1.5.0",
            "_view_count": null,
            "_view_module_version": "1.2.0",
            "bar_color": null,
            "_model_module": "@jupyter-widgets/controls"
          }
        },
        "63f87d14558e48a781a17141105ffa4e": {
          "model_module": "@jupyter-widgets/base",
          "model_name": "LayoutModel",
          "state": {
            "_view_name": "LayoutView",
            "grid_template_rows": null,
            "right": null,
            "justify_content": null,
            "_view_module": "@jupyter-widgets/base",
            "overflow": null,
            "_model_module_version": "1.2.0",
            "_view_count": null,
            "flex_flow": null,
            "width": null,
            "min_width": null,
            "border": null,
            "align_items": null,
            "bottom": null,
            "_model_module": "@jupyter-widgets/base",
            "top": null,
            "grid_column": null,
            "overflow_y": null,
            "overflow_x": null,
            "grid_auto_flow": null,
            "grid_area": null,
            "grid_template_columns": null,
            "flex": null,
            "_model_name": "LayoutModel",
            "justify_items": null,
            "grid_row": null,
            "max_height": null,
            "align_content": null,
            "visibility": null,
            "align_self": null,
            "height": null,
            "min_height": null,
            "padding": null,
            "grid_auto_rows": null,
            "grid_gap": null,
            "max_width": null,
            "order": null,
            "_view_module_version": "1.2.0",
            "grid_template_areas": null,
            "object_position": null,
            "object_fit": null,
            "grid_auto_columns": null,
            "margin": null,
            "display": null,
            "left": null
          }
        },
        "aa8e53f66e1d4c58b1bacd1734248801": {
          "model_module": "@jupyter-widgets/controls",
          "model_name": "DescriptionStyleModel",
          "state": {
            "_view_name": "StyleView",
            "_model_name": "DescriptionStyleModel",
            "description_width": "",
            "_view_module": "@jupyter-widgets/base",
            "_model_module_version": "1.5.0",
            "_view_count": null,
            "_view_module_version": "1.2.0",
            "_model_module": "@jupyter-widgets/controls"
          }
        },
        "f5919c77eec64761a769062c157c4455": {
          "model_module": "@jupyter-widgets/base",
          "model_name": "LayoutModel",
          "state": {
            "_view_name": "LayoutView",
            "grid_template_rows": null,
            "right": null,
            "justify_content": null,
            "_view_module": "@jupyter-widgets/base",
            "overflow": null,
            "_model_module_version": "1.2.0",
            "_view_count": null,
            "flex_flow": null,
            "width": null,
            "min_width": null,
            "border": null,
            "align_items": null,
            "bottom": null,
            "_model_module": "@jupyter-widgets/base",
            "top": null,
            "grid_column": null,
            "overflow_y": null,
            "overflow_x": null,
            "grid_auto_flow": null,
            "grid_area": null,
            "grid_template_columns": null,
            "flex": null,
            "_model_name": "LayoutModel",
            "justify_items": null,
            "grid_row": null,
            "max_height": null,
            "align_content": null,
            "visibility": null,
            "align_self": null,
            "height": null,
            "min_height": null,
            "padding": null,
            "grid_auto_rows": null,
            "grid_gap": null,
            "max_width": null,
            "order": null,
            "_view_module_version": "1.2.0",
            "grid_template_areas": null,
            "object_position": null,
            "object_fit": null,
            "grid_auto_columns": null,
            "margin": null,
            "display": null,
            "left": null
          }
        },
        "c662cb6536c945f7b298e840f6b18e02": {
          "model_module": "@jupyter-widgets/controls",
          "model_name": "HBoxModel",
          "state": {
            "_view_name": "HBoxView",
            "_dom_classes": [],
            "_model_name": "HBoxModel",
            "_view_module": "@jupyter-widgets/controls",
            "_model_module_version": "1.5.0",
            "_view_count": null,
            "_view_module_version": "1.5.0",
            "box_style": "",
            "layout": "IPY_MODEL_ab91f76c633b4be5b15060d4e97d1dcd",
            "_model_module": "@jupyter-widgets/controls",
            "children": [
              "IPY_MODEL_2b49d30b2dc24d5ebc27daeb1b73a7b6",
              "IPY_MODEL_70cf52707cd545668b5213600b490c61"
            ]
          }
        },
        "ab91f76c633b4be5b15060d4e97d1dcd": {
          "model_module": "@jupyter-widgets/base",
          "model_name": "LayoutModel",
          "state": {
            "_view_name": "LayoutView",
            "grid_template_rows": null,
            "right": null,
            "justify_content": null,
            "_view_module": "@jupyter-widgets/base",
            "overflow": null,
            "_model_module_version": "1.2.0",
            "_view_count": null,
            "flex_flow": null,
            "width": null,
            "min_width": null,
            "border": null,
            "align_items": null,
            "bottom": null,
            "_model_module": "@jupyter-widgets/base",
            "top": null,
            "grid_column": null,
            "overflow_y": null,
            "overflow_x": null,
            "grid_auto_flow": null,
            "grid_area": null,
            "grid_template_columns": null,
            "flex": null,
            "_model_name": "LayoutModel",
            "justify_items": null,
            "grid_row": null,
            "max_height": null,
            "align_content": null,
            "visibility": null,
            "align_self": null,
            "height": null,
            "min_height": null,
            "padding": null,
            "grid_auto_rows": null,
            "grid_gap": null,
            "max_width": null,
            "order": null,
            "_view_module_version": "1.2.0",
            "grid_template_areas": null,
            "object_position": null,
            "object_fit": null,
            "grid_auto_columns": null,
            "margin": null,
            "display": null,
            "left": null
          }
        },
        "2b49d30b2dc24d5ebc27daeb1b73a7b6": {
          "model_module": "@jupyter-widgets/controls",
          "model_name": "FloatProgressModel",
          "state": {
            "_view_name": "ProgressView",
            "style": "IPY_MODEL_ab913f9975ac4b2b940a21691344bf4d",
            "_dom_classes": [],
            "description": "Evaluating: 100%",
            "_model_name": "FloatProgressModel",
            "bar_style": "success",
            "max": 15,
            "_view_module": "@jupyter-widgets/controls",
            "_model_module_version": "1.5.0",
            "value": 15,
            "_view_count": null,
            "_view_module_version": "1.5.0",
            "orientation": "horizontal",
            "min": 0,
            "description_tooltip": null,
            "_model_module": "@jupyter-widgets/controls",
            "layout": "IPY_MODEL_66a629c02eb941ee9f18efce109b7dde"
          }
        },
        "70cf52707cd545668b5213600b490c61": {
          "model_module": "@jupyter-widgets/controls",
          "model_name": "HTMLModel",
          "state": {
            "_view_name": "HTMLView",
            "style": "IPY_MODEL_83071cfa09fd49e4a805226953c8d124",
            "_dom_classes": [],
            "description": "",
            "_model_name": "HTMLModel",
            "placeholder": "​",
            "_view_module": "@jupyter-widgets/controls",
            "_model_module_version": "1.5.0",
            "value": " 15/15 [00:00&lt;00:00, 15.66it/s]",
            "_view_count": null,
            "_view_module_version": "1.5.0",
            "description_tooltip": null,
            "_model_module": "@jupyter-widgets/controls",
            "layout": "IPY_MODEL_46175612fc02412fbc17b560002632fe"
          }
        },
        "ab913f9975ac4b2b940a21691344bf4d": {
          "model_module": "@jupyter-widgets/controls",
          "model_name": "ProgressStyleModel",
          "state": {
            "_view_name": "StyleView",
            "_model_name": "ProgressStyleModel",
            "description_width": "initial",
            "_view_module": "@jupyter-widgets/base",
            "_model_module_version": "1.5.0",
            "_view_count": null,
            "_view_module_version": "1.2.0",
            "bar_color": null,
            "_model_module": "@jupyter-widgets/controls"
          }
        },
        "66a629c02eb941ee9f18efce109b7dde": {
          "model_module": "@jupyter-widgets/base",
          "model_name": "LayoutModel",
          "state": {
            "_view_name": "LayoutView",
            "grid_template_rows": null,
            "right": null,
            "justify_content": null,
            "_view_module": "@jupyter-widgets/base",
            "overflow": null,
            "_model_module_version": "1.2.0",
            "_view_count": null,
            "flex_flow": null,
            "width": null,
            "min_width": null,
            "border": null,
            "align_items": null,
            "bottom": null,
            "_model_module": "@jupyter-widgets/base",
            "top": null,
            "grid_column": null,
            "overflow_y": null,
            "overflow_x": null,
            "grid_auto_flow": null,
            "grid_area": null,
            "grid_template_columns": null,
            "flex": null,
            "_model_name": "LayoutModel",
            "justify_items": null,
            "grid_row": null,
            "max_height": null,
            "align_content": null,
            "visibility": null,
            "align_self": null,
            "height": null,
            "min_height": null,
            "padding": null,
            "grid_auto_rows": null,
            "grid_gap": null,
            "max_width": null,
            "order": null,
            "_view_module_version": "1.2.0",
            "grid_template_areas": null,
            "object_position": null,
            "object_fit": null,
            "grid_auto_columns": null,
            "margin": null,
            "display": null,
            "left": null
          }
        },
        "83071cfa09fd49e4a805226953c8d124": {
          "model_module": "@jupyter-widgets/controls",
          "model_name": "DescriptionStyleModel",
          "state": {
            "_view_name": "StyleView",
            "_model_name": "DescriptionStyleModel",
            "description_width": "",
            "_view_module": "@jupyter-widgets/base",
            "_model_module_version": "1.5.0",
            "_view_count": null,
            "_view_module_version": "1.2.0",
            "_model_module": "@jupyter-widgets/controls"
          }
        },
        "46175612fc02412fbc17b560002632fe": {
          "model_module": "@jupyter-widgets/base",
          "model_name": "LayoutModel",
          "state": {
            "_view_name": "LayoutView",
            "grid_template_rows": null,
            "right": null,
            "justify_content": null,
            "_view_module": "@jupyter-widgets/base",
            "overflow": null,
            "_model_module_version": "1.2.0",
            "_view_count": null,
            "flex_flow": null,
            "width": null,
            "min_width": null,
            "border": null,
            "align_items": null,
            "bottom": null,
            "_model_module": "@jupyter-widgets/base",
            "top": null,
            "grid_column": null,
            "overflow_y": null,
            "overflow_x": null,
            "grid_auto_flow": null,
            "grid_area": null,
            "grid_template_columns": null,
            "flex": null,
            "_model_name": "LayoutModel",
            "justify_items": null,
            "grid_row": null,
            "max_height": null,
            "align_content": null,
            "visibility": null,
            "align_self": null,
            "height": null,
            "min_height": null,
            "padding": null,
            "grid_auto_rows": null,
            "grid_gap": null,
            "max_width": null,
            "order": null,
            "_view_module_version": "1.2.0",
            "grid_template_areas": null,
            "object_position": null,
            "object_fit": null,
            "grid_auto_columns": null,
            "margin": null,
            "display": null,
            "left": null
          }
        },
        "30be1cfa955f46898a40bef9df212c30": {
          "model_module": "@jupyter-widgets/controls",
          "model_name": "HBoxModel",
          "state": {
            "_view_name": "HBoxView",
            "_dom_classes": [],
            "_model_name": "HBoxModel",
            "_view_module": "@jupyter-widgets/controls",
            "_model_module_version": "1.5.0",
            "_view_count": null,
            "_view_module_version": "1.5.0",
            "box_style": "",
            "layout": "IPY_MODEL_899c982f5f92473e8ef059dacc9c96c6",
            "_model_module": "@jupyter-widgets/controls",
            "children": [
              "IPY_MODEL_4fc16541884d4c0b90d8c2c21f26a292",
              "IPY_MODEL_76e78dc068344f5eb48257c9ec34d32c"
            ]
          }
        },
        "899c982f5f92473e8ef059dacc9c96c6": {
          "model_module": "@jupyter-widgets/base",
          "model_name": "LayoutModel",
          "state": {
            "_view_name": "LayoutView",
            "grid_template_rows": null,
            "right": null,
            "justify_content": null,
            "_view_module": "@jupyter-widgets/base",
            "overflow": null,
            "_model_module_version": "1.2.0",
            "_view_count": null,
            "flex_flow": null,
            "width": null,
            "min_width": null,
            "border": null,
            "align_items": null,
            "bottom": null,
            "_model_module": "@jupyter-widgets/base",
            "top": null,
            "grid_column": null,
            "overflow_y": null,
            "overflow_x": null,
            "grid_auto_flow": null,
            "grid_area": null,
            "grid_template_columns": null,
            "flex": null,
            "_model_name": "LayoutModel",
            "justify_items": null,
            "grid_row": null,
            "max_height": null,
            "align_content": null,
            "visibility": null,
            "align_self": null,
            "height": null,
            "min_height": null,
            "padding": null,
            "grid_auto_rows": null,
            "grid_gap": null,
            "max_width": null,
            "order": null,
            "_view_module_version": "1.2.0",
            "grid_template_areas": null,
            "object_position": null,
            "object_fit": null,
            "grid_auto_columns": null,
            "margin": null,
            "display": null,
            "left": null
          }
        },
        "4fc16541884d4c0b90d8c2c21f26a292": {
          "model_module": "@jupyter-widgets/controls",
          "model_name": "FloatProgressModel",
          "state": {
            "_view_name": "ProgressView",
            "style": "IPY_MODEL_8277771f7345410099f381845f620979",
            "_dom_classes": [],
            "description": "Downloading: 100%",
            "_model_name": "FloatProgressModel",
            "bar_style": "success",
            "max": 641,
            "_view_module": "@jupyter-widgets/controls",
            "_model_module_version": "1.5.0",
            "value": 641,
            "_view_count": null,
            "_view_module_version": "1.5.0",
            "orientation": "horizontal",
            "min": 0,
            "description_tooltip": null,
            "_model_module": "@jupyter-widgets/controls",
            "layout": "IPY_MODEL_c2b46019aad742ccb9900d9d17835092"
          }
        },
        "76e78dc068344f5eb48257c9ec34d32c": {
          "model_module": "@jupyter-widgets/controls",
          "model_name": "HTMLModel",
          "state": {
            "_view_name": "HTMLView",
            "style": "IPY_MODEL_86aaa2f807df4139add0c383a8d5f3b6",
            "_dom_classes": [],
            "description": "",
            "_model_name": "HTMLModel",
            "placeholder": "​",
            "_view_module": "@jupyter-widgets/controls",
            "_model_module_version": "1.5.0",
            "value": " 641/641 [00:00&lt;00:00, 2.44kB/s]",
            "_view_count": null,
            "_view_module_version": "1.5.0",
            "description_tooltip": null,
            "_model_module": "@jupyter-widgets/controls",
            "layout": "IPY_MODEL_2d8b0fd17bdc41cb81c26e0d49370e3d"
          }
        },
        "8277771f7345410099f381845f620979": {
          "model_module": "@jupyter-widgets/controls",
          "model_name": "ProgressStyleModel",
          "state": {
            "_view_name": "StyleView",
            "_model_name": "ProgressStyleModel",
            "description_width": "initial",
            "_view_module": "@jupyter-widgets/base",
            "_model_module_version": "1.5.0",
            "_view_count": null,
            "_view_module_version": "1.2.0",
            "bar_color": null,
            "_model_module": "@jupyter-widgets/controls"
          }
        },
        "c2b46019aad742ccb9900d9d17835092": {
          "model_module": "@jupyter-widgets/base",
          "model_name": "LayoutModel",
          "state": {
            "_view_name": "LayoutView",
            "grid_template_rows": null,
            "right": null,
            "justify_content": null,
            "_view_module": "@jupyter-widgets/base",
            "overflow": null,
            "_model_module_version": "1.2.0",
            "_view_count": null,
            "flex_flow": null,
            "width": null,
            "min_width": null,
            "border": null,
            "align_items": null,
            "bottom": null,
            "_model_module": "@jupyter-widgets/base",
            "top": null,
            "grid_column": null,
            "overflow_y": null,
            "overflow_x": null,
            "grid_auto_flow": null,
            "grid_area": null,
            "grid_template_columns": null,
            "flex": null,
            "_model_name": "LayoutModel",
            "justify_items": null,
            "grid_row": null,
            "max_height": null,
            "align_content": null,
            "visibility": null,
            "align_self": null,
            "height": null,
            "min_height": null,
            "padding": null,
            "grid_auto_rows": null,
            "grid_gap": null,
            "max_width": null,
            "order": null,
            "_view_module_version": "1.2.0",
            "grid_template_areas": null,
            "object_position": null,
            "object_fit": null,
            "grid_auto_columns": null,
            "margin": null,
            "display": null,
            "left": null
          }
        },
        "86aaa2f807df4139add0c383a8d5f3b6": {
          "model_module": "@jupyter-widgets/controls",
          "model_name": "DescriptionStyleModel",
          "state": {
            "_view_name": "StyleView",
            "_model_name": "DescriptionStyleModel",
            "description_width": "",
            "_view_module": "@jupyter-widgets/base",
            "_model_module_version": "1.5.0",
            "_view_count": null,
            "_view_module_version": "1.2.0",
            "_model_module": "@jupyter-widgets/controls"
          }
        },
        "2d8b0fd17bdc41cb81c26e0d49370e3d": {
          "model_module": "@jupyter-widgets/base",
          "model_name": "LayoutModel",
          "state": {
            "_view_name": "LayoutView",
            "grid_template_rows": null,
            "right": null,
            "justify_content": null,
            "_view_module": "@jupyter-widgets/base",
            "overflow": null,
            "_model_module_version": "1.2.0",
            "_view_count": null,
            "flex_flow": null,
            "width": null,
            "min_width": null,
            "border": null,
            "align_items": null,
            "bottom": null,
            "_model_module": "@jupyter-widgets/base",
            "top": null,
            "grid_column": null,
            "overflow_y": null,
            "overflow_x": null,
            "grid_auto_flow": null,
            "grid_area": null,
            "grid_template_columns": null,
            "flex": null,
            "_model_name": "LayoutModel",
            "justify_items": null,
            "grid_row": null,
            "max_height": null,
            "align_content": null,
            "visibility": null,
            "align_self": null,
            "height": null,
            "min_height": null,
            "padding": null,
            "grid_auto_rows": null,
            "grid_gap": null,
            "max_width": null,
            "order": null,
            "_view_module_version": "1.2.0",
            "grid_template_areas": null,
            "object_position": null,
            "object_fit": null,
            "grid_auto_columns": null,
            "margin": null,
            "display": null,
            "left": null
          }
        },
        "89c9a3add4f04166918c6afe5d034f49": {
          "model_module": "@jupyter-widgets/controls",
          "model_name": "HBoxModel",
          "state": {
            "_view_name": "HBoxView",
            "_dom_classes": [],
            "_model_name": "HBoxModel",
            "_view_module": "@jupyter-widgets/controls",
            "_model_module_version": "1.5.0",
            "_view_count": null,
            "_view_module_version": "1.5.0",
            "box_style": "",
            "layout": "IPY_MODEL_2b5cbacffe4a493faa26458aea343984",
            "_model_module": "@jupyter-widgets/controls",
            "children": [
              "IPY_MODEL_f984e9a4013446ceaf575743b16bb491",
              "IPY_MODEL_ace462db1d36402fa811cf547a42d2b9"
            ]
          }
        },
        "2b5cbacffe4a493faa26458aea343984": {
          "model_module": "@jupyter-widgets/base",
          "model_name": "LayoutModel",
          "state": {
            "_view_name": "LayoutView",
            "grid_template_rows": null,
            "right": null,
            "justify_content": null,
            "_view_module": "@jupyter-widgets/base",
            "overflow": null,
            "_model_module_version": "1.2.0",
            "_view_count": null,
            "flex_flow": null,
            "width": null,
            "min_width": null,
            "border": null,
            "align_items": null,
            "bottom": null,
            "_model_module": "@jupyter-widgets/base",
            "top": null,
            "grid_column": null,
            "overflow_y": null,
            "overflow_x": null,
            "grid_auto_flow": null,
            "grid_area": null,
            "grid_template_columns": null,
            "flex": null,
            "_model_name": "LayoutModel",
            "justify_items": null,
            "grid_row": null,
            "max_height": null,
            "align_content": null,
            "visibility": null,
            "align_self": null,
            "height": null,
            "min_height": null,
            "padding": null,
            "grid_auto_rows": null,
            "grid_gap": null,
            "max_width": null,
            "order": null,
            "_view_module_version": "1.2.0",
            "grid_template_areas": null,
            "object_position": null,
            "object_fit": null,
            "grid_auto_columns": null,
            "margin": null,
            "display": null,
            "left": null
          }
        },
        "f984e9a4013446ceaf575743b16bb491": {
          "model_module": "@jupyter-widgets/controls",
          "model_name": "FloatProgressModel",
          "state": {
            "_view_name": "ProgressView",
            "style": "IPY_MODEL_6ee9f500fe7147f99eb265c601b8478d",
            "_dom_classes": [],
            "description": "Downloading: 100%",
            "_model_name": "FloatProgressModel",
            "bar_style": "success",
            "max": 1042301,
            "_view_module": "@jupyter-widgets/controls",
            "_model_module_version": "1.5.0",
            "value": 1042301,
            "_view_count": null,
            "_view_module_version": "1.5.0",
            "orientation": "horizontal",
            "min": 0,
            "description_tooltip": null,
            "_model_module": "@jupyter-widgets/controls",
            "layout": "IPY_MODEL_d5727e371beb491db696dce824cc6a43"
          }
        },
        "ace462db1d36402fa811cf547a42d2b9": {
          "model_module": "@jupyter-widgets/controls",
          "model_name": "HTMLModel",
          "state": {
            "_view_name": "HTMLView",
            "style": "IPY_MODEL_9b5fcce3aa4a45338798d393c1493a0b",
            "_dom_classes": [],
            "description": "",
            "_model_name": "HTMLModel",
            "placeholder": "​",
            "_view_module": "@jupyter-widgets/controls",
            "_model_module_version": "1.5.0",
            "value": " 1.04M/1.04M [00:02&lt;00:00, 520kB/s]",
            "_view_count": null,
            "_view_module_version": "1.5.0",
            "description_tooltip": null,
            "_model_module": "@jupyter-widgets/controls",
            "layout": "IPY_MODEL_84fe424032d04be0b89e65c2991cb7eb"
          }
        },
        "6ee9f500fe7147f99eb265c601b8478d": {
          "model_module": "@jupyter-widgets/controls",
          "model_name": "ProgressStyleModel",
          "state": {
            "_view_name": "StyleView",
            "_model_name": "ProgressStyleModel",
            "description_width": "initial",
            "_view_module": "@jupyter-widgets/base",
            "_model_module_version": "1.5.0",
            "_view_count": null,
            "_view_module_version": "1.2.0",
            "bar_color": null,
            "_model_module": "@jupyter-widgets/controls"
          }
        },
        "d5727e371beb491db696dce824cc6a43": {
          "model_module": "@jupyter-widgets/base",
          "model_name": "LayoutModel",
          "state": {
            "_view_name": "LayoutView",
            "grid_template_rows": null,
            "right": null,
            "justify_content": null,
            "_view_module": "@jupyter-widgets/base",
            "overflow": null,
            "_model_module_version": "1.2.0",
            "_view_count": null,
            "flex_flow": null,
            "width": null,
            "min_width": null,
            "border": null,
            "align_items": null,
            "bottom": null,
            "_model_module": "@jupyter-widgets/base",
            "top": null,
            "grid_column": null,
            "overflow_y": null,
            "overflow_x": null,
            "grid_auto_flow": null,
            "grid_area": null,
            "grid_template_columns": null,
            "flex": null,
            "_model_name": "LayoutModel",
            "justify_items": null,
            "grid_row": null,
            "max_height": null,
            "align_content": null,
            "visibility": null,
            "align_self": null,
            "height": null,
            "min_height": null,
            "padding": null,
            "grid_auto_rows": null,
            "grid_gap": null,
            "max_width": null,
            "order": null,
            "_view_module_version": "1.2.0",
            "grid_template_areas": null,
            "object_position": null,
            "object_fit": null,
            "grid_auto_columns": null,
            "margin": null,
            "display": null,
            "left": null
          }
        },
        "9b5fcce3aa4a45338798d393c1493a0b": {
          "model_module": "@jupyter-widgets/controls",
          "model_name": "DescriptionStyleModel",
          "state": {
            "_view_name": "StyleView",
            "_model_name": "DescriptionStyleModel",
            "description_width": "",
            "_view_module": "@jupyter-widgets/base",
            "_model_module_version": "1.5.0",
            "_view_count": null,
            "_view_module_version": "1.2.0",
            "_model_module": "@jupyter-widgets/controls"
          }
        },
        "84fe424032d04be0b89e65c2991cb7eb": {
          "model_module": "@jupyter-widgets/base",
          "model_name": "LayoutModel",
          "state": {
            "_view_name": "LayoutView",
            "grid_template_rows": null,
            "right": null,
            "justify_content": null,
            "_view_module": "@jupyter-widgets/base",
            "overflow": null,
            "_model_module_version": "1.2.0",
            "_view_count": null,
            "flex_flow": null,
            "width": null,
            "min_width": null,
            "border": null,
            "align_items": null,
            "bottom": null,
            "_model_module": "@jupyter-widgets/base",
            "top": null,
            "grid_column": null,
            "overflow_y": null,
            "overflow_x": null,
            "grid_auto_flow": null,
            "grid_area": null,
            "grid_template_columns": null,
            "flex": null,
            "_model_name": "LayoutModel",
            "justify_items": null,
            "grid_row": null,
            "max_height": null,
            "align_content": null,
            "visibility": null,
            "align_self": null,
            "height": null,
            "min_height": null,
            "padding": null,
            "grid_auto_rows": null,
            "grid_gap": null,
            "max_width": null,
            "order": null,
            "_view_module_version": "1.2.0",
            "grid_template_areas": null,
            "object_position": null,
            "object_fit": null,
            "grid_auto_columns": null,
            "margin": null,
            "display": null,
            "left": null
          }
        },
        "1d81d3a176c24361b7470e047281b5b0": {
          "model_module": "@jupyter-widgets/controls",
          "model_name": "HBoxModel",
          "state": {
            "_view_name": "HBoxView",
            "_dom_classes": [],
            "_model_name": "HBoxModel",
            "_view_module": "@jupyter-widgets/controls",
            "_model_module_version": "1.5.0",
            "_view_count": null,
            "_view_module_version": "1.5.0",
            "box_style": "",
            "layout": "IPY_MODEL_318cf8c9dc474cca908a4261a8abbd80",
            "_model_module": "@jupyter-widgets/controls",
            "children": [
              "IPY_MODEL_c63cf4f10d9e4e509901e20de9cc47c5",
              "IPY_MODEL_1e709e4c2deb4238a8a347529fdc3895"
            ]
          }
        },
        "318cf8c9dc474cca908a4261a8abbd80": {
          "model_module": "@jupyter-widgets/base",
          "model_name": "LayoutModel",
          "state": {
            "_view_name": "LayoutView",
            "grid_template_rows": null,
            "right": null,
            "justify_content": null,
            "_view_module": "@jupyter-widgets/base",
            "overflow": null,
            "_model_module_version": "1.2.0",
            "_view_count": null,
            "flex_flow": null,
            "width": null,
            "min_width": null,
            "border": null,
            "align_items": null,
            "bottom": null,
            "_model_module": "@jupyter-widgets/base",
            "top": null,
            "grid_column": null,
            "overflow_y": null,
            "overflow_x": null,
            "grid_auto_flow": null,
            "grid_area": null,
            "grid_template_columns": null,
            "flex": null,
            "_model_name": "LayoutModel",
            "justify_items": null,
            "grid_row": null,
            "max_height": null,
            "align_content": null,
            "visibility": null,
            "align_self": null,
            "height": null,
            "min_height": null,
            "padding": null,
            "grid_auto_rows": null,
            "grid_gap": null,
            "max_width": null,
            "order": null,
            "_view_module_version": "1.2.0",
            "grid_template_areas": null,
            "object_position": null,
            "object_fit": null,
            "grid_auto_columns": null,
            "margin": null,
            "display": null,
            "left": null
          }
        },
        "c63cf4f10d9e4e509901e20de9cc47c5": {
          "model_module": "@jupyter-widgets/controls",
          "model_name": "FloatProgressModel",
          "state": {
            "_view_name": "ProgressView",
            "style": "IPY_MODEL_70f2ecc8a7ba49c5b6d9e9c35c135cbd",
            "_dom_classes": [],
            "description": "Downloading: 100%",
            "_model_name": "FloatProgressModel",
            "bar_style": "success",
            "max": 456318,
            "_view_module": "@jupyter-widgets/controls",
            "_model_module_version": "1.5.0",
            "value": 456318,
            "_view_count": null,
            "_view_module_version": "1.5.0",
            "orientation": "horizontal",
            "min": 0,
            "description_tooltip": null,
            "_model_module": "@jupyter-widgets/controls",
            "layout": "IPY_MODEL_670b8132f234426eab4e0ab1b24ffa8d"
          }
        },
        "1e709e4c2deb4238a8a347529fdc3895": {
          "model_module": "@jupyter-widgets/controls",
          "model_name": "HTMLModel",
          "state": {
            "_view_name": "HTMLView",
            "style": "IPY_MODEL_5de396c2180446a486514cd6bef8b1a5",
            "_dom_classes": [],
            "description": "",
            "_model_name": "HTMLModel",
            "placeholder": "​",
            "_view_module": "@jupyter-widgets/controls",
            "_model_module_version": "1.5.0",
            "value": " 456k/456k [00:01&lt;00:00, 384kB/s]",
            "_view_count": null,
            "_view_module_version": "1.5.0",
            "description_tooltip": null,
            "_model_module": "@jupyter-widgets/controls",
            "layout": "IPY_MODEL_290231b088594c0788612d2cb35436fb"
          }
        },
        "70f2ecc8a7ba49c5b6d9e9c35c135cbd": {
          "model_module": "@jupyter-widgets/controls",
          "model_name": "ProgressStyleModel",
          "state": {
            "_view_name": "StyleView",
            "_model_name": "ProgressStyleModel",
            "description_width": "initial",
            "_view_module": "@jupyter-widgets/base",
            "_model_module_version": "1.5.0",
            "_view_count": null,
            "_view_module_version": "1.2.0",
            "bar_color": null,
            "_model_module": "@jupyter-widgets/controls"
          }
        },
        "670b8132f234426eab4e0ab1b24ffa8d": {
          "model_module": "@jupyter-widgets/base",
          "model_name": "LayoutModel",
          "state": {
            "_view_name": "LayoutView",
            "grid_template_rows": null,
            "right": null,
            "justify_content": null,
            "_view_module": "@jupyter-widgets/base",
            "overflow": null,
            "_model_module_version": "1.2.0",
            "_view_count": null,
            "flex_flow": null,
            "width": null,
            "min_width": null,
            "border": null,
            "align_items": null,
            "bottom": null,
            "_model_module": "@jupyter-widgets/base",
            "top": null,
            "grid_column": null,
            "overflow_y": null,
            "overflow_x": null,
            "grid_auto_flow": null,
            "grid_area": null,
            "grid_template_columns": null,
            "flex": null,
            "_model_name": "LayoutModel",
            "justify_items": null,
            "grid_row": null,
            "max_height": null,
            "align_content": null,
            "visibility": null,
            "align_self": null,
            "height": null,
            "min_height": null,
            "padding": null,
            "grid_auto_rows": null,
            "grid_gap": null,
            "max_width": null,
            "order": null,
            "_view_module_version": "1.2.0",
            "grid_template_areas": null,
            "object_position": null,
            "object_fit": null,
            "grid_auto_columns": null,
            "margin": null,
            "display": null,
            "left": null
          }
        },
        "5de396c2180446a486514cd6bef8b1a5": {
          "model_module": "@jupyter-widgets/controls",
          "model_name": "DescriptionStyleModel",
          "state": {
            "_view_name": "StyleView",
            "_model_name": "DescriptionStyleModel",
            "description_width": "",
            "_view_module": "@jupyter-widgets/base",
            "_model_module_version": "1.5.0",
            "_view_count": null,
            "_view_module_version": "1.2.0",
            "_model_module": "@jupyter-widgets/controls"
          }
        },
        "290231b088594c0788612d2cb35436fb": {
          "model_module": "@jupyter-widgets/base",
          "model_name": "LayoutModel",
          "state": {
            "_view_name": "LayoutView",
            "grid_template_rows": null,
            "right": null,
            "justify_content": null,
            "_view_module": "@jupyter-widgets/base",
            "overflow": null,
            "_model_module_version": "1.2.0",
            "_view_count": null,
            "flex_flow": null,
            "width": null,
            "min_width": null,
            "border": null,
            "align_items": null,
            "bottom": null,
            "_model_module": "@jupyter-widgets/base",
            "top": null,
            "grid_column": null,
            "overflow_y": null,
            "overflow_x": null,
            "grid_auto_flow": null,
            "grid_area": null,
            "grid_template_columns": null,
            "flex": null,
            "_model_name": "LayoutModel",
            "justify_items": null,
            "grid_row": null,
            "max_height": null,
            "align_content": null,
            "visibility": null,
            "align_self": null,
            "height": null,
            "min_height": null,
            "padding": null,
            "grid_auto_rows": null,
            "grid_gap": null,
            "max_width": null,
            "order": null,
            "_view_module_version": "1.2.0",
            "grid_template_areas": null,
            "object_position": null,
            "object_fit": null,
            "grid_auto_columns": null,
            "margin": null,
            "display": null,
            "left": null
          }
        }
      }
    }
  },
  "cells": [
    {
      "cell_type": "markdown",
      "metadata": {
        "id": "7KrNfVNueNhR"
      },
      "source": [
        "# DialoGPT fine-tuning Chatbot\n"
      ]
    },
    {
      "cell_type": "markdown",
      "metadata": {
        "id": "dLaJbr59BlYA"
      },
      "source": [
        "## Set up drive"
      ]
    },
    {
      "cell_type": "code",
      "metadata": {
        "id": "sgL1yLLS09mP",
        "colab": {
          "base_uri": "https://localhost:8080/"
        },
        "outputId": "16a58fd4-e162-47c5-e04c-10c5a466dfe4"
      },
      "source": [
        "from google.colab import drive\n",
        "drive.mount('/content/drive/')"
      ],
      "execution_count": 1,
      "outputs": [
        {
          "output_type": "stream",
          "text": [
            "Mounted at /content/drive/\n"
          ],
          "name": "stdout"
        }
      ]
    },
    {
      "cell_type": "code",
      "metadata": {
        "id": "onU41i8g1J3M",
        "colab": {
          "base_uri": "https://localhost:8080/"
        },
        "outputId": "4c1dbc49-0ecd-4c29-9150-150f77618d4e"
      },
      "source": [
        "! pip -q install transformers"
      ],
      "execution_count": 2,
      "outputs": [
        {
          "output_type": "stream",
          "text": [
            "\u001b[K     |████████████████████████████████| 1.5MB 12.8MB/s \n",
            "\u001b[K     |████████████████████████████████| 2.9MB 56.6MB/s \n",
            "\u001b[K     |████████████████████████████████| 890kB 43.1MB/s \n",
            "\u001b[?25h  Building wheel for sacremoses (setup.py) ... \u001b[?25l\u001b[?25hdone\n"
          ],
          "name": "stdout"
        }
      ]
    },
    {
      "cell_type": "code",
      "metadata": {
        "id": "OHNacD0k1HI3"
      },
      "source": [
        "import os\n",
        "os.chdir(\"/content/drive/My Drive/Colab\")"
      ],
      "execution_count": 3,
      "outputs": []
    },
    {
      "cell_type": "code",
      "metadata": {
        "id": "Jg8RH0-27beq",
        "colab": {
          "base_uri": "https://localhost:8080/"
        },
        "outputId": "53a40380-f47b-4e99-9d45-bcbe5f6aff23"
      },
      "source": [
        "# cd Colab/\n",
        "!ls"
      ],
      "execution_count": 4,
      "outputs": [
        {
          "output_type": "stream",
          "text": [
            "cached\t  GoogleNews-vectors-negative300.bin  gpt2-results.txt\t report2.gdoc\n",
            "data-eng  GPT2-finetune\t\t\t      nltk_data\t\t runs\n",
            "data.zip  gpt2-results-conversation.txt       output-small-save\n"
          ],
          "name": "stdout"
        }
      ]
    },
    {
      "cell_type": "markdown",
      "metadata": {
        "id": "4hyTyW7Le2Sb"
      },
      "source": [
        "## First dialogue with DialoGPT"
      ]
    },
    {
      "cell_type": "markdown",
      "metadata": {
        "id": "HEqpXb4ofFGd"
      },
      "source": [
        "We will conduct all our experiments in Google Colab, its resources are enough to train the small DialoGPT model. Firstly, we will connect to Google Drive and install the necessary modules."
      ]
    },
    {
      "cell_type": "markdown",
      "metadata": {
        "id": "d7Y1XcsqgXBQ"
      },
      "source": [
        "Let's move to the desired folder in which we will store all our data."
      ]
    },
    {
      "cell_type": "markdown",
      "metadata": {
        "id": "zVSTlysV2jaM"
      },
      "source": [
        "Try to chat with DialoGPT without fine-tuning."
      ]
    },
    {
      "cell_type": "code",
      "metadata": {
        "id": "w6qrl7_SvPKg",
        "colab": {
          "base_uri": "https://localhost:8080/",
          "height": 267,
          "referenced_widgets": [
            "b70c3514eb584cf7b66df3867753785c",
            "d8434f4f43b944d397e966ba72e76251",
            "7bb44bcec2db46e5bb9e165af79884c1",
            "e42c52d7ec934c0da04e2ffe90470723",
            "6ba86e62422643318033fb25b85dc79a",
            "63f170a53b6a4f1085cac6cbb7f3b421",
            "1ed84948cd944654a3775f5c16fd1dd0",
            "f2ed9a98097e4fcf82706ba23a835cbe",
            "c132bdff2e194616914c7674dd9d162b",
            "bd9340a867324e66adc3f4fc568dbf46",
            "2207177ac5f14f2f8e0fdc3b0645b5ab",
            "848eb5924ec94963935c69e2ad225e13",
            "12adf750b486454994ae19f193cc010b",
            "7135269d5629422daa85d7c6d6aeb6bc",
            "2b0cfb83988843cbb0724a2692210d5e",
            "63827ec5e69c4e21be14d8ffe52f6ef4",
            "a8423732cc854f9c878fdc0821f2f9be",
            "2f828f4019fb4c37816e1c51a5405397",
            "9ef038419c354367b3f2ec25caad9e9a",
            "b53e01d0f7b748bf8208ff1e017523d8",
            "c76a295ec1ac4dc7a3e6a505260471ce",
            "8a3eb1ca6eb9404e860f405f9f59611f",
            "975b292f2f0e4dd0b03317ae6cd34d11",
            "fc9db838ca834d75adaef2a572b5d73b",
            "9f4c487a79c045b1be4dc5a3d9f38688",
            "1d27cb3bf2704fe19477daf0a9267699",
            "513a29c582e54304bba0a6b3b4438f38",
            "81f1b2696e1e4e95ad818038b635f915",
            "a68ff01c94164ff4bd7003f467958265",
            "39526a4365024a22ab8ef37d5b4e133e",
            "e69c797bf34e43c0b90a6efd40aa3db3",
            "0cf6fbb4f011443198aced8ff8f31b85"
          ]
        },
        "outputId": "c073f045-9711-42f0-d43b-083ea7d1d2d7"
      },
      "source": [
        "from transformers import AutoModelWithLMHead, AutoTokenizer\n",
        "import torch\n",
        "\n",
        "tokenizer = AutoTokenizer.from_pretrained(\"microsoft/DialoGPT-small\")\n",
        "model = AutoModelWithLMHead.from_pretrained(\"microsoft/DialoGPT-small\")"
      ],
      "execution_count": 5,
      "outputs": [
        {
          "output_type": "display_data",
          "data": {
            "application/vnd.jupyter.widget-view+json": {
              "model_id": "b70c3514eb584cf7b66df3867753785c",
              "version_minor": 0,
              "version_major": 2
            },
            "text/plain": [
              "HBox(children=(FloatProgress(value=0.0, description='Downloading', max=641.0, style=ProgressStyle(description_…"
            ]
          },
          "metadata": {
            "tags": []
          }
        },
        {
          "output_type": "stream",
          "text": [
            "\n"
          ],
          "name": "stdout"
        },
        {
          "output_type": "display_data",
          "data": {
            "application/vnd.jupyter.widget-view+json": {
              "model_id": "c132bdff2e194616914c7674dd9d162b",
              "version_minor": 0,
              "version_major": 2
            },
            "text/plain": [
              "HBox(children=(FloatProgress(value=0.0, description='Downloading', max=1042301.0, style=ProgressStyle(descript…"
            ]
          },
          "metadata": {
            "tags": []
          }
        },
        {
          "output_type": "stream",
          "text": [
            "\n"
          ],
          "name": "stdout"
        },
        {
          "output_type": "display_data",
          "data": {
            "application/vnd.jupyter.widget-view+json": {
              "model_id": "a8423732cc854f9c878fdc0821f2f9be",
              "version_minor": 0,
              "version_major": 2
            },
            "text/plain": [
              "HBox(children=(FloatProgress(value=0.0, description='Downloading', max=456318.0, style=ProgressStyle(descripti…"
            ]
          },
          "metadata": {
            "tags": []
          }
        },
        {
          "output_type": "stream",
          "text": [
            "\n"
          ],
          "name": "stdout"
        },
        {
          "output_type": "stream",
          "text": [
            "/usr/local/lib/python3.6/dist-packages/transformers/models/auto/modeling_auto.py:890: FutureWarning: The class `AutoModelWithLMHead` is deprecated and will be removed in a future version. Please use `AutoModelForCausalLM` for causal language models, `AutoModelForMaskedLM` for masked language models and `AutoModelForSeq2SeqLM` for encoder-decoder models.\n",
            "  FutureWarning,\n"
          ],
          "name": "stderr"
        },
        {
          "output_type": "display_data",
          "data": {
            "application/vnd.jupyter.widget-view+json": {
              "model_id": "9f4c487a79c045b1be4dc5a3d9f38688",
              "version_minor": 0,
              "version_major": 2
            },
            "text/plain": [
              "HBox(children=(FloatProgress(value=0.0, description='Downloading', max=351265583.0, style=ProgressStyle(descri…"
            ]
          },
          "metadata": {
            "tags": []
          }
        },
        {
          "output_type": "stream",
          "text": [
            "\n"
          ],
          "name": "stdout"
        }
      ]
    },
    {
      "cell_type": "code",
      "metadata": {
        "id": "CjZaN5ilgd-z",
        "colab": {
          "base_uri": "https://localhost:8080/"
        },
        "outputId": "7467a7a4-b7b0-40a0-eaf8-47fb01b75dad"
      },
      "source": [
        "# Let's chat for 5 lines\n",
        "for step in range(5):\n",
        "    # encode the new user input, add the eos_token and return a tensor in Pytorch\n",
        "    new_user_input_ids = tokenizer.encode(input(\">> User:\") + tokenizer.eos_token, return_tensors='pt')\n",
        "\n",
        "    # append the new user input tokens to the chat history\n",
        "    bot_input_ids = torch.cat([chat_history_ids, new_user_input_ids], dim=-1) if step > 0 else new_user_input_ids\n",
        "\n",
        "    # generated a response while limiting the total chat history to 1000 tokens    \n",
        "    chat_history_ids = model.generate(\n",
        "    bot_input_ids, max_length=1000,\n",
        "    pad_token_id=tokenizer.eos_token_id\n",
        "    )\n",
        "\n",
        "    # pretty print last ouput tokens from bot\n",
        "    print(\"DialoGPT: {}\".format(tokenizer.decode(chat_history_ids[:, bot_input_ids.shape[-1]:][0], skip_special_tokens=True)))"
      ],
      "execution_count": 6,
      "outputs": [
        {
          "output_type": "stream",
          "text": [
            ">> User:hello doctor\n",
            "DialoGPT: I'm not your friend, doc.\n",
            ">> User:i have cold symptoms\n",
            "DialoGPT: I have cold symptoms\n",
            ">> User:what is this\n",
            "DialoGPT: I have cold symptoms\n",
            ">> User:oh no\n",
            "DialoGPT: oh no\n",
            ">> User:bye\n",
            "DialoGPT: oh no\n"
          ],
          "name": "stdout"
        }
      ]
    },
    {
      "cell_type": "markdown",
      "metadata": {
        "id": "IuzSROqxjUKM"
      },
      "source": [
        "## Model initial configuration"
      ]
    },
    {
      "cell_type": "markdown",
      "metadata": {
        "id": "TC3qNlfp30aU"
      },
      "source": [
        "For start, we will need basic configuration and a dataset.\n",
        "Configuration and training scripts are mostly based on this [script](https://github.com/huggingface/transformers/tree/master/examples/language-modeling) from Huggingface and great [tutorial](https://nathancooper.io/i-am-a-nerd/chatbot/deep-learning/gpt2/2020/05/12/chatbot-part-1.html) from Nathan Cooper."
      ]
    },
    {
      "cell_type": "code",
      "metadata": {
        "id": "g91QzdqU2haO"
      },
      "source": [
        "\"\"\"\n",
        "Fine-tuning the library models for language modeling on a text file (GPT, GPT-2, BERT, RoBERTa).\n",
        "GPT and GPT-2 are fine-tuned using a causal language modeling (CLM) loss while BERT and RoBERTa are fine-tuned\n",
        "using a masked language modeling (MLM) loss.\n",
        "\"\"\"\n",
        "\n",
        "import glob\n",
        "import logging\n",
        "import os\n",
        "import pickle\n",
        "import random\n",
        "import re\n",
        "import shutil\n",
        "from typing import Dict, List, Tuple\n",
        "\n",
        "import pandas as pd\n",
        "import numpy as np\n",
        "import torch\n",
        "\n",
        "from sklearn.model_selection import train_test_split\n",
        "\n",
        "from torch.nn.utils.rnn import pad_sequence\n",
        "from torch.utils.data import DataLoader, Dataset, RandomSampler, SequentialSampler\n",
        "from torch.utils.data.distributed import DistributedSampler\n",
        "from tqdm.notebook import tqdm, trange\n",
        "\n",
        "from pathlib import Path\n",
        "\n",
        "from transformers import (\n",
        "    MODEL_WITH_LM_HEAD_MAPPING,\n",
        "    WEIGHTS_NAME,\n",
        "    AdamW,\n",
        "    AutoConfig,\n",
        "    AutoModelWithLMHead,\n",
        "    AutoTokenizer,\n",
        "    PreTrainedModel,\n",
        "    PreTrainedTokenizer,\n",
        "    get_linear_schedule_with_warmup,\n",
        ")\n",
        "\n",
        "\n",
        "try:\n",
        "    from torch.utils.tensorboard import SummaryWriter\n",
        "except ImportError:\n",
        "    from tensorboardX import SummaryWriter\n",
        "\n",
        "# Configs\n",
        "logger = logging.getLogger(__name__)\n",
        "\n",
        "MODEL_CONFIG_CLASSES = list(MODEL_WITH_LM_HEAD_MAPPING.keys())\n",
        "MODEL_TYPES = tuple(conf.model_type for conf in MODEL_CONFIG_CLASSES)"
      ],
      "execution_count": 7,
      "outputs": []
    },
    {
      "cell_type": "code",
      "metadata": {
        "id": "utprDGf06OVt"
      },
      "source": [
        "# Args to allow for easy convertion of python script to notebook\n",
        "class Args():\n",
        "    def __init__(self):\n",
        "        self.output_dir = 'output-small-save'\n",
        "        self.model_type = 'gpt2'\n",
        "        self.model_name_or_path = 'microsoft/DialoGPT-small'\n",
        "        self.config_name = 'microsoft/DialoGPT-small'\n",
        "        self.tokenizer_name = 'microsoft/DialoGPT-small'\n",
        "        self.cache_dir = 'cached'\n",
        "        self.block_size = 512\n",
        "        self.do_train = True\n",
        "        self.do_eval = True\n",
        "        self.evaluate_during_training = False\n",
        "        self.per_gpu_train_batch_size = 4\n",
        "        self.per_gpu_eval_batch_size = 4\n",
        "        self.gradient_accumulation_steps = 1\n",
        "        self.learning_rate = 5e-5\n",
        "        self.weight_decay = 0.0\n",
        "        self.adam_epsilon = 1e-8\n",
        "        self.max_grad_norm = 1.0\n",
        "        self.num_train_epochs = 3\n",
        "        self.max_steps = -1\n",
        "        self.warmup_steps = 0\n",
        "        self.logging_steps = 1000\n",
        "        self.save_steps = 3500\n",
        "        self.save_total_limit = None\n",
        "        self.eval_all_checkpoints = False\n",
        "        self.no_cuda = False\n",
        "        self.overwrite_output_dir = True\n",
        "        self.overwrite_cache = True\n",
        "        self.should_continue = False\n",
        "        self.seed = 42\n",
        "        self.local_rank = -1\n",
        "        self.fp16 = False\n",
        "        self.fp16_opt_level = 'O1'\n",
        "\n",
        "args = Args()"
      ],
      "execution_count": 8,
      "outputs": []
    },
    {
      "cell_type": "markdown",
      "metadata": {
        "id": "LzUQGhffFknn"
      },
      "source": [
        "## Prepare Covid dataset"
      ]
    },
    {
      "cell_type": "code",
      "metadata": {
        "id": "vaAqugbGG9XD"
      },
      "source": [
        "import json\n",
        "\n",
        "f_train = open(\"data-eng/train_data.json\")\n",
        "train_data = json.load(f_train)\n",
        "f_train.close()\n",
        "# print(len(train_data))\n",
        "\n",
        "\n",
        "f_validate = open(\"data-eng/validate_data.json\")\n",
        "validate_data = json.load(f_validate)\n",
        "f_validate.close()\n",
        "# print(len(validate_data))\n"
      ],
      "execution_count": 9,
      "outputs": []
    },
    {
      "cell_type": "code",
      "metadata": {
        "id": "kk126BWvS_bP"
      },
      "source": [
        "train_contexted = []\n",
        "train_data = train_data\n",
        " \n",
        "for i in range(len(train_data)):\n",
        "  row = []\n",
        "  row.append(train_data[i][1])\n",
        "  row.append(train_data[i][0])\n",
        "  train_contexted.append(row)  "
      ],
      "execution_count": 10,
      "outputs": []
    },
    {
      "cell_type": "code",
      "metadata": {
        "id": "j2J587UqknoE"
      },
      "source": [
        "validate_contexted = []\n",
        "\n",
        "for i in range(len(validate_data)):\n",
        "  row = []\n",
        "  row.append(validate_data[i][1])\n",
        "  row.append(validate_data[i][0])\n",
        "  validate_contexted.append(row)  "
      ],
      "execution_count": 11,
      "outputs": []
    },
    {
      "cell_type": "code",
      "metadata": {
        "colab": {
          "base_uri": "https://localhost:8080/"
        },
        "id": "XVh4Ch2dG0Q2",
        "outputId": "bcdc40a6-c665-4288-ad3d-c002dc264da6"
      },
      "source": [
        "columns = ['response', 'context'] \n",
        "columns = columns + ['context/'+str(i) for i in range(0)]\n",
        "columns"
      ],
      "execution_count": 12,
      "outputs": [
        {
          "output_type": "execute_result",
          "data": {
            "text/plain": [
              "['response', 'context']"
            ]
          },
          "metadata": {
            "tags": []
          },
          "execution_count": 12
        }
      ]
    },
    {
      "cell_type": "code",
      "metadata": {
        "colab": {
          "base_uri": "https://localhost:8080/",
          "height": 204
        },
        "id": "eBnN4DGrk2qp",
        "outputId": "33d8527d-e6db-419c-eff4-324baca2227f"
      },
      "source": [
        "len(train_contexted)\n",
        "trn_df = pd.DataFrame.from_records(train_contexted, columns=columns)\n",
        "trn_df.head(5)"
      ],
      "execution_count": 13,
      "outputs": [
        {
          "output_type": "execute_result",
          "data": {
            "text/html": [
              "<div>\n",
              "<style scoped>\n",
              "    .dataframe tbody tr th:only-of-type {\n",
              "        vertical-align: middle;\n",
              "    }\n",
              "\n",
              "    .dataframe tbody tr th {\n",
              "        vertical-align: top;\n",
              "    }\n",
              "\n",
              "    .dataframe thead th {\n",
              "        text-align: right;\n",
              "    }\n",
              "</style>\n",
              "<table border=\"1\" class=\"dataframe\">\n",
              "  <thead>\n",
              "    <tr style=\"text-align: right;\">\n",
              "      <th></th>\n",
              "      <th>response</th>\n",
              "      <th>context</th>\n",
              "    </tr>\n",
              "  </thead>\n",
              "  <tbody>\n",
              "    <tr>\n",
              "      <th>0</th>\n",
              "      <td>Hello, I understand your concern. I just have ...</td>\n",
              "      <td>Hello doctor, I get a cough for the last few d...</td>\n",
              "    </tr>\n",
              "    <tr>\n",
              "      <th>1</th>\n",
              "      <td>Hello, I can understand your concern.In my opi...</td>\n",
              "      <td>Hello doctor, I am suffering from coughing, th...</td>\n",
              "    </tr>\n",
              "    <tr>\n",
              "      <th>2</th>\n",
              "      <td>Hello. Anxiety can manifest itself in physical...</td>\n",
              "      <td>Hello doctor,I am a 23-year-old man. I have an...</td>\n",
              "    </tr>\n",
              "    <tr>\n",
              "      <th>3</th>\n",
              "      <td>Hello,please answer the following:Any travel h...</td>\n",
              "      <td>Hello doctor,Last night I was getting chills, ...</td>\n",
              "    </tr>\n",
              "    <tr>\n",
              "      <th>4</th>\n",
              "      <td>Hello and welcome to Ask A Doctor service.I ha...</td>\n",
              "      <td>Hi, I am Chaitanya, 27 years old. I use to swi...</td>\n",
              "    </tr>\n",
              "  </tbody>\n",
              "</table>\n",
              "</div>"
            ],
            "text/plain": [
              "                                            response                                            context\n",
              "0  Hello, I understand your concern. I just have ...  Hello doctor, I get a cough for the last few d...\n",
              "1  Hello, I can understand your concern.In my opi...  Hello doctor, I am suffering from coughing, th...\n",
              "2  Hello. Anxiety can manifest itself in physical...  Hello doctor,I am a 23-year-old man. I have an...\n",
              "3  Hello,please answer the following:Any travel h...  Hello doctor,Last night I was getting chills, ...\n",
              "4  Hello and welcome to Ask A Doctor service.I ha...  Hi, I am Chaitanya, 27 years old. I use to swi..."
            ]
          },
          "metadata": {
            "tags": []
          },
          "execution_count": 13
        }
      ]
    },
    {
      "cell_type": "code",
      "metadata": {
        "colab": {
          "base_uri": "https://localhost:8080/",
          "height": 204
        },
        "id": "ZAmxSK02G6_7",
        "outputId": "9997a7f8-b886-4c52-c514-79bd10848141"
      },
      "source": [
        "len(validate_contexted)\n",
        "val_df = pd.DataFrame.from_records(validate_contexted, columns=columns)\n",
        "val_df.head(5)"
      ],
      "execution_count": 14,
      "outputs": [
        {
          "output_type": "execute_result",
          "data": {
            "text/html": [
              "<div>\n",
              "<style scoped>\n",
              "    .dataframe tbody tr th:only-of-type {\n",
              "        vertical-align: middle;\n",
              "    }\n",
              "\n",
              "    .dataframe tbody tr th {\n",
              "        vertical-align: top;\n",
              "    }\n",
              "\n",
              "    .dataframe thead th {\n",
              "        text-align: right;\n",
              "    }\n",
              "</style>\n",
              "<table border=\"1\" class=\"dataframe\">\n",
              "  <thead>\n",
              "    <tr style=\"text-align: right;\">\n",
              "      <th></th>\n",
              "      <th>response</th>\n",
              "      <th>context</th>\n",
              "    </tr>\n",
              "  </thead>\n",
              "  <tbody>\n",
              "    <tr>\n",
              "      <th>0</th>\n",
              "      <td>Corona-virus. At 33 you may not need testing. ...</td>\n",
              "      <td>I have a constant cough and my chest has now b...</td>\n",
              "    </tr>\n",
              "    <tr>\n",
              "      <th>1</th>\n",
              "      <td>Less likely. Recommended to stay 6 feet apart....</td>\n",
              "      <td>If someone has carona virus and iam passing by...</td>\n",
              "    </tr>\n",
              "    <tr>\n",
              "      <th>2</th>\n",
              "      <td>Test   Please stay at home, rest, drink fluids...</td>\n",
              "      <td>I am concerned that I’m showing symptoms of co...</td>\n",
              "    </tr>\n",
              "    <tr>\n",
              "      <th>3</th>\n",
              "      <td>Death. At your age the risk of death is the fo...</td>\n",
              "      <td>What are my chances of becoming seriously ill ...</td>\n",
              "    </tr>\n",
              "    <tr>\n",
              "      <th>4</th>\n",
              "      <td>Unknown but low   Based on current data it is ...</td>\n",
              "      <td>Nervous about coronavirus. I am 26 years old a...</td>\n",
              "    </tr>\n",
              "  </tbody>\n",
              "</table>\n",
              "</div>"
            ],
            "text/plain": [
              "                                            response                                            context\n",
              "0  Corona-virus. At 33 you may not need testing. ...  I have a constant cough and my chest has now b...\n",
              "1  Less likely. Recommended to stay 6 feet apart....  If someone has carona virus and iam passing by...\n",
              "2  Test   Please stay at home, rest, drink fluids...  I am concerned that I’m showing symptoms of co...\n",
              "3  Death. At your age the risk of death is the fo...  What are my chances of becoming seriously ill ...\n",
              "4  Unknown but low   Based on current data it is ...  Nervous about coronavirus. I am 26 years old a..."
            ]
          },
          "metadata": {
            "tags": []
          },
          "execution_count": 14
        }
      ]
    },
    {
      "cell_type": "markdown",
      "metadata": {
        "id": "CnqGvOrOjIr1"
      },
      "source": [
        "## Augmented dataset\n",
        "\n",
        "This is entirely optional, and may degrade the results.\n",
        "\n",
        "I suggest simply skip this on first try, and come back to this if you want to explore the unreliable NLP data augmentation. "
      ]
    },
    {
      "cell_type": "code",
      "metadata": {
        "id": "tzxYWThGjQEU"
      },
      "source": [
        "augmented_link = 'https://raw.githubusercontent.com/chophilip21/covid_dialogue/main/augmented.csv' #augmented version\n",
        "\n",
        "dataset = pd.read_csv(augmented_link, names = ['input_text', 'target_text'], header=0)"
      ],
      "execution_count": null,
      "outputs": []
    },
    {
      "cell_type": "code",
      "metadata": {
        "id": "9GjUvF4fjVHi"
      },
      "source": [
        "train_df, test_df = train_test_split(dataset, test_size=0.2)\n",
        "valid_df, test_df = train_test_split(test_df, test_size=0.5)"
      ],
      "execution_count": null,
      "outputs": []
    },
    {
      "cell_type": "code",
      "metadata": {
        "colab": {
          "base_uri": "https://localhost:8080/",
          "height": 419
        },
        "id": "0bGkOmixjYjn",
        "outputId": "11ec471e-6ba4-4007-d6b1-a3b1ae340e84"
      },
      "source": [
        "valid_df\n",
        "train_df"
      ],
      "execution_count": null,
      "outputs": [
        {
          "output_type": "execute_result",
          "data": {
            "text/html": [
              "<div>\n",
              "<style scoped>\n",
              "    .dataframe tbody tr th:only-of-type {\n",
              "        vertical-align: middle;\n",
              "    }\n",
              "\n",
              "    .dataframe tbody tr th {\n",
              "        vertical-align: top;\n",
              "    }\n",
              "\n",
              "    .dataframe thead th {\n",
              "        text-align: right;\n",
              "    }\n",
              "</style>\n",
              "<table border=\"1\" class=\"dataframe\">\n",
              "  <thead>\n",
              "    <tr style=\"text-align: right;\">\n",
              "      <th></th>\n",
              "      <th>input_text</th>\n",
              "      <th>target_text</th>\n",
              "    </tr>\n",
              "  </thead>\n",
              "  <tbody>\n",
              "    <tr>\n",
              "      <th>6</th>\n",
              "      <td>Hello doctor,\\n</td>\n",
              "      <td>Hi there, how can we help today?\\n</td>\n",
              "    </tr>\n",
              "    <tr>\n",
              "      <th>1505</th>\n",
              "      <td>Hi, got pneumonia, 1month ago. had hemoptasis,...</td>\n",
              "      <td>Hello,Go for vaccinations given below:- flu va...</td>\n",
              "    </tr>\n",
              "    <tr>\n",
              "      <th>1566</th>\n",
              "      <td>Son is 9 years underpin old. He has strep and ...</td>\n",
              "      <td>Thanks for your question on Healthcare Magic.I...</td>\n",
              "    </tr>\n",
              "    <tr>\n",
              "      <th>1864</th>\n",
              "      <td>I got Princip back esos from Israel last Monda...</td>\n",
              "      <td>Brief opinion: Covid test    two weeks of self...</td>\n",
              "    </tr>\n",
              "    <tr>\n",
              "      <th>1964</th>\n",
              "      <td>If you feel VicRoads not quite well 3 or 4 eve...</td>\n",
              "      <td>Brief opinion: Viral syndrome   You're symptom...</td>\n",
              "    </tr>\n",
              "    <tr>\n",
              "      <th>...</th>\n",
              "      <td>...</td>\n",
              "      <td>...</td>\n",
              "    </tr>\n",
              "    <tr>\n",
              "      <th>80</th>\n",
              "      <td>My mother was admitted to St. Jude s last Wedn...</td>\n",
              "      <td>Hello,To be honest, there is a chance of cross...</td>\n",
              "    </tr>\n",
              "    <tr>\n",
              "      <th>271</th>\n",
              "      <td>How soon after being infected can someone tran...</td>\n",
              "      <td>Brief opinion: Looking at the data people that...</td>\n",
              "    </tr>\n",
              "    <tr>\n",
              "      <th>1294</th>\n",
              "      <td>I ' ve been in liaison with a possible covid -...</td>\n",
              "      <td>Stay home. Family members should stay home and...</td>\n",
              "    </tr>\n",
              "    <tr>\n",
              "      <th>240</th>\n",
              "      <td>What can I use against coronavirus if I run ou...</td>\n",
              "      <td>Brief opinion: Water and soap is the best. Try...</td>\n",
              "    </tr>\n",
              "    <tr>\n",
              "      <th>458</th>\n",
              "      <td>Good morning I have all the symptoms for the c...</td>\n",
              "      <td>Brief opinion: Symptoms   Glad you are not ign...</td>\n",
              "    </tr>\n",
              "  </tbody>\n",
              "</table>\n",
              "<p>1701 rows × 2 columns</p>\n",
              "</div>"
            ],
            "text/plain": [
              "                                             input_text                                        target_text\n",
              "6                                       Hello doctor,\\n                 Hi there, how can we help today?\\n\n",
              "1505  Hi, got pneumonia, 1month ago. had hemoptasis,...  Hello,Go for vaccinations given below:- flu va...\n",
              "1566  Son is 9 years underpin old. He has strep and ...  Thanks for your question on Healthcare Magic.I...\n",
              "1864  I got Princip back esos from Israel last Monda...  Brief opinion: Covid test    two weeks of self...\n",
              "1964  If you feel VicRoads not quite well 3 or 4 eve...  Brief opinion: Viral syndrome   You're symptom...\n",
              "...                                                 ...                                                ...\n",
              "80    My mother was admitted to St. Jude s last Wedn...  Hello,To be honest, there is a chance of cross...\n",
              "271   How soon after being infected can someone tran...  Brief opinion: Looking at the data people that...\n",
              "1294  I ' ve been in liaison with a possible covid -...  Stay home. Family members should stay home and...\n",
              "240   What can I use against coronavirus if I run ou...  Brief opinion: Water and soap is the best. Try...\n",
              "458   Good morning I have all the symptoms for the c...  Brief opinion: Symptoms   Glad you are not ign...\n",
              "\n",
              "[1701 rows x 2 columns]"
            ]
          },
          "metadata": {
            "tags": []
          },
          "execution_count": 19
        }
      ]
    },
    {
      "cell_type": "markdown",
      "metadata": {
        "id": "1155nQJ_GShb"
      },
      "source": [
        "## Dataset setup"
      ]
    },
    {
      "cell_type": "markdown",
      "metadata": {
        "id": "86F3WhnFO4H8"
      },
      "source": [
        "Now will convert our dataset in a format suitable for our model. Basically we will concatenate responses in one string for each row (additionally we will add special 'end of string' token between responses, so the model will understand end of each response in a string).  "
      ]
    },
    {
      "cell_type": "code",
      "metadata": {
        "id": "PX7jeWpYmOe_"
      },
      "source": [
        "def construct_conv(row, tokenizer, eos = True):\n",
        "    flatten = lambda l: [item for sublist in l for item in sublist]\n",
        "    conv = list(reversed([tokenizer.encode(x) + [tokenizer.eos_token_id] for x in row]))\n",
        "    conv = flatten(conv)\n",
        "    return conv\n",
        "\n",
        "class ConversationDataset(Dataset):\n",
        "    def __init__(self, tokenizer: PreTrainedTokenizer, args, df, block_size=512):\n",
        "\n",
        "        block_size = block_size - (tokenizer.model_max_length - tokenizer.max_len_single_sentence)\n",
        "\n",
        "        directory = args.cache_dir\n",
        "        cached_features_file = os.path.join(\n",
        "            directory, args.model_type + \"_cached_lm_\" + str(block_size)\n",
        "        )\n",
        "\n",
        "        if os.path.exists(cached_features_file) and not args.overwrite_cache:\n",
        "            logger.info(\"Loading features from cached file %s\", cached_features_file)\n",
        "            with open(cached_features_file, \"rb\") as handle:\n",
        "                self.examples = pickle.load(handle)\n",
        "        else:\n",
        "            logger.info(\"Creating features from dataset file at %s\", directory)\n",
        "\n",
        "            self.examples = []\n",
        "            for _, row in df.iterrows():\n",
        "                conv = construct_conv(row, tokenizer)\n",
        "                self.examples.append(conv)\n",
        "\n",
        "            logger.info(\"Saving features into cached file %s\", cached_features_file)\n",
        "            with open(cached_features_file, \"wb\") as handle:\n",
        "                pickle.dump(self.examples, handle, protocol=pickle.HIGHEST_PROTOCOL)\n",
        "\n",
        "    def __len__(self):\n",
        "        return len(self.examples)\n",
        "\n",
        "    def __getitem__(self, item):\n",
        "        return torch.tensor(self.examples[item], dtype=torch.long)"
      ],
      "execution_count": 15,
      "outputs": []
    },
    {
      "cell_type": "code",
      "metadata": {
        "id": "naaRHoXgnStq"
      },
      "source": [
        "# Cacheing and storing of data/checkpoints\n",
        "\n",
        "def load_and_cache_examples(args, tokenizer, df_trn, df_val, evaluate=False):\n",
        "    return ConversationDataset(tokenizer, args, df_val if evaluate else df_trn)\n",
        "\n",
        "\n",
        "def set_seed(args):\n",
        "    random.seed(args.seed)\n",
        "    np.random.seed(args.seed)\n",
        "    torch.manual_seed(args.seed)\n",
        "    if args.n_gpu > 0:\n",
        "        torch.cuda.manual_seed_all(args.seed)\n",
        "\n",
        "\n",
        "def _sorted_checkpoints(args, checkpoint_prefix=\"checkpoint\", use_mtime=False) -> List[str]:\n",
        "    ordering_and_checkpoint_path = []\n",
        "\n",
        "    glob_checkpoints = glob.glob(os.path.join(args.output_dir, \"{}-*\".format(checkpoint_prefix)))\n",
        "\n",
        "    for path in glob_checkpoints:\n",
        "        if use_mtime:\n",
        "            ordering_and_checkpoint_path.append((os.path.getmtime(path), path))\n",
        "        else:\n",
        "            regex_match = re.match(\".*{}-([0-9]+)\".format(checkpoint_prefix), path)\n",
        "            if regex_match and regex_match.groups():\n",
        "                ordering_and_checkpoint_path.append((int(regex_match.groups()[0]), path))\n",
        "\n",
        "    checkpoints_sorted = sorted(ordering_and_checkpoint_path)\n",
        "    checkpoints_sorted = [checkpoint[1] for checkpoint in checkpoints_sorted]\n",
        "    return checkpoints_sorted\n",
        "\n",
        "\n",
        "def _rotate_checkpoints(args, checkpoint_prefix=\"checkpoint\", use_mtime=False) -> None:\n",
        "    if not args.save_total_limit:\n",
        "        return\n",
        "    if args.save_total_limit <= 0:\n",
        "        return\n",
        "\n",
        "    # Check if we should delete older checkpoint(s)\n",
        "    checkpoints_sorted = _sorted_checkpoints(args, checkpoint_prefix, use_mtime)\n",
        "    if len(checkpoints_sorted) <= args.save_total_limit:\n",
        "        return\n",
        "\n",
        "    number_of_checkpoints_to_delete = max(0, len(checkpoints_sorted) - args.save_total_limit)\n",
        "    checkpoints_to_be_deleted = checkpoints_sorted[:number_of_checkpoints_to_delete]\n",
        "    for checkpoint in checkpoints_to_be_deleted:\n",
        "        logger.info(\"Deleting older checkpoint [{}] due to args.save_total_limit\".format(checkpoint))\n",
        "        shutil.rmtree(checkpoint)"
      ],
      "execution_count": 16,
      "outputs": []
    },
    {
      "cell_type": "code",
      "metadata": {
        "colab": {
          "base_uri": "https://localhost:8080/",
          "height": 419
        },
        "id": "_Iv3O_nmDpqw",
        "outputId": "0b8a3867-0f2e-4dc2-aefb-f941b8841c92"
      },
      "source": [
        "trn_df"
      ],
      "execution_count": 17,
      "outputs": [
        {
          "output_type": "execute_result",
          "data": {
            "text/html": [
              "<div>\n",
              "<style scoped>\n",
              "    .dataframe tbody tr th:only-of-type {\n",
              "        vertical-align: middle;\n",
              "    }\n",
              "\n",
              "    .dataframe tbody tr th {\n",
              "        vertical-align: top;\n",
              "    }\n",
              "\n",
              "    .dataframe thead th {\n",
              "        text-align: right;\n",
              "    }\n",
              "</style>\n",
              "<table border=\"1\" class=\"dataframe\">\n",
              "  <thead>\n",
              "    <tr style=\"text-align: right;\">\n",
              "      <th></th>\n",
              "      <th>response</th>\n",
              "      <th>context</th>\n",
              "    </tr>\n",
              "  </thead>\n",
              "  <tbody>\n",
              "    <tr>\n",
              "      <th>0</th>\n",
              "      <td>Hello, I understand your concern. I just have ...</td>\n",
              "      <td>Hello doctor, I get a cough for the last few d...</td>\n",
              "    </tr>\n",
              "    <tr>\n",
              "      <th>1</th>\n",
              "      <td>Hello, I can understand your concern.In my opi...</td>\n",
              "      <td>Hello doctor, I am suffering from coughing, th...</td>\n",
              "    </tr>\n",
              "    <tr>\n",
              "      <th>2</th>\n",
              "      <td>Hello. Anxiety can manifest itself in physical...</td>\n",
              "      <td>Hello doctor,I am a 23-year-old man. I have an...</td>\n",
              "    </tr>\n",
              "    <tr>\n",
              "      <th>3</th>\n",
              "      <td>Hello,please answer the following:Any travel h...</td>\n",
              "      <td>Hello doctor,Last night I was getting chills, ...</td>\n",
              "    </tr>\n",
              "    <tr>\n",
              "      <th>4</th>\n",
              "      <td>Hello and welcome to Ask A Doctor service.I ha...</td>\n",
              "      <td>Hi, I am Chaitanya, 27 years old. I use to swi...</td>\n",
              "    </tr>\n",
              "    <tr>\n",
              "      <th>...</th>\n",
              "      <td>...</td>\n",
              "      <td>...</td>\n",
              "    </tr>\n",
              "    <tr>\n",
              "      <th>478</th>\n",
              "      <td>Quarantine   You should be in self quarantine ...</td>\n",
              "      <td>Girlfriend has coronavirus. With bad symptoms....</td>\n",
              "    </tr>\n",
              "    <tr>\n",
              "      <th>479</th>\n",
              "      <td>Fever with body ache   Hello &amp; welcome to Heal...</td>\n",
              "      <td>Scratching sore thoat and  slight chest irrita...</td>\n",
              "    </tr>\n",
              "    <tr>\n",
              "      <th>480</th>\n",
              "      <td>Cough,phlegm. At this time your symptoms are c...</td>\n",
              "      <td>Associated with phlegm and mucus?</td>\n",
              "    </tr>\n",
              "    <tr>\n",
              "      <th>481</th>\n",
              "      <td>Correct. Every bit helps.</td>\n",
              "      <td>Should one also cover eyes in addition to cove...</td>\n",
              "    </tr>\n",
              "    <tr>\n",
              "      <th>482</th>\n",
              "      <td>Self quarantine    Suggest self quarantine for...</td>\n",
              "      <td>Should I be tested for COVID 19 have been in c...</td>\n",
              "    </tr>\n",
              "  </tbody>\n",
              "</table>\n",
              "<p>483 rows × 2 columns</p>\n",
              "</div>"
            ],
            "text/plain": [
              "                                              response                                            context\n",
              "0    Hello, I understand your concern. I just have ...  Hello doctor, I get a cough for the last few d...\n",
              "1    Hello, I can understand your concern.In my opi...  Hello doctor, I am suffering from coughing, th...\n",
              "2    Hello. Anxiety can manifest itself in physical...  Hello doctor,I am a 23-year-old man. I have an...\n",
              "3    Hello,please answer the following:Any travel h...  Hello doctor,Last night I was getting chills, ...\n",
              "4    Hello and welcome to Ask A Doctor service.I ha...  Hi, I am Chaitanya, 27 years old. I use to swi...\n",
              "..                                                 ...                                                ...\n",
              "478  Quarantine   You should be in self quarantine ...  Girlfriend has coronavirus. With bad symptoms....\n",
              "479  Fever with body ache   Hello & welcome to Heal...  Scratching sore thoat and  slight chest irrita...\n",
              "480  Cough,phlegm. At this time your symptoms are c...                  Associated with phlegm and mucus?\n",
              "481                          Correct. Every bit helps.  Should one also cover eyes in addition to cove...\n",
              "482  Self quarantine    Suggest self quarantine for...  Should I be tested for COVID 19 have been in c...\n",
              "\n",
              "[483 rows x 2 columns]"
            ]
          },
          "metadata": {
            "tags": []
          },
          "execution_count": 17
        }
      ]
    },
    {
      "cell_type": "markdown",
      "metadata": {
        "id": "pkvMNnrnVHQw"
      },
      "source": [
        "## Training and Evaluating\n",
        "\n",
        "There will be quite a lot of code needed for training our model but don’t worry, everything should work as is, the main thing is to give the model the dataset in the right format.\n"
      ]
    },
    {
      "cell_type": "code",
      "metadata": {
        "id": "tXzKlXHeu0Mb"
      },
      "source": [
        "def train(args, train_dataset, model: PreTrainedModel, tokenizer: PreTrainedTokenizer) -> Tuple[int, float]:\n",
        "    \"\"\" Train the model \"\"\"\n",
        "    if args.local_rank in [-1, 0]:\n",
        "        tb_writer = SummaryWriter()\n",
        "\n",
        "    args.train_batch_size = args.per_gpu_train_batch_size * max(1, args.n_gpu)\n",
        "\n",
        "    def collate(examples: List[torch.Tensor]):\n",
        "        if tokenizer._pad_token is None:\n",
        "            return pad_sequence(examples, batch_first=True)\n",
        "        return pad_sequence(examples, batch_first=True, padding_value=tokenizer.pad_token_id)\n",
        "\n",
        "    train_sampler = RandomSampler(train_dataset) if args.local_rank == -1 else DistributedSampler(train_dataset)\n",
        "    train_dataloader = DataLoader(\n",
        "        train_dataset, sampler=train_sampler, batch_size=args.train_batch_size, collate_fn=collate, drop_last = True\n",
        "    )\n",
        "\n",
        "    if args.max_steps > 0:\n",
        "        t_total = args.max_steps\n",
        "        args.num_train_epochs = args.max_steps // (len(train_dataloader) // args.gradient_accumulation_steps) + 1\n",
        "    else:\n",
        "        t_total = len(train_dataloader) // args.gradient_accumulation_steps * args.num_train_epochs\n",
        "\n",
        "    model = model.module if hasattr(model, \"module\") else model  # Take care of distributed/parallel training\n",
        "    model.resize_token_embeddings(len(tokenizer))\n",
        "    # add_special_tokens_(model, tokenizer)\n",
        "\n",
        "\n",
        "    # Prepare optimizer and schedule (linear warmup and decay)\n",
        "    no_decay = [\"bias\", \"LayerNorm.weight\"]\n",
        "    optimizer_grouped_parameters = [\n",
        "        {\n",
        "            \"params\": [p for n, p in model.named_parameters() if not any(nd in n for nd in no_decay)],\n",
        "            \"weight_decay\": args.weight_decay,\n",
        "        },\n",
        "        {\"params\": [p for n, p in model.named_parameters() if any(nd in n for nd in no_decay)], \"weight_decay\": 0.0},\n",
        "    ]\n",
        "    optimizer = AdamW(optimizer_grouped_parameters, lr=args.learning_rate, eps=args.adam_epsilon)\n",
        "    scheduler = get_linear_schedule_with_warmup(\n",
        "        optimizer, num_warmup_steps=args.warmup_steps, num_training_steps=t_total\n",
        "    )\n",
        "\n",
        "    # Check if saved optimizer or scheduler states exist\n",
        "    if (\n",
        "        args.model_name_or_path\n",
        "        and os.path.isfile(os.path.join(args.model_name_or_path, \"optimizer.pt\"))\n",
        "        and os.path.isfile(os.path.join(args.model_name_or_path, \"scheduler.pt\"))\n",
        "    ):\n",
        "        # Load in optimizer and scheduler states\n",
        "        optimizer.load_state_dict(torch.load(os.path.join(args.model_name_or_path, \"optimizer.pt\")))\n",
        "        scheduler.load_state_dict(torch.load(os.path.join(args.model_name_or_path, \"scheduler.pt\")))\n",
        "\n",
        "    if args.fp16:\n",
        "        try:\n",
        "            from apex import amp\n",
        "        except ImportError:\n",
        "            raise ImportError(\"Please install apex from https://www.github.com/nvidia/apex to use fp16 training.\")\n",
        "        model, optimizer = amp.initialize(model, optimizer, opt_level=args.fp16_opt_level)\n",
        "\n",
        "    # multi-gpu training (should be after apex fp16 initialization)\n",
        "    if args.n_gpu > 1:\n",
        "        model = torch.nn.DataParallel(model)\n",
        "\n",
        "    # Distributed training (should be after apex fp16 initialization)\n",
        "    if args.local_rank != -1:\n",
        "        model = torch.nn.parallel.DistributedDataParallel(\n",
        "            model, device_ids=[args.local_rank], output_device=args.local_rank, find_unused_parameters=True\n",
        "        )\n",
        "\n",
        "    # Train!\n",
        "    logger.info(\"***** Running training *****\")\n",
        "    logger.info(\"  Num examples = %d\", len(train_dataset))\n",
        "    logger.info(\"  Num Epochs = %d\", args.num_train_epochs)\n",
        "    logger.info(\"  Instantaneous batch size per GPU = %d\", args.per_gpu_train_batch_size)\n",
        "    logger.info(\n",
        "        \"  Total train batch size (w. parallel, distributed & accumulation) = %d\",\n",
        "        args.train_batch_size\n",
        "        * args.gradient_accumulation_steps\n",
        "        * (torch.distributed.get_world_size() if args.local_rank != -1 else 1),\n",
        "    )\n",
        "    logger.info(\"  Gradient Accumulation steps = %d\", args.gradient_accumulation_steps)\n",
        "    logger.info(\"  Total optimization steps = %d\", t_total)\n",
        "\n",
        "    global_step = 0\n",
        "    epochs_trained = 0\n",
        "    steps_trained_in_current_epoch = 0\n",
        "    # Check if continuing training from a checkpoint\n",
        "    if args.model_name_or_path and os.path.exists(args.model_name_or_path):\n",
        "        try:\n",
        "            # set global_step to gobal_step of last saved checkpoint from model path\n",
        "            checkpoint_suffix = args.model_name_or_path.split(\"-\")[-1].split(\"/\")[0]\n",
        "            global_step = int(checkpoint_suffix)\n",
        "            epochs_trained = global_step // (len(train_dataloader) // args.gradient_accumulation_steps)\n",
        "            steps_trained_in_current_epoch = global_step % (len(train_dataloader) // args.gradient_accumulation_steps)\n",
        "\n",
        "            logger.info(\"  Continuing training from checkpoint, will skip to saved global_step\")\n",
        "            logger.info(\"  Continuing training from epoch %d\", epochs_trained)\n",
        "            logger.info(\"  Continuing training from global step %d\", global_step)\n",
        "            logger.info(\"  Will skip the first %d steps in the first epoch\", steps_trained_in_current_epoch)\n",
        "        except ValueError:\n",
        "            logger.info(\"  Starting fine-tuning.\")\n",
        "\n",
        "    tr_loss, logging_loss = 0.0, 0.0\n",
        "\n",
        "    model.zero_grad()\n",
        "    train_iterator = trange(\n",
        "        epochs_trained, int(args.num_train_epochs), desc=\"Epoch\", disable=args.local_rank not in [-1, 0]\n",
        "    )\n",
        "    set_seed(args)  # Added here for reproducibility\n",
        "    for _ in train_iterator:\n",
        "        epoch_iterator = tqdm(train_dataloader, desc=\"Iteration\", disable=args.local_rank not in [-1, 0])\n",
        "        for step, batch in enumerate(epoch_iterator):\n",
        "\n",
        "            # Skip past any already trained steps if resuming training\n",
        "            if steps_trained_in_current_epoch > 0:\n",
        "                steps_trained_in_current_epoch -= 1\n",
        "                continue\n",
        "\n",
        "            inputs, labels = (batch, batch)\n",
        "            if inputs.shape[1] > 1024: continue\n",
        "            inputs = inputs.to(args.device)\n",
        "            labels = labels.to(args.device)\n",
        "            model.train()\n",
        "            outputs = model(inputs, labels=labels)\n",
        "            loss = outputs[0]  # model outputs are always tuple in transformers (see doc)\n",
        "\n",
        "            if args.n_gpu > 1:\n",
        "                loss = loss.mean()  # mean() to average on multi-gpu parallel training\n",
        "            if args.gradient_accumulation_steps > 1:\n",
        "                loss = loss / args.gradient_accumulation_steps\n",
        "\n",
        "            if args.fp16:\n",
        "                with amp.scale_loss(loss, optimizer) as scaled_loss:\n",
        "                    scaled_loss.backward()\n",
        "            else:\n",
        "                loss.backward()\n",
        "\n",
        "            tr_loss += loss.item()\n",
        "            if (step + 1) % args.gradient_accumulation_steps == 0:\n",
        "                if args.fp16:\n",
        "                    torch.nn.utils.clip_grad_norm_(amp.master_params(optimizer), args.max_grad_norm)\n",
        "                else:\n",
        "                    torch.nn.utils.clip_grad_norm_(model.parameters(), args.max_grad_norm)\n",
        "                optimizer.step()\n",
        "                scheduler.step()  # Update learning rate schedule\n",
        "                model.zero_grad()\n",
        "                global_step += 1\n",
        "\n",
        "                if args.local_rank in [-1, 0] and args.logging_steps > 0 and global_step % args.logging_steps == 0:\n",
        "                    # Log metrics\n",
        "                    if (\n",
        "                        args.local_rank == -1 and args.evaluate_during_training\n",
        "                    ):  # Only evaluate when single GPU otherwise metrics may not average well\n",
        "                        results = evaluate(args, model, tokenizer)\n",
        "                        for key, value in results.items():\n",
        "                            tb_writer.add_scalar(\"eval_{}\".format(key), value, global_step)\n",
        "                    tb_writer.add_scalar(\"lr\", scheduler.get_lr()[0], global_step)\n",
        "                    tb_writer.add_scalar(\"loss\", (tr_loss - logging_loss) / args.logging_steps, global_step)\n",
        "                    logging_loss = tr_loss\n",
        "\n",
        "                if args.local_rank in [-1, 0] and args.save_steps > 0 and global_step % args.save_steps == 0:\n",
        "                    checkpoint_prefix = \"checkpoint\"\n",
        "                    # Save model checkpoint\n",
        "                    output_dir = os.path.join(args.output_dir, \"{}-{}\".format(checkpoint_prefix, global_step))\n",
        "                    os.makedirs(output_dir, exist_ok=True)\n",
        "                    model_to_save = (\n",
        "                        model.module if hasattr(model, \"module\") else model\n",
        "                    )  # Take care of distributed/parallel training\n",
        "                    model_to_save.save_pretrained(output_dir)\n",
        "                    tokenizer.save_pretrained(output_dir)\n",
        "\n",
        "                    torch.save(args, os.path.join(output_dir, \"training_args.bin\"))\n",
        "                    logger.info(\"Saving model checkpoint to %s\", output_dir)\n",
        "\n",
        "                    _rotate_checkpoints(args, checkpoint_prefix)\n",
        "\n",
        "                    torch.save(optimizer.state_dict(), os.path.join(output_dir, \"optimizer.pt\"))\n",
        "                    torch.save(scheduler.state_dict(), os.path.join(output_dir, \"scheduler.pt\"))\n",
        "                    logger.info(\"Saving optimizer and scheduler states to %s\", output_dir)\n",
        "\n",
        "            if args.max_steps > 0 and global_step > args.max_steps:\n",
        "                epoch_iterator.close()\n",
        "                break\n",
        "        if args.max_steps > 0 and global_step > args.max_steps:\n",
        "            train_iterator.close()\n",
        "            break\n",
        "\n",
        "    if args.local_rank in [-1, 0]:\n",
        "        tb_writer.close()\n",
        "\n",
        "    return global_step, tr_loss / global_step\n",
        "\n",
        "# Evaluation of some model\n",
        "\n",
        "def evaluate(args, model: PreTrainedModel, tokenizer: PreTrainedTokenizer, df_trn, df_val, prefix=\"\") -> Dict:\n",
        "    # Loop to handle MNLI double evaluation (matched, mis-matched)\n",
        "    eval_output_dir = args.output_dir\n",
        "\n",
        "    eval_dataset = load_and_cache_examples(args, tokenizer, df_trn, df_val, evaluate=True)\n",
        "    os.makedirs(eval_output_dir, exist_ok=True)\n",
        "    args.eval_batch_size = args.per_gpu_eval_batch_size * max(1, args.n_gpu)\n",
        "    # Note that DistributedSampler samples randomly\n",
        "\n",
        "    def collate(examples: List[torch.Tensor]):\n",
        "        if tokenizer._pad_token is None:\n",
        "            return pad_sequence(examples, batch_first=True)\n",
        "        return pad_sequence(examples, batch_first=True, padding_value=tokenizer.pad_token_id)\n",
        "\n",
        "    eval_sampler = SequentialSampler(eval_dataset)\n",
        "    eval_dataloader = DataLoader(\n",
        "        eval_dataset, sampler=eval_sampler, batch_size=args.eval_batch_size, collate_fn=collate, drop_last = True\n",
        "    )\n",
        "\n",
        "    # multi-gpu evaluate\n",
        "    if args.n_gpu > 1:\n",
        "        model = torch.nn.DataParallel(model)\n",
        "\n",
        "    # Eval!\n",
        "    logger.info(\"***** Running evaluation {} *****\".format(prefix))\n",
        "    logger.info(\"  Num examples = %d\", len(eval_dataset))\n",
        "    logger.info(\"  Batch size = %d\", args.eval_batch_size)\n",
        "    eval_loss = 0.0\n",
        "    nb_eval_steps = 0\n",
        "    model.eval()\n",
        "\n",
        "    for batch in tqdm(eval_dataloader, desc=\"Evaluating\"):\n",
        "        inputs, labels = (batch, batch)\n",
        "        inputs = inputs.to(args.device)\n",
        "        labels = labels.to(args.device)\n",
        "\n",
        "        with torch.no_grad():\n",
        "            outputs = model(inputs, labels=labels)\n",
        "            lm_loss = outputs[0]\n",
        "            eval_loss += lm_loss.mean().item()\n",
        "        nb_eval_steps += 1\n",
        "\n",
        "    eval_loss = eval_loss / nb_eval_steps\n",
        "    perplexity = torch.exp(torch.tensor(eval_loss))\n",
        "\n",
        "    result = {\"perplexity\": perplexity}\n",
        "\n",
        "    output_eval_file = os.path.join(eval_output_dir, prefix, \"eval_results.txt\")\n",
        "    with open(output_eval_file, \"w\") as writer:\n",
        "        logger.info(\"***** Eval results {} *****\".format(prefix))\n",
        "        for key in sorted(result.keys()):\n",
        "            logger.info(\"  %s = %s\", key, str(result[key]))\n",
        "            writer.write(\"%s = %s\\n\" % (key, str(result[key])))\n",
        "\n",
        "    return result"
      ],
      "execution_count": 18,
      "outputs": []
    },
    {
      "cell_type": "code",
      "metadata": {
        "id": "-MGD6bFXV4Z-"
      },
      "source": [
        "# Main runner\n",
        "\n",
        "def main(df_trn, df_val):\n",
        "    args = Args()\n",
        "    \n",
        "    if args.should_continue:\n",
        "        sorted_checkpoints = _sorted_checkpoints(args)\n",
        "        if len(sorted_checkpoints) == 0:\n",
        "            raise ValueError(\"Used --should_continue but no checkpoint was found in --output_dir.\")\n",
        "        else:\n",
        "            args.model_name_or_path = sorted_checkpoints[-1]\n",
        "\n",
        "    if (\n",
        "        os.path.exists(args.output_dir)\n",
        "        and os.listdir(args.output_dir)\n",
        "        and args.do_train\n",
        "        and not args.overwrite_output_dir\n",
        "        and not args.should_continue\n",
        "    ):\n",
        "        raise ValueError(\n",
        "            \"Output directory ({}) already exists and is not empty. Use --overwrite_output_dir to overcome.\".format(\n",
        "                args.output_dir\n",
        "            )\n",
        "        )\n",
        "\n",
        "    # Setup CUDA, GPU & distributed training\n",
        "    device = torch.device(\"cuda\")\n",
        "    args.n_gpu = torch.cuda.device_count()\n",
        "    args.device = device\n",
        "\n",
        "    # Setup logging\n",
        "    logging.basicConfig(\n",
        "        format=\"%(asctime)s - %(levelname)s - %(name)s -   %(message)s\",\n",
        "        datefmt=\"%m/%d/%Y %H:%M:%S\",\n",
        "        level=logging.INFO if args.local_rank in [-1, 0] else logging.WARN,\n",
        "    )\n",
        "    logger.warning(\n",
        "        \"Process rank: %s, device: %s, n_gpu: %s, distributed training: %s, 16-bits training: %s\",\n",
        "        args.local_rank,\n",
        "        device,\n",
        "        args.n_gpu,\n",
        "        bool(args.local_rank != -1),\n",
        "        args.fp16,\n",
        "    )\n",
        "\n",
        "    # Set seed\n",
        "    set_seed(args)\n",
        "\n",
        "    config = AutoConfig.from_pretrained(args.config_name, cache_dir=args.cache_dir)\n",
        "    tokenizer = AutoTokenizer.from_pretrained(args.tokenizer_name, cache_dir=args.cache_dir)\n",
        "    model = AutoModelWithLMHead.from_pretrained(\n",
        "        args.model_name_or_path,\n",
        "        from_tf=False,\n",
        "        config=config,\n",
        "        cache_dir=args.cache_dir,\n",
        "    )\n",
        "    model.to(args.device)\n",
        "    \n",
        "    logger.info(\"Training/evaluation parameters %s\", args)\n",
        "\n",
        "    # Training\n",
        "    if args.do_train:\n",
        "        train_dataset = load_and_cache_examples(args, tokenizer, df_trn, df_val, evaluate=False)\n",
        "\n",
        "        global_step, tr_loss = train(args, train_dataset, model, tokenizer)\n",
        "        logger.info(\" global_step = %s, average loss = %s\", global_step, tr_loss)\n",
        "\n",
        "    # Saving best-practices: if you use save_pretrained for the model and tokenizer, you can reload them using from_pretrained()\n",
        "    if args.do_train:\n",
        "        # Create output directory if needed\n",
        "        os.makedirs(args.output_dir, exist_ok=True)\n",
        "\n",
        "        logger.info(\"Saving model checkpoint to %s\", args.output_dir)\n",
        "        # Save a trained model, configuration and tokenizer using `save_pretrained()`.\n",
        "        # They can then be reloaded using `from_pretrained()`\n",
        "        model_to_save = (\n",
        "            model.module if hasattr(model, \"module\") else model\n",
        "        )  # Take care of distributed/parallel training\n",
        "        model_to_save.save_pretrained(args.output_dir)\n",
        "        tokenizer.save_pretrained(args.output_dir)\n",
        "\n",
        "        # Good practice: save your training arguments together with the trained model\n",
        "        torch.save(args, os.path.join(args.output_dir, \"training_args.bin\"))\n",
        "\n",
        "        # Load a trained model and vocabulary that you have fine-tuned\n",
        "        model = AutoModelWithLMHead.from_pretrained(args.output_dir)\n",
        "        tokenizer = AutoTokenizer.from_pretrained(args.output_dir)\n",
        "        model.to(args.device)\n",
        "\n",
        "    # Evaluation\n",
        "    results = {}\n",
        "    if args.do_eval and args.local_rank in [-1, 0]:\n",
        "        checkpoints = [args.output_dir]\n",
        "        if args.eval_all_checkpoints:\n",
        "            checkpoints = list(\n",
        "                os.path.dirname(c) for c in sorted(glob.glob(args.output_dir + \"/**/\" + WEIGHTS_NAME, recursive=True))\n",
        "            )\n",
        "            logging.getLogger(\"transformers.modeling_utils\").setLevel(logging.WARN)  # Reduce logging\n",
        "        logger.info(\"Evaluate the following checkpoints: %s\", checkpoints)\n",
        "        for checkpoint in checkpoints:\n",
        "            global_step = checkpoint.split(\"-\")[-1] if len(checkpoints) > 1 else \"\"\n",
        "            prefix = checkpoint.split(\"/\")[-1] if checkpoint.find(\"checkpoint\") != -1 else \"\"\n",
        "\n",
        "            model = AutoModelWithLMHead.from_pretrained(checkpoint)\n",
        "            model.to(args.device)\n",
        "            result = evaluate(args, model, tokenizer, df_trn, df_val, prefix=prefix)\n",
        "            result = dict((k + \"_{}\".format(global_step), v) for k, v in result.items())\n",
        "            results.update(result)\n",
        "\n",
        "    return results"
      ],
      "execution_count": 19,
      "outputs": []
    },
    {
      "cell_type": "markdown",
      "metadata": {
        "id": "4K-Smri694kl"
      },
      "source": [
        "## Start Fine-Tuning!"
      ]
    },
    {
      "cell_type": "markdown",
      "metadata": {
        "id": "UZEHDzR0Vjs7"
      },
      "source": [
        "It is time to train our model!\n"
      ]
    },
    {
      "cell_type": "code",
      "metadata": {
        "id": "__iqR8YFV-Ex",
        "colab": {
          "base_uri": "https://localhost:8080/",
          "height": 690,
          "referenced_widgets": [
            "7a1c3db2634d48e9895f8f845e300655",
            "2def08bf659046009517a96a0f6b0fb9",
            "ed686b10943b48eebad60dff5930b1b1",
            "47d77c5527004505bcad86f8ab111645",
            "8c2b393101134a359d1b77cb9940c155",
            "12380024e0744fbdb7ef200312f05306",
            "b78fda0239624a1fb3169ba036ba171a",
            "37e8dbbfed604e029734d3fb1b44df02",
            "0101dfd274cc4a999bf3f3a084f5d294",
            "e03f663421af44858227267110bc931a",
            "645ce8bb85bb42a1bac00fc0c7838389",
            "d47e9ba08e36402b869efeb79adcb186",
            "fbeb2f7a5f794df2b7419558600c1121",
            "72e0bf8d1aff4a0285192c38ee417da3",
            "7bb3e2d4cdaa4da2b96f0018d8e9f0c3",
            "51f2037b2dae455a8cc4e5dc3b5f4b41",
            "9fea833141174b0cb2bd7cfbe2bd20c2",
            "c4795974a84f4970b7d766972d8a35d5",
            "bba33c0c563d45c584420535a25941aa",
            "c4968c8b347c48ecbc5c10a4e2c23d25",
            "0d05657fb40d402585899d3cd99c0592",
            "132f8da7f9134c0b9dede500766ff033",
            "744bd31242514fb684a9813056fa0d44",
            "ff94c57fc7fd488ead91882d329f63c3",
            "89729685898a40888912b9efd96adc04",
            "acd80ab9d8e14284a37d79f41facc914",
            "e275fe7fe08a4bf2b0e6c948a23855c6",
            "324f358e93e24b86bf13812fd24e04ca",
            "0271b5d20a0646c7ae341b7a90a3f195",
            "63f87d14558e48a781a17141105ffa4e",
            "aa8e53f66e1d4c58b1bacd1734248801",
            "f5919c77eec64761a769062c157c4455",
            "c662cb6536c945f7b298e840f6b18e02",
            "ab91f76c633b4be5b15060d4e97d1dcd",
            "2b49d30b2dc24d5ebc27daeb1b73a7b6",
            "70cf52707cd545668b5213600b490c61",
            "ab913f9975ac4b2b940a21691344bf4d",
            "66a629c02eb941ee9f18efce109b7dde",
            "83071cfa09fd49e4a805226953c8d124",
            "46175612fc02412fbc17b560002632fe"
          ]
        },
        "outputId": "fa2f3bd3-dca4-4af5-b77c-3d2c3601b2e3"
      },
      "source": [
        "main(trn_df, val_df)"
      ],
      "execution_count": 20,
      "outputs": [
        {
          "output_type": "stream",
          "text": [
            "01/12/2021 20:55:10 - WARNING - __main__ -   Process rank: -1, device: cuda, n_gpu: 1, distributed training: False, 16-bits training: False\n",
            "/usr/local/lib/python3.6/dist-packages/transformers/models/auto/modeling_auto.py:890: FutureWarning: The class `AutoModelWithLMHead` is deprecated and will be removed in a future version. Please use `AutoModelForCausalLM` for causal language models, `AutoModelForMaskedLM` for masked language models and `AutoModelForSeq2SeqLM` for encoder-decoder models.\n",
            "  FutureWarning,\n",
            "01/12/2021 20:55:35 - INFO - __main__ -   Training/evaluation parameters <__main__.Args object at 0x7faede4e5c50>\n",
            "01/12/2021 20:55:35 - INFO - __main__ -   Creating features from dataset file at cached\n",
            "01/12/2021 20:55:35 - INFO - __main__ -   Saving features into cached file cached/gpt2_cached_lm_512\n",
            "01/12/2021 20:55:36 - INFO - __main__ -   ***** Running training *****\n",
            "01/12/2021 20:55:36 - INFO - __main__ -     Num examples = 483\n",
            "01/12/2021 20:55:36 - INFO - __main__ -     Num Epochs = 3\n",
            "01/12/2021 20:55:36 - INFO - __main__ -     Instantaneous batch size per GPU = 4\n",
            "01/12/2021 20:55:36 - INFO - __main__ -     Total train batch size (w. parallel, distributed & accumulation) = 4\n",
            "01/12/2021 20:55:36 - INFO - __main__ -     Gradient Accumulation steps = 1\n",
            "01/12/2021 20:55:36 - INFO - __main__ -     Total optimization steps = 360\n"
          ],
          "name": "stderr"
        },
        {
          "output_type": "display_data",
          "data": {
            "application/vnd.jupyter.widget-view+json": {
              "model_id": "7a1c3db2634d48e9895f8f845e300655",
              "version_minor": 0,
              "version_major": 2
            },
            "text/plain": [
              "HBox(children=(FloatProgress(value=0.0, description='Epoch', max=3.0, style=ProgressStyle(description_width='i…"
            ]
          },
          "metadata": {
            "tags": []
          }
        },
        {
          "output_type": "display_data",
          "data": {
            "application/vnd.jupyter.widget-view+json": {
              "model_id": "0101dfd274cc4a999bf3f3a084f5d294",
              "version_minor": 0,
              "version_major": 2
            },
            "text/plain": [
              "HBox(children=(FloatProgress(value=0.0, description='Iteration', max=120.0, style=ProgressStyle(description_wi…"
            ]
          },
          "metadata": {
            "tags": []
          }
        },
        {
          "output_type": "stream",
          "text": [
            "\n"
          ],
          "name": "stdout"
        },
        {
          "output_type": "display_data",
          "data": {
            "application/vnd.jupyter.widget-view+json": {
              "model_id": "9fea833141174b0cb2bd7cfbe2bd20c2",
              "version_minor": 0,
              "version_major": 2
            },
            "text/plain": [
              "HBox(children=(FloatProgress(value=0.0, description='Iteration', max=120.0, style=ProgressStyle(description_wi…"
            ]
          },
          "metadata": {
            "tags": []
          }
        },
        {
          "output_type": "stream",
          "text": [
            "\n"
          ],
          "name": "stdout"
        },
        {
          "output_type": "display_data",
          "data": {
            "application/vnd.jupyter.widget-view+json": {
              "model_id": "89729685898a40888912b9efd96adc04",
              "version_minor": 0,
              "version_major": 2
            },
            "text/plain": [
              "HBox(children=(FloatProgress(value=0.0, description='Iteration', max=120.0, style=ProgressStyle(description_wi…"
            ]
          },
          "metadata": {
            "tags": []
          }
        },
        {
          "output_type": "stream",
          "text": [
            "01/12/2021 20:57:24 - INFO - __main__ -    global_step = 360, average loss = 2.844376615352101\n",
            "01/12/2021 20:57:24 - INFO - __main__ -   Saving model checkpoint to output-small-save\n"
          ],
          "name": "stderr"
        },
        {
          "output_type": "stream",
          "text": [
            "\n",
            "\n"
          ],
          "name": "stdout"
        },
        {
          "output_type": "stream",
          "text": [
            "01/12/2021 20:57:42 - INFO - __main__ -   Evaluate the following checkpoints: ['output-small-save']\n",
            "01/12/2021 20:57:48 - INFO - __main__ -   Creating features from dataset file at cached\n",
            "01/12/2021 20:57:48 - INFO - __main__ -   Saving features into cached file cached/gpt2_cached_lm_512\n",
            "01/12/2021 20:57:48 - INFO - __main__ -   ***** Running evaluation  *****\n",
            "01/12/2021 20:57:48 - INFO - __main__ -     Num examples = 60\n",
            "01/12/2021 20:57:48 - INFO - __main__ -     Batch size = 4\n"
          ],
          "name": "stderr"
        },
        {
          "output_type": "display_data",
          "data": {
            "application/vnd.jupyter.widget-view+json": {
              "model_id": "c662cb6536c945f7b298e840f6b18e02",
              "version_minor": 0,
              "version_major": 2
            },
            "text/plain": [
              "HBox(children=(FloatProgress(value=0.0, description='Evaluating', max=15.0, style=ProgressStyle(description_wi…"
            ]
          },
          "metadata": {
            "tags": []
          }
        },
        {
          "output_type": "stream",
          "text": [
            "\n"
          ],
          "name": "stdout"
        },
        {
          "output_type": "stream",
          "text": [
            "01/12/2021 20:57:50 - INFO - __main__ -   ***** Eval results  *****\n",
            "01/12/2021 20:57:50 - INFO - __main__ -     perplexity = tensor(14.2759)\n"
          ],
          "name": "stderr"
        },
        {
          "output_type": "execute_result",
          "data": {
            "text/plain": [
              "{'perplexity_': tensor(14.2759)}"
            ]
          },
          "metadata": {
            "tags": []
          },
          "execution_count": 20
        }
      ]
    },
    {
      "cell_type": "markdown",
      "metadata": {
        "id": "40rKH7FxJaHM"
      },
      "source": [
        "## Generate test results\n"
      ]
    },
    {
      "cell_type": "code",
      "metadata": {
        "colab": {
          "base_uri": "https://localhost:8080/"
        },
        "id": "t_wcWTNKMfW3",
        "outputId": "e9e9dc24-c7b7-4aff-fbec-afbe5881a780"
      },
      "source": [
        "f_test = open(\"data-eng/test_data.json\")\n",
        "test_data = json.load(f_test)\n",
        "f_test.close()\n",
        "\n",
        "test_query = []\n",
        "test_response = []\n",
        "\n",
        "for i in range(len(test_data)):\n",
        "  test_response.append(test_data[i][1])\n",
        "  test_query.append(test_data[i][0])\n",
        "\n",
        "print(len(test_response))\n",
        "print(len(test_query))\n"
      ],
      "execution_count": null,
      "outputs": [
        {
          "output_type": "stream",
          "text": [
            "61\n",
            "61\n"
          ],
          "name": "stdout"
        }
      ]
    },
    {
      "cell_type": "code",
      "metadata": {
        "colab": {
          "base_uri": "https://localhost:8080/",
          "height": 1000,
          "referenced_widgets": [
            "30be1cfa955f46898a40bef9df212c30",
            "899c982f5f92473e8ef059dacc9c96c6",
            "4fc16541884d4c0b90d8c2c21f26a292",
            "76e78dc068344f5eb48257c9ec34d32c",
            "8277771f7345410099f381845f620979",
            "c2b46019aad742ccb9900d9d17835092",
            "86aaa2f807df4139add0c383a8d5f3b6",
            "2d8b0fd17bdc41cb81c26e0d49370e3d",
            "89c9a3add4f04166918c6afe5d034f49",
            "2b5cbacffe4a493faa26458aea343984",
            "f984e9a4013446ceaf575743b16bb491",
            "ace462db1d36402fa811cf547a42d2b9",
            "6ee9f500fe7147f99eb265c601b8478d",
            "d5727e371beb491db696dce824cc6a43",
            "9b5fcce3aa4a45338798d393c1493a0b",
            "84fe424032d04be0b89e65c2991cb7eb",
            "1d81d3a176c24361b7470e047281b5b0",
            "318cf8c9dc474cca908a4261a8abbd80",
            "c63cf4f10d9e4e509901e20de9cc47c5",
            "1e709e4c2deb4238a8a347529fdc3895",
            "70f2ecc8a7ba49c5b6d9e9c35c135cbd",
            "670b8132f234426eab4e0ab1b24ffa8d",
            "5de396c2180446a486514cd6bef8b1a5",
            "290231b088594c0788612d2cb35436fb"
          ]
        },
        "id": "W1DwhiKDJZVZ",
        "outputId": "45e9a18d-6998-44f2-8420-6df41f8d4fdb"
      },
      "source": [
        "test_chatbot = []\n",
        "\n",
        "for i in range(len(test_query)):\n",
        "  tokenizer = AutoTokenizer.from_pretrained('microsoft/DialoGPT-small')\n",
        "  model = AutoModelWithLMHead.from_pretrained('output-small-save')\n",
        "  # append the new user input tokens to the chat history\n",
        "  bot_input_ids = tokenizer.encode(test_query[i] + tokenizer.eos_token, return_tensors='pt')\n",
        "  print(\"Patient: {} \\n\".format(test_query[i]))\n",
        "  print(\"Reference:  {} \\n\".format(test_response[i]))\n",
        "\n",
        "\n",
        "  # generated a response while limiting the total chat history to 1000 tokens, \n",
        "  chat_history_ids = model.generate(\n",
        "      bot_input_ids, max_length=100,\n",
        "      pad_token_id=tokenizer.eos_token_id,  \n",
        "      no_repeat_ngram_size=3,       \n",
        "      do_sample=True, \n",
        "      top_k=10, \n",
        "      top_p=0.7,\n",
        "      temperature = 0.8\n",
        "  )\n",
        "\n",
        "  # pretty print last ouput tokens from bot\n",
        "  print(\"Predict: {} \\n\\n\".format(tokenizer.decode(chat_history_ids[:, bot_input_ids.shape[-1]:][0], skip_special_tokens=True)))\n",
        "  test_chatbot.append(tokenizer.decode(chat_history_ids[:, bot_input_ids.shape[-1]:][0], skip_special_tokens=True))\n",
        "\n",
        "print(len(test_chatbot))\n"
      ],
      "execution_count": null,
      "outputs": [
        {
          "output_type": "stream",
          "text": [
            "12/09/2020 05:24:55 - INFO - filelock -   Lock 140523183608328 acquired on /root/.cache/huggingface/transformers/0cbdd50f204f3ddbaa452e976340a5725f0b5ddb201704058c87e14d9679e070.e6898db50ba3aa698f0f652e876a1e4bd813321dea3e22b776f9a3c39d36aaab.lock\n"
          ],
          "name": "stderr"
        },
        {
          "output_type": "display_data",
          "data": {
            "application/vnd.jupyter.widget-view+json": {
              "model_id": "30be1cfa955f46898a40bef9df212c30",
              "version_minor": 0,
              "version_major": 2
            },
            "text/plain": [
              "HBox(children=(FloatProgress(value=0.0, description='Downloading', max=641.0, style=ProgressStyle(description_…"
            ]
          },
          "metadata": {
            "tags": []
          }
        },
        {
          "output_type": "stream",
          "text": [
            "12/09/2020 05:24:55 - INFO - filelock -   Lock 140523183608328 released on /root/.cache/huggingface/transformers/0cbdd50f204f3ddbaa452e976340a5725f0b5ddb201704058c87e14d9679e070.e6898db50ba3aa698f0f652e876a1e4bd813321dea3e22b776f9a3c39d36aaab.lock\n"
          ],
          "name": "stderr"
        },
        {
          "output_type": "stream",
          "text": [
            "\n"
          ],
          "name": "stdout"
        },
        {
          "output_type": "stream",
          "text": [
            "12/09/2020 05:24:55 - INFO - filelock -   Lock 140523169989240 acquired on /root/.cache/huggingface/transformers/3cf340c89a43b5e6f31c4cd609fc2fc92f3d7aafdf6c8987e2ea9e02cb78b4e2.c7ed1f96aac49e745788faa77ba0a26a392643a50bb388b9c04ff469e555241f.lock\n"
          ],
          "name": "stderr"
        },
        {
          "output_type": "display_data",
          "data": {
            "application/vnd.jupyter.widget-view+json": {
              "model_id": "89c9a3add4f04166918c6afe5d034f49",
              "version_minor": 0,
              "version_major": 2
            },
            "text/plain": [
              "HBox(children=(FloatProgress(value=0.0, description='Downloading', max=1042301.0, style=ProgressStyle(descript…"
            ]
          },
          "metadata": {
            "tags": []
          }
        },
        {
          "output_type": "stream",
          "text": [
            "12/09/2020 05:24:56 - INFO - filelock -   Lock 140523169989240 released on /root/.cache/huggingface/transformers/3cf340c89a43b5e6f31c4cd609fc2fc92f3d7aafdf6c8987e2ea9e02cb78b4e2.c7ed1f96aac49e745788faa77ba0a26a392643a50bb388b9c04ff469e555241f.lock\n"
          ],
          "name": "stderr"
        },
        {
          "output_type": "stream",
          "text": [
            "\n"
          ],
          "name": "stdout"
        },
        {
          "output_type": "stream",
          "text": [
            "12/09/2020 05:24:56 - INFO - filelock -   Lock 140523173146920 acquired on /root/.cache/huggingface/transformers/4e3f74e7c741909c4d1b48a23febe75c1be66a20c2b98cf7db4b8b10f12dc10c.5d12962c5ee615a4c803841266e9c3be9a691a924f72d395d3a6c6c81157788b.lock\n"
          ],
          "name": "stderr"
        },
        {
          "output_type": "display_data",
          "data": {
            "application/vnd.jupyter.widget-view+json": {
              "model_id": "1d81d3a176c24361b7470e047281b5b0",
              "version_minor": 0,
              "version_major": 2
            },
            "text/plain": [
              "HBox(children=(FloatProgress(value=0.0, description='Downloading', max=456318.0, style=ProgressStyle(descripti…"
            ]
          },
          "metadata": {
            "tags": []
          }
        },
        {
          "output_type": "stream",
          "text": [
            "12/09/2020 05:24:57 - INFO - filelock -   Lock 140523173146920 released on /root/.cache/huggingface/transformers/4e3f74e7c741909c4d1b48a23febe75c1be66a20c2b98cf7db4b8b10f12dc10c.5d12962c5ee615a4c803841266e9c3be9a691a924f72d395d3a6c6c81157788b.lock\n"
          ],
          "name": "stderr"
        },
        {
          "output_type": "stream",
          "text": [
            "\n"
          ],
          "name": "stdout"
        },
        {
          "output_type": "stream",
          "text": [
            "/usr/local/lib/python3.6/dist-packages/transformers/models/auto/modeling_auto.py:852: FutureWarning: The class `AutoModelWithLMHead` is deprecated and will be removed in a future version. Please use `AutoModelForCausalLM` for causal language models, `AutoModelForMaskedLM` for masked language models and `AutoModelForSeq2SeqLM` for encoder-decoder models.\n",
            "  FutureWarning,\n"
          ],
          "name": "stderr"
        },
        {
          "output_type": "stream",
          "text": [
            "Patient: I have all the symptoms except fever, I went to Medicross and Dr said I can get tested if I want to I'm not sure if I should. She gave me antibiotics Klacid XL 500mg, she said I can take it if I feel worse I'm worried it will make immune system bad? \n",
            "\n",
            "Reference:  I have all the symptoms except fever, I went to Medicross and Dr said I can get tested if I want to I'm not sure if I should. She gave me antibiotics Klacid XL 500mg, she said I can take it if I feel worse I'm worried it will make immune system bad? \n",
            "\n",
            "Predict: It depends on your age and what type of infection you have. If you have a history of pneumonia, you might need to take a test to find out if it is contagious. If \n",
            "\n",
            "\n",
            "Patient: I have pain/discomfort in my lungs. I don't experience simultaneous on both lungs and it not always at the hame position. I don't have a head nor do I have high temperature. I sneeze and cough maybe once a day. Do I have corona, should I get tested? \n",
            "\n",
            "Reference:  I have pain/discomfort in my lungs. I don't experience simultaneous on both lungs and it not always at the hame position. I don't have a head nor do I have high temperature. I sneeze and cough maybe once a day. Do I have corona, should I get tested? \n",
            "\n",
            "Predict: I have had this. You are more likely to get the COVID-19 virus. You may be ill. You should also consult a physician. If you have any symptoms, \n",
            "\n",
            "\n",
            "Patient: I travelled to Mauritius and do not have symptoms. Should I get tested for covid19? \n",
            "\n",
            "Reference:  I travelled to Mauritius and do not have symptoms. Should I get tested for covid19? \n",
            "\n",
            "Predict: Virus is not contagious. It is a virus. You will be fine. \n",
            "\n",
            "\n",
            "Patient: I have a dry cough and a sore throat. I do not have a fever and a slight headache (could be I need more water) I am 4 months pregnant and not sure If I should be tested for Corona? \n",
            "\n",
            "Reference:  I have a dry cough and a sore throat. I do not have a fever and a slight headache (could be I need more water) I am 4 months pregnant and not sure If I should be tested for Corona? \n",
            "\n",
            "Predict: Yes. You should be alright. If you have a sore cough or a dry throat or fever, then you are probably fine. You will need to be tested if you have fever, if you are sick, or if you feel sick, if your cough is dry, or \n",
            "\n",
            "\n",
            "Patient: I went to the Dr for a cough and fever on march 5. They diagnosed me with bronchitis. I was not doing any better, so I returned to the Dr on march 15. They sent me to the ER to get tested for covid. At the er they ran a number of tests including a covid t. \n",
            "\n",
            "Reference:  I went to the Dr for a cough and fever on march 5. They diagnosed me with bronchitis. I was not doing any better, so I returned to the Dr on march 15. They sent me to the ER to get tested for covid. At the er they ran a number of tests including a covid t. \n",
            "\n",
            "Predict: Hello and Welcome to Healthcare Magic.Regards, Dr.Dolce \n",
            "\n",
            "\n",
            "Patient: What’s worse with the coronavirus, type 1 or type 2 diabetes? \n",
            "\n",
            "Reference:  What’s worse with the coronavirus, type 1 or type 2 diabetes? \n",
            "\n",
            "Predict: It depends on the type of diabetes. Type 1 diabetes is more common and can be treated with antibiotics, whereas type 2 is more susceptible to coronaviruses. \n",
            "\n",
            "\n",
            "Patient: Just found out that my MD tested positive for Covid-19. I had direct interaction with him. He has no symptoms, he was tested because he traveled in February to Switzerland. Should I be tested. I’m 67, or wait to see if I develop any symptoms.? \n",
            "\n",
            "Reference:  Just found out that my MD tested positive for Covid-19. I had direct interaction with him. He has no symptoms, he was tested because he traveled in February to Switzerland. Should I be tested. I’m 67, or wait to see if I develop any symptoms.? \n",
            "\n",
            "Predict: Yes.    Your symptoms are normal.  If you have a fever and diarrhea you are likely to have a high risk of contracting COVID-19, but if you have no symptoms you will \n",
            "\n",
            "\n",
            "Patient: Hi. My children and husband were at the doctor yesterday and he has now informed us he has tested positive for covid19 . He has come home to my 2 babies and mom. How long before we can go for a test? \n",
            "\n",
            "Reference:  Hi. My children and husband were at the doctor yesterday and he has now informed us he has tested positive for covid19 . He has come home to my 2 babies and mom. How long before we can go for a test? \n",
            "\n",
            "Predict: Yes. If your husband is tested positive you can go to the doctor and get tested. \n",
            "\n",
            "\n",
            "Patient: We went to bali via singapore, on my second day in bali (17 March) I started feeling a bit sick? \n",
            "\n",
            "Reference:  We went to bali via singapore, on my second day in bali (17 March) I started feeling a bit sick? \n",
            "\n",
            "Predict: It depends on the type of virus.    If you are symptomatic and not sick you should stay home and get tested for the virus. If you have pneumonia, you should also be tested for pneumonia.  Would you like to video or text chat with me? \n",
            "\n",
            "\n",
            "Patient: Is covering mouth and nose by mask sufficient to avoid corona exposure? Can It not be transmitted through eyes and ears? \n",
            "\n",
            "Reference:  Is covering mouth and nose by mask sufficient to avoid corona exposure? Can It not be transmitted through eyes and ears? \n",
            "\n",
            "Predict: No.    If you are not wearing protective gear or mask you should not be exposing yourself to Corona exposure.  Would you like to video or text chat with me? \n",
            "\n",
            "\n",
            "Patient: I have scratchy throat, phlegm, loss of appetite, fatigue. I am pharmacist in research facility. My son had 3rd contact. He has flu symptoms. He was quarantined. We are waiting for the results for his contact. Do I need to test myself? \n",
            "\n",
            "Reference:  I have scratchy throat, phlegm, loss of appetite, fatigue. I am pharmacist in research facility. My son had 3rd contact. He has flu symptoms. He was quarantined. We are waiting for the results for his contact. Do I need to test myself? \n",
            "\n",
            "Predict: I would be happy to assist you in testing.    Would you like to video or text chat with me? \n",
            "\n",
            "\n",
            "Patient: Can animal byproducts spread coronavirus? Do I have to worry about milk, eggs, or fruits? \n",
            "\n",
            "Reference:  Can animal byproducts spread coronavirus? Do I have to worry about milk, eggs, or fruits? \n",
            "\n",
            "Predict: No coronaviruses. Only coronavitosis. \n",
            "\n",
            "\n",
            "Patient: Why are so many people with diabetes dying from the coronavirus? It’s really frightening me. \n",
            "\n",
            "Reference:  Why are so many people with diabetes dying from the coronavirus? It’s really frightening me. \n",
            "\n",
            "Predict: No, but you are in good hands. You should not worry about it.   If you have a heart attack or have a fever or a fever, you should not be worried about it, but it is very unlikely that you are not having a heart condition.  Would you like to video or text chat with me? \n",
            "\n",
            "\n",
            "Patient: I'm just a bit concerned as I have a sore throat and coughing a little bit as a result of my sore throat. My upper body is also aching a bit. Is this a cause for concern? \n",
            "\n",
            "Reference:  I'm just a bit concerned as I have a sore throat and coughing a little bit as a result of my sore throat. My upper body is also aching a bit. Is this a cause for concern? \n",
            "\n",
            "Predict: Not really.    cough and cough are very common symptoms of COVID-19.  The cough is a common cause for the sore throat, but you have no other symptoms.  cough, cough, and throat pain are the most common symptoms. \n",
            "\n",
            "\n",
            "Patient: Will Lysol wipes kill coronavirus? How long can coronavirus live on household surfaces? \n",
            "\n",
            "Reference:  Will Lysol wipes kill coronavirus? How long can coronavirus live on household surfaces? \n",
            "\n",
            "Predict: Yes, you will not be able to isolate coronaviruses. They are not transmitted through household surfaces. You can isolate coronovirus. You will not have to isolate the virus. \n",
            "\n",
            "\n",
            "Patient: Can I catch coronavirus on public transportation from someone who has it? How long do germs on public transportation last? \n",
            "\n",
            "Reference:  Can I catch coronavirus on public transportation from someone who has it? How long do germs on public transportation last? \n",
            "\n",
            "Predict: It depends on the virus.   If you have the virus you can catch it on public transport.  If the virus is present in your home, you should stay home.  Would you like to video or text chat with me? \n",
            "\n",
            "\n",
            "Patient: Is it necessary to get tested for the corona virus if you arrive back in South Africa after visiting Zimbabwe and Victoria falls as part of a group? \n",
            "\n",
            "Reference:  Is it necessary to get tested for the corona virus if you arrive back in South Africa after visiting Zimbabwe and Victoria falls as part of a group? \n",
            "\n",
            "Predict: Not a virus. It is a virus that has spread through the country, and the virus is not contagious to anyone. It has spread to all of Africa, and is not a virus, but a virus which has spread from one country to another. \n",
            "\n",
            "\n",
            "Patient: Hi. This COVID-19 outbreak is scary. I got screened this week and it was negative. But prior to screening I had a week of continuous dry coughs and also throat was sore. I've put myself in a quarantine. What next? Do I still need to screen again? \n",
            "\n",
            "Reference:  Hi. This COVID-19 outbreak is scary. I got screened this week and it was negative. But prior to screening I had a week of continuous dry coughs and also throat was sore. I've put myself in a quarantine. What next? Do I still need to screen again? \n",
            "\n",
            "Predict: Hello,    If you have a fever or sore throat, then you need to see a doctor.   Would you like to video or text chat with me? \n",
            "\n",
            "\n",
            "Patient: Is it true (or a myth) that coronavirus will not survive hotter climates. As summer approaches, is it expected to reduce in tropical summers at least. \n",
            "\n",
            "Reference:  Is it true (or a myth) that coronavirus will not survive hotter climates. As summer approaches, is it expected to reduce in tropical summers at least. \n",
            "\n",
            "Predict: Yes but coronaviruses are not immune to COVID 19. The coronaviro virus is not transmitted through air. The virus is transmitted through COVID19. \n",
            "\n",
            "\n",
            "Patient: I heard ACE inhibitors might exacerbate coronavirus. I also heard NSAIDs might do the same. Does this mean any common meds could have an unexpected effect during coronavirus? \n",
            "\n",
            "Reference:  I heard ACE inhibitors might exacerbate coronavirus. I also heard NSAIDs might do the same. Does this mean any common meds could have an unexpected effect during coronavirus? \n",
            "\n",
            "Predict: No. They are not controlled for coronaviruses. The only way to know if the coronaviral virus is effective is to test for Covid-19. \n",
            "\n",
            "\n",
            "Patient: I have had mild chest pain for over a week. it now seems more persistent and pronounced. I don't have shortness of breath or any other COVID-19 symptoms, except some fatigue. I have been traveling a lot in high risk areas. Should I get tested? \n",
            "\n",
            "Reference:  I have had mild chest pain for over a week. it now seems more persistent and pronounced. I don't have shortness of breath or any other COVID-19 symptoms, except some fatigue. I have been traveling a lot in high risk areas. Should I get tested? \n",
            "\n",
            "Predict: No. It is not. \n",
            "\n",
            "\n",
            "Patient: Ons het teruggekom vanaf oostenryk op 8 Maart..reeds 13 dae gelede. Het tans seer keel maar ook nasale drip. wat staan my te doen? \n",
            "\n",
            "Reference:  Ons het teruggekom vanaf oostenryk op 8 Maart..reeds 13 dae gelede. Het tans seer keel maar ook nasale drip. wat staan my te doen? \n",
            "\n",
            "Predict: ,    Would you like to video or text chat with me? \n",
            "\n",
            "\n",
            "Patient: I have shortness of breath and are worried, I don’t have a cough or sore throat, so they will not test me, should I do a private test? \n",
            "\n",
            "Reference:  I have shortness of breath and are worried, I don’t have a cough or sore throat, so they will not test me, should I do a private test? \n",
            "\n",
            "Predict: Yes, but it depends on your temperature and sensitivity, which are very important to know. You should be alright. \n",
            "\n",
            "\n",
            "Patient: How do you get HPV on the cervix? Is it from skin to skin contact during intercourse from a partner’s genital touching the cervix? Thank you. \n",
            "\n",
            "Reference:  How do you get HPV on the cervix? Is it from skin to skin contact during intercourse from a partner’s genital touching the cervix? Thank you. \n",
            "\n",
            "Predict: No. It is not a virus. It depends on the type of virus. The virus is spread by the person who has had the virus. \n",
            "\n",
            "\n",
            "Patient: My 2year old Son has had a dry cough and a runny nose since thursday . He's not talking yet so it is difficult to tell if he has any trouble breathing so I'm concerned. He does not have temperature ? \n",
            "\n",
            "Reference:  My 2year old Son has had a dry cough and a runny nose since thursday . He's not talking yet so it is difficult to tell if he has any trouble breathing so I'm concerned. He does not have temperature ? \n",
            "\n",
            "Predict: Hello, I am a pediatrician and have reviewed your query. I have reviewed the data and have determined that your son has a dry throat, which is a symptom of COVID-19. If you have a fever or cough, it is likely that the \n",
            "\n",
            "\n",
            "Patient: Can I test?No known contact with Corona  but been in contact with with Congo dr friend 7march. She is still healthy now. I had Slight Sore throat wed 11 &12 March . phlegm and red eyes. Temp seemed ok. Got thermometer .ok. 19 felt better but coughing. \n",
            "\n",
            "Reference:  Can I test?No known contact with Corona  but been in contact with with Congo dr friend 7march. She is still healthy now. I had Slight Sore throat wed 11 &12 March . phlegm and red eyes. Temp seemed ok. Got thermometer .ok. 19 felt better but coughing. \n",
            "\n",
            "Predict: Hello and Welcome to the community. I have evaluated your query and here is my advice. Please contact me.  Would you like to video or text chat with me? \n",
            "\n",
            "\n",
            "Patient: I’m so Scared that I will die if I get the coronavirus, due to type1 diabetes? \n",
            "\n",
            "Reference:  I’m so Scared that I will die if I get the coronavirus, due to type1 diabetes? \n",
            "\n",
            "Predict: Not at all. The coronaviruses are a type 1, and are a risk to you, so you should stay away.    \n",
            "\n",
            "\n",
            "Patient: A 2 year complaining that his head is sore. We gave him panado in the morning and at midday. He can't sleep he keeps waking up crying its painful. Should I take him to a Dr or hospital? \n",
            "\n",
            "Reference:  A 2 year complaining that his head is sore. We gave him panado in the morning and at midday. He can't sleep he keeps waking up crying its painful. Should I take him to a Dr or hospital? \n",
            "\n",
            "Predict: Yes. You should get tested for COVID-19.    You should also get tested.  Would you like to video or text chat with me? \n",
            "\n",
            "\n",
            "Patient: I have covid 19 symptoms? \n",
            "\n",
            "Reference:  I have covid 19 symptoms? \n",
            "\n",
            "Predict: Covid 19 is a symptom of COVID-19.    The symptoms are not clear.  Would you like to video or text chat with me? \n",
            "\n",
            "\n",
            "Patient: I've been in contact with a possible covid-19 case who is waiting on results. My brother seems to be I'll with Corona symptoms and I'd like to get advice on how to help him, as his safety will ensure my safety and prevent the spread of the virus. \n",
            "\n",
            "Reference:  I've been in contact with a possible covid-19 case who is waiting on results. My brother seems to be I'll with Corona symptoms and I'd like to get advice on how to help him, as his safety will ensure my safety and prevent the spread of the virus. \n",
            "\n",
            "Predict: Hello, I have tested your query. Please contact me via private message. I can assist you further. Let me know if I can help you further!!! \n",
            "\n",
            "\n",
            "Patient: I have mild irritation in my chest but I am not coughing, I just feel a tingling sensation on my thought. I have no fever, no aches should I be worried about COVID 19? \n",
            "\n",
            "Reference:  I have mild irritation in my chest but I am not coughing, I just feel a tingling sensation on my thought. I have no fever, no aches should I be worried about COVID 19? \n",
            "\n",
            "Predict: Not sure if it is a COVID19 or if it has been tested but you should be alright to go to the doctor.    You can also use a nasal spray to mask your symptoms, as you are coughing, and if you have fever or have a fever go to \n",
            "\n",
            "\n",
            "Patient: Swollen tonsils, cough, and feeling slightly feverish. \n",
            "\n",
            "Reference:  Swollen tonsils, cough, and feeling slightly feverish. \n",
            "\n",
            "Predict: What are the symptoms of COVID-19? \n",
            "\n",
            "\n",
            "Patient: I have a sore throat  and a bit of a cough. This morning i coughed up mucus with what look like blood. Is this a sign of covid 19? \n",
            "\n",
            "Reference:  I have a sore throat  and a bit of a cough. This morning i coughed up mucus with what look like blood. Is this a sign of covid 19? \n",
            "\n",
            "Predict: Covid 19.    You should call your doctor if you feel sick.  Your symptoms are not normal.  Would you like to video or text chat with me? \n",
            "\n",
            "\n",
            "Patient: Symptoms include irritation in the throat, dry cough, trouble breathing properly, headache. However not really a sign of a fever. Temperature is about 35 degrees. Should I get tested? \n",
            "\n",
            "Reference:  Symptoms include irritation in the throat, dry cough, trouble breathing properly, headache. However not really a sign of a fever. Temperature is about 35 degrees. Should I get tested? \n",
            "\n",
            "Predict: Not yet.    You should be tested for Covid19, and get tested.  Would you like to video or text chat with me? \n",
            "\n",
            "\n",
            "Patient: I am 63 living in Jhb and have had a tight chest and sore throat and wet cough for more than a week ? \n",
            "\n",
            "Reference:  I am 63 living in Jhb and have had a tight chest and sore throat and wet cough for more than a week ? \n",
            "\n",
            "Predict: Yes, it's not a fever, but you should definitely get tested.    The fever is not a sign of a fever or a dry cough, but if it is a fever then the symptoms are not very serious.  Would you like to video or text chat with me? \n",
            "\n",
            "\n",
            "Patient: Chronic sore throat for 4 months. Not strep. No fever. Bloody green phlegm for a while. Sinus congestion and pressure sometimes. Bad breath in back of throat sometimes. Maybe post nasal drip. 2 wks. Of amoxicillin didn’t help. Is this mild COVID-19? \n",
            "\n",
            "Reference:  Chronic sore throat for 4 months. Not strep. No fever. Bloody green phlegm for a while. Sinus congestion and pressure sometimes. Bad breath in back of throat sometimes. Maybe post nasal drip. 2 wks. Of amoxicillin didn’t help. Is this mild COVID-19? \n",
            "\n",
            "Predict: Not really.    Would you like to video or text chat with me? \n",
            "\n",
            "\n",
            "Patient: Been sneezing / stuffy nose and slight sore throat since returning from France, temperature is okay, not coughing or high fever symptoms, should I be alarmed? \n",
            "\n",
            "Reference:  Been sneezing / stuffy nose and slight sore throat since returning from France, temperature is okay, not coughing or high fever symptoms, should I be alarmed? \n",
            "\n",
            "Predict: Not sure if you have a fever or a cough. If you have been in contact with someone with a fever, you may be at risk of getting sick. Stay home and stay well hydrated. \n",
            "\n",
            "\n",
            "Patient: Can I go for Coronavirus testing if my nose is blocked and I have traveled from a high risk country? \n",
            "\n",
            "Reference:  Can I go for Coronavirus testing if my nose is blocked and I have traveled from a high risk country? \n",
            "\n",
            "Predict: No, no. \n",
            "\n",
            "\n",
            "Patient: My 5 year old daughter has just come down with a 39 degree fever, sneezing, runny nose and cough. Should we get her tested? \n",
            "\n",
            "Reference:  My 5 year old daughter has just come down with a 39 degree fever, sneezing, runny nose and cough. Should we get her tested? \n",
            "\n",
            "Predict: In brief: Yes. She is currently having a fever, and is experiencing severe headaches, but has been on the internet for a few days. In brief: yes. She has been sick and is having a mild fever, but is also having a slight cough, which is very mild, but she has been in contact with a lot of \n",
            "\n",
            "\n",
            "Patient: I am a quadriplegic and have a tight chest and slight difficulty breathing.  Overnight I started feeling like I need to clear my throat. I flew home to Joburg from CPT 8 days ago & have been self isolating as a precaution. ? \n",
            "\n",
            "Reference:  I am a quadriplegic and have a tight chest and slight difficulty breathing.  Overnight I started feeling like I need to clear my throat. I flew home to Joburg from CPT 8 days ago & have been self isolating as a precaution. ? \n",
            "\n",
            "Predict: Hello and Welcome to the Healthcare Magic Magic. You should be evaluated by a doctor if you have a fever or other symptoms.  Would you like to video or text chat with me? \n",
            "\n",
            "\n",
            "Patient: Hi I am 39 years old and returned from Germany 19 days ago. Yesterday I started getting a sore throat, runny nose. Today I have sinus pressure and a headache with a blocked nose, throat seems to be improving. Should I get tested. If so how? \n",
            "\n",
            "Reference:  Hi I am 39 years old and returned from Germany 19 days ago. Yesterday I started getting a sore throat, runny nose. Today I have sinus pressure and a headache with a blocked nose, throat seems to be improving. Should I get tested. If so how? \n",
            "\n",
            "Predict: It is not normal. If you have a sore nose and a sore neck or cough you should definitely get tested, and if you are not feeling well you should probably get tested for COVID 19. \n",
            "\n",
            "\n",
            "Patient: Hi I am 39 years old and have flu like symptoms as of yesterday. Runny nose, sore throat. No fever yet. I returned from Germany 19 days ago. Should I get tested for cov19? \n",
            "\n",
            "Reference:  Hi I am 39 years old and have flu like symptoms as of yesterday. Runny nose, sore throat. No fever yet. I returned from Germany 19 days ago. Should I get tested for cov19? \n",
            "\n",
            "Predict: No. You are fine. You will be fine. \n",
            "\n",
            "\n",
            "Patient: If you have wolf Parkinson white syndrome does this make you more of a risk with Covid 19? \n",
            "\n",
            "Reference:  If you have wolf Parkinson white syndrome does this make you more of a risk with Covid 19? \n",
            "\n",
            "Predict: No. Covid19 is not a known cause of COVID-19. Covid is a very serious disease. You should stay home. \n",
            "\n",
            "\n",
            "Patient: Criteria for COVID test? \n",
            "\n",
            "Reference:  Criteria for COVID test? \n",
            "\n",
            "Predict: Hello and Welcome to RAOA Health Counseling & Medicine.    Would you like to video or text chat with me? \n",
            "\n",
            "\n",
            "Patient: I have been feeling sick for a couple of days now and tried self medication but does not seem to help. I suffer from Polycystic Kidney disease, low blood pressure, Anemic, Endometriosis, Chronic sinus. \n",
            "\n",
            "Reference:  I have been feeling sick for a couple of days now and tried self medication but does not seem to help. I suffer from Polycystic Kidney disease, low blood pressure, Anemic, Endometriosis, Chronic sinus. \n",
            "\n",
            "Predict: Hello and Welcome to Healthcare Magic.Welcome to Magic.Hope I have answered your query.Regards,Dr.Jolanda. \n",
            "\n",
            "\n",
            "Patient: I have had a runny nose and have been coughing and have had on and off headaches. I went to the doctor the first time, he gave me an antibiotic and i got worse then I went back a and he gave me a different one but it seems I still have these symptoms? \n",
            "\n",
            "Reference:  I have had a runny nose and have been coughing and have had on and off headaches. I went to the doctor the first time, he gave me an antibiotic and i got worse then I went back a and he gave me a different one but it seems I still have these symptoms? \n",
            "\n",
            "Predict: Coughing is a symptom of COVID-19.    You should be taking the antibiotics and see a doctor.  Would you like to video or text chat with me? \n",
            "\n",
            "\n",
            "Patient: I am experiencing headache (severity: moderate) (time frame: gradual) (occurred: 1 - 3 hours) (side: front) (worsened by: psychological stress, being tired, menstruation, skipping meals) (unaffected by: bending forward, changes in sleep pattern, sneeze or. \n",
            "\n",
            "Reference:  I am experiencing headache (severity: moderate) (time frame: gradual) (occurred: 1 - 3 hours) (side: front) (worsened by: psychological stress, being tired, menstruation, skipping meals) (unaffected by: bending forward, changes in sleep pattern, sneeze or. \n",
            "\n",
            "Predict: !!!Hello!!Hi!!’!!Stay safe!!Thanks!! \n",
            "\n",
            "\n",
            "Patient: This may sound silly but I’m wondering, if touch something in store that has Coronavirus 19 on it and it gets on clothes should we go home wash them soon as possible then shower and new clothes on so it dont get on our stuff at home ? \n",
            "\n",
            "Reference:  This may sound silly but I’m wondering, if touch something in store that has Coronavirus 19 on it and it gets on clothes should we go home wash them soon as possible then shower and new clothes on so it dont get on our stuff at home ? \n",
            "\n",
            "Predict: Yes.    If you have a dry or dry body you should not touch your clothes.   Would you like to video or text chat with me? \n",
            "\n",
            "\n",
            "Patient: Re Covid 19 I understand the incubation period of Covid 19 is up to 14 days. But how long is the contagious period? I have read one is contagious 2 days before showing symptoms. Is that true? Are you still contagious until symptom free? \n",
            "\n",
            "Reference:  Re Covid 19 I understand the incubation period of Covid 19 is up to 14 days. But how long is the contagious period? I have read one is contagious 2 days before showing symptoms. Is that true? Are you still contagious until symptom free? \n",
            "\n",
            "Predict: No. Covid19 is not contagious. Covids are not contagious but they are not transmitted through the virus. The virus is transmitted through a short period of time. You should be more careful with your self quarantine. \n",
            "\n",
            "\n",
            "Patient: Hi I am a health worker and a chronic asthmatic, is it easier for me to contract Corona? Will I survive it with my comorbidity? Should I ask for special leave during this time? I already feel my sinus blocked, very minor sore throat, seldom dry cough. \n",
            "\n",
            "Reference:  Hi I am a health worker and a chronic asthmatic, is it easier for me to contract Corona? Will I survive it with my comorbidity? Should I ask for special leave during this time? I already feel my sinus blocked, very minor sore throat, seldom dry cough. \n",
            "\n",
            "Predict: Corona is not a very good virus. It is very common.    You should be more careful with the corona.  Would you like to video or text chat with me? \n",
            "\n",
            "\n",
            "Patient: Possible COVID-19 - mild symptoms - Next steps? Symptoms: - Initially: tight chest, stuffy nose - 10% difficulty breathing - Mildly feverish (hot and dry mouth, bit weak) for a few hours yesterday - Mostly fine this morning (5% breathing difficulty). \n",
            "\n",
            "Reference:  Possible COVID-19 - mild symptoms - Next steps? Symptoms: - Initially: tight chest, stuffy nose - 10% difficulty breathing - Mildly feverish (hot and dry mouth, bit weak) for a few hours yesterday - Mostly fine this morning (5% breathing difficulty). \n",
            "\n",
            "Predict: Hi and Welcome to RA.  Would you like to video or text chat with me? \n",
            "\n",
            "\n",
            "Patient: Throat a bit sore and want to get a good imune booster, especially in light of the virus. Please advise. Have not been in contact with Nyone with the virus. \n",
            "\n",
            "Reference:  Throat a bit sore and want to get a good imune booster, especially in light of the virus. Please advise. Have not been in contact with Nyone with the virus. \n",
            "\n",
            "Predict: Hello and Welcome to the community. We are here for you. Let me know if I can assist you. Regards,,Dr.Bunelknik, \n",
            "\n",
            "\n",
            "Patient: I have had a sore throat (glands enlarged in throat) for over a week and I have constant headache. Do I need COVID-19 test. If yes, how do a get someone to come to my house to test. \n",
            "\n",
            "Reference:  I have had a sore throat (glands enlarged in throat) for over a week and I have constant headache. Do I need COVID-19 test. If yes, how do a get someone to come to my house to test. \n",
            "\n",
            "Predict: Hello and Welcome to the Healthcare Magic.    If you have a fever, a cough, or sore throat or fever, consult a doctor. If you are having a sore cough or throat or throat infection, you are likely to have a throat infection \n",
            "\n",
            "\n",
            "Patient: Do I just go to a Dr to determine if it's a sinus infection or do I go get tested for COVID first? To not risk anyone in practice? \n",
            "\n",
            "Reference:  Do I just go to a Dr to determine if it's a sinus infection or do I go get tested for COVID first? To not risk anyone in practice? \n",
            "\n",
            "Predict: No need to worry. COVID can be transmitted through COVID. If you are not sure, you can contact your local health department or your local doctor. \n",
            "\n",
            "\n",
            "Patient: I have a dry cough and sore throat- it's been a week now and the cough seems to be getting worse- no runny nose or fever, sometimes a headache, no shortness of breath...should I get tested for covid19? \n",
            "\n",
            "Reference:  I have a dry cough and sore throat- it's been a week now and the cough seems to be getting worse- no runny nose or fever, sometimes a headache, no shortness of breath...should I get tested for covid19? \n",
            "\n",
            "Predict: Covid19. You will be fine. If you are in contact with someone who has covid 19, you should definitely get tested. \n",
            "\n",
            "\n",
            "Patient: If you've been infected by SARS-CoV-2, develop Covid-19 symptoms and recover, can you: 1) develop immunity to Covid-19 2) infect others after 14 days post-symptom onset & recovery 3) get re-infected later by SARS-CoV-2 despite developing immunity? \n",
            "\n",
            "Reference:  If you've been infected by SARS-CoV-2, develop Covid-19 symptoms and recover, can you: 1) develop immunity to Covid-19 2) infect others after 14 days post-symptom onset & recovery 3) get re-infected later by SARS-CoV-2 despite developing immunity? \n",
            "\n",
            "Predict: Yes, you can. You can get the virus and recover. \n",
            "\n",
            "\n",
            "Patient: If I get coronavirus, are there ways to avoid getting other illnesses as well, like pneumonia? \n",
            "\n",
            "Reference:  If I get coronavirus, are there ways to avoid getting other illnesses as well, like pneumonia? \n",
            "\n",
            "Predict: Don't get coronovirus. Avoid contact with other people with the same symptoms. \n",
            "\n",
            "\n",
            "Patient: I was on a plane on March 8th have been home ever since self quarantine myself I have had headaches and runny throat I have 2 days left of my self quarantine should I be having worse symptoms by now ? \n",
            "\n",
            "Reference:  I was on a plane on March 8th have been home ever since self quarantine myself I have had headaches and runny throat I have 2 days left of my self quarantine should I be having worse symptoms by now ? \n",
            "\n",
            "Predict: No. You should not have to go to the doctor, as you have a fever, headache, and a cough. \n",
            "\n",
            "\n",
            "Patient: My son has a fever, I am concerned due to the coronavirus ? \n",
            "\n",
            "Reference:  My son has a fever, I am concerned due to the coronavirus ? \n",
            "\n",
            "Predict: Coughing is the cause of fever, but not coronaviruses. If you are concerned about corona you should consult your physician.    Would you like to video or text chat with me? \n",
            "\n",
            "\n",
            "Patient: Can coronavirus symptoms be mild for some people versus severe? For example, could it just involve being very fatigued, low grade fever for a few days and not the extreme symptoms? Or is it always a full blown cold and struggle to breathe? \n",
            "\n",
            "Reference:  Can coronavirus symptoms be mild for some people versus severe? For example, could it just involve being very fatigued, low grade fever for a few days and not the extreme symptoms? Or is it always a full blown cold and struggle to breathe? \n",
            "\n",
            "Predict: It depends on the type of coronaviruses and the severity of the disease. If you are experiencing severe symptoms, you should not worry. \n",
            "\n",
            "\n",
            "Patient: Good day,  I am 29 weeks pregnant and my profession is teaching, I also have a 2 year old son.  My chest and throat is sore, I have a constant headache and feel dizzy at times. Is it necessary to get myself tested for the coronavirus? \n",
            "\n",
            "Reference:  Good day,  I am 29 weeks pregnant and my profession is teaching, I also have a 2 year old son.  My chest and throat is sore, I have a constant headache and feel dizzy at times. Is it necessary to get myself tested for the coronavirus? \n",
            "\n",
            "Predict: In brief: yes, but not as severe as you would like to believe, and you can get tested for coronaviruses at home, if you have a fever, cough, or fever.  If \n",
            "\n",
            "\n",
            "61\n"
          ],
          "name": "stdout"
        }
      ]
    },
    {
      "cell_type": "code",
      "metadata": {
        "id": "ZRJJ3YcERdLF"
      },
      "source": [
        "with open('gpt2-results.txt', 'w') as f:\n",
        "    for i in test_chatbot:\n",
        "        f.write('Chatbot: %s\\n\\n' % i)"
      ],
      "execution_count": null,
      "outputs": []
    },
    {
      "cell_type": "code",
      "metadata": {
        "id": "3BmAO50tibOc"
      },
      "source": [
        "with open('gpt2-results-conversation.txt', 'w') as f:\n",
        "    for i in range(len(test_chatbot)):\n",
        "        f.write(\"--------------------example %s--------------------\\n\" %(i+1))\n",
        "        f.write('Patient: %s\\n' % test_query[i])\n",
        "        f.write('Reference: %s\\n' % test_response[i])\n",
        "        f.write('Predict: %s\\n' % test_chatbot[i])\n",
        "        f.write('\\n')"
      ],
      "execution_count": null,
      "outputs": []
    },
    {
      "cell_type": "markdown",
      "metadata": {
        "id": "HnV2P6PpWNUi"
      },
      "source": [
        "## Metrics"
      ]
    },
    {
      "cell_type": "code",
      "metadata": {
        "colab": {
          "base_uri": "https://localhost:8080/"
        },
        "id": "0wfYNahDfPBZ",
        "outputId": "566eaa86-f493-456a-b9d8-de400becf17c"
      },
      "source": [
        "pip install \"nltk==3.4.5\""
      ],
      "execution_count": null,
      "outputs": [
        {
          "output_type": "stream",
          "text": [
            "Collecting nltk==3.4.5\n",
            "\u001b[?25l  Downloading https://files.pythonhosted.org/packages/f6/1d/d925cfb4f324ede997f6d47bea4d9babba51b49e87a767c170b77005889d/nltk-3.4.5.zip (1.5MB)\n",
            "\r\u001b[K     |▎                               | 10kB 19.4MB/s eta 0:00:01\r\u001b[K     |▌                               | 20kB 26.5MB/s eta 0:00:01\r\u001b[K     |▊                               | 30kB 24.9MB/s eta 0:00:01\r\u001b[K     |█                               | 40kB 15.7MB/s eta 0:00:01\r\u001b[K     |█▏                              | 51kB 18.0MB/s eta 0:00:01\r\u001b[K     |█▍                              | 61kB 18.9MB/s eta 0:00:01\r\u001b[K     |█▋                              | 71kB 15.9MB/s eta 0:00:01\r\u001b[K     |█▉                              | 81kB 16.0MB/s eta 0:00:01\r\u001b[K     |██                              | 92kB 16.3MB/s eta 0:00:01\r\u001b[K     |██▎                             | 102kB 17.3MB/s eta 0:00:01\r\u001b[K     |██▌                             | 112kB 17.3MB/s eta 0:00:01\r\u001b[K     |██▊                             | 122kB 17.3MB/s eta 0:00:01\r\u001b[K     |███                             | 133kB 17.3MB/s eta 0:00:01\r\u001b[K     |███▏                            | 143kB 17.3MB/s eta 0:00:01\r\u001b[K     |███▍                            | 153kB 17.3MB/s eta 0:00:01\r\u001b[K     |███▋                            | 163kB 17.3MB/s eta 0:00:01\r\u001b[K     |███▉                            | 174kB 17.3MB/s eta 0:00:01\r\u001b[K     |████                            | 184kB 17.3MB/s eta 0:00:01\r\u001b[K     |████▎                           | 194kB 17.3MB/s eta 0:00:01\r\u001b[K     |████▌                           | 204kB 17.3MB/s eta 0:00:01\r\u001b[K     |████▊                           | 215kB 17.3MB/s eta 0:00:01\r\u001b[K     |█████                           | 225kB 17.3MB/s eta 0:00:01\r\u001b[K     |█████▏                          | 235kB 17.3MB/s eta 0:00:01\r\u001b[K     |█████▍                          | 245kB 17.3MB/s eta 0:00:01\r\u001b[K     |█████▋                          | 256kB 17.3MB/s eta 0:00:01\r\u001b[K     |█████▉                          | 266kB 17.3MB/s eta 0:00:01\r\u001b[K     |██████                          | 276kB 17.3MB/s eta 0:00:01\r\u001b[K     |██████▎                         | 286kB 17.3MB/s eta 0:00:01\r\u001b[K     |██████▌                         | 296kB 17.3MB/s eta 0:00:01\r\u001b[K     |██████▊                         | 307kB 17.3MB/s eta 0:00:01\r\u001b[K     |███████                         | 317kB 17.3MB/s eta 0:00:01\r\u001b[K     |███████▎                        | 327kB 17.3MB/s eta 0:00:01\r\u001b[K     |███████▌                        | 337kB 17.3MB/s eta 0:00:01\r\u001b[K     |███████▊                        | 348kB 17.3MB/s eta 0:00:01\r\u001b[K     |████████                        | 358kB 17.3MB/s eta 0:00:01\r\u001b[K     |████████▏                       | 368kB 17.3MB/s eta 0:00:01\r\u001b[K     |████████▍                       | 378kB 17.3MB/s eta 0:00:01\r\u001b[K     |████████▋                       | 389kB 17.3MB/s eta 0:00:01\r\u001b[K     |████████▉                       | 399kB 17.3MB/s eta 0:00:01\r\u001b[K     |█████████                       | 409kB 17.3MB/s eta 0:00:01\r\u001b[K     |█████████▎                      | 419kB 17.3MB/s eta 0:00:01\r\u001b[K     |█████████▌                      | 430kB 17.3MB/s eta 0:00:01\r\u001b[K     |█████████▊                      | 440kB 17.3MB/s eta 0:00:01\r\u001b[K     |██████████                      | 450kB 17.3MB/s eta 0:00:01\r\u001b[K     |██████████▏                     | 460kB 17.3MB/s eta 0:00:01\r\u001b[K     |██████████▍                     | 471kB 17.3MB/s eta 0:00:01\r\u001b[K     |██████████▋                     | 481kB 17.3MB/s eta 0:00:01\r\u001b[K     |██████████▉                     | 491kB 17.3MB/s eta 0:00:01\r\u001b[K     |███████████                     | 501kB 17.3MB/s eta 0:00:01\r\u001b[K     |███████████▎                    | 512kB 17.3MB/s eta 0:00:01\r\u001b[K     |███████████▌                    | 522kB 17.3MB/s eta 0:00:01\r\u001b[K     |███████████▊                    | 532kB 17.3MB/s eta 0:00:01\r\u001b[K     |████████████                    | 542kB 17.3MB/s eta 0:00:01\r\u001b[K     |████████████▏                   | 552kB 17.3MB/s eta 0:00:01\r\u001b[K     |████████████▍                   | 563kB 17.3MB/s eta 0:00:01\r\u001b[K     |████████████▋                   | 573kB 17.3MB/s eta 0:00:01\r\u001b[K     |████████████▉                   | 583kB 17.3MB/s eta 0:00:01\r\u001b[K     |█████████████                   | 593kB 17.3MB/s eta 0:00:01\r\u001b[K     |█████████████▎                  | 604kB 17.3MB/s eta 0:00:01\r\u001b[K     |█████████████▌                  | 614kB 17.3MB/s eta 0:00:01\r\u001b[K     |█████████████▉                  | 624kB 17.3MB/s eta 0:00:01\r\u001b[K     |██████████████                  | 634kB 17.3MB/s eta 0:00:01\r\u001b[K     |██████████████▎                 | 645kB 17.3MB/s eta 0:00:01\r\u001b[K     |██████████████▌                 | 655kB 17.3MB/s eta 0:00:01\r\u001b[K     |██████████████▊                 | 665kB 17.3MB/s eta 0:00:01\r\u001b[K     |███████████████                 | 675kB 17.3MB/s eta 0:00:01\r\u001b[K     |███████████████▏                | 686kB 17.3MB/s eta 0:00:01\r\u001b[K     |███████████████▍                | 696kB 17.3MB/s eta 0:00:01\r\u001b[K     |███████████████▋                | 706kB 17.3MB/s eta 0:00:01\r\u001b[K     |███████████████▉                | 716kB 17.3MB/s eta 0:00:01\r\u001b[K     |████████████████                | 727kB 17.3MB/s eta 0:00:01\r\u001b[K     |████████████████▎               | 737kB 17.3MB/s eta 0:00:01\r\u001b[K     |████████████████▌               | 747kB 17.3MB/s eta 0:00:01\r\u001b[K     |████████████████▊               | 757kB 17.3MB/s eta 0:00:01\r\u001b[K     |█████████████████               | 768kB 17.3MB/s eta 0:00:01\r\u001b[K     |█████████████████▏              | 778kB 17.3MB/s eta 0:00:01\r\u001b[K     |█████████████████▍              | 788kB 17.3MB/s eta 0:00:01\r\u001b[K     |█████████████████▋              | 798kB 17.3MB/s eta 0:00:01\r\u001b[K     |█████████████████▉              | 808kB 17.3MB/s eta 0:00:01\r\u001b[K     |██████████████████              | 819kB 17.3MB/s eta 0:00:01\r\u001b[K     |██████████████████▎             | 829kB 17.3MB/s eta 0:00:01\r\u001b[K     |██████████████████▌             | 839kB 17.3MB/s eta 0:00:01\r\u001b[K     |██████████████████▊             | 849kB 17.3MB/s eta 0:00:01\r\u001b[K     |███████████████████             | 860kB 17.3MB/s eta 0:00:01\r\u001b[K     |███████████████████▏            | 870kB 17.3MB/s eta 0:00:01\r\u001b[K     |███████████████████▍            | 880kB 17.3MB/s eta 0:00:01\r\u001b[K     |███████████████████▋            | 890kB 17.3MB/s eta 0:00:01\r\u001b[K     |███████████████████▉            | 901kB 17.3MB/s eta 0:00:01\r\u001b[K     |████████████████████            | 911kB 17.3MB/s eta 0:00:01\r\u001b[K     |████████████████████▎           | 921kB 17.3MB/s eta 0:00:01\r\u001b[K     |████████████████████▋           | 931kB 17.3MB/s eta 0:00:01\r\u001b[K     |████████████████████▉           | 942kB 17.3MB/s eta 0:00:01\r\u001b[K     |█████████████████████           | 952kB 17.3MB/s eta 0:00:01\r\u001b[K     |█████████████████████▎          | 962kB 17.3MB/s eta 0:00:01\r\u001b[K     |█████████████████████▌          | 972kB 17.3MB/s eta 0:00:01\r\u001b[K     |█████████████████████▊          | 983kB 17.3MB/s eta 0:00:01\r\u001b[K     |██████████████████████          | 993kB 17.3MB/s eta 0:00:01\r\u001b[K     |██████████████████████▏         | 1.0MB 17.3MB/s eta 0:00:01\r\u001b[K     |██████████████████████▍         | 1.0MB 17.3MB/s eta 0:00:01\r\u001b[K     |██████████████████████▋         | 1.0MB 17.3MB/s eta 0:00:01\r\u001b[K     |██████████████████████▉         | 1.0MB 17.3MB/s eta 0:00:01\r\u001b[K     |███████████████████████         | 1.0MB 17.3MB/s eta 0:00:01\r\u001b[K     |███████████████████████▎        | 1.1MB 17.3MB/s eta 0:00:01\r\u001b[K     |███████████████████████▌        | 1.1MB 17.3MB/s eta 0:00:01\r\u001b[K     |███████████████████████▊        | 1.1MB 17.3MB/s eta 0:00:01\r\u001b[K     |████████████████████████        | 1.1MB 17.3MB/s eta 0:00:01\r\u001b[K     |████████████████████████▏       | 1.1MB 17.3MB/s eta 0:00:01\r\u001b[K     |████████████████████████▍       | 1.1MB 17.3MB/s eta 0:00:01\r\u001b[K     |████████████████████████▋       | 1.1MB 17.3MB/s eta 0:00:01\r\u001b[K     |████████████████████████▉       | 1.1MB 17.3MB/s eta 0:00:01\r\u001b[K     |█████████████████████████       | 1.1MB 17.3MB/s eta 0:00:01\r\u001b[K     |█████████████████████████▎      | 1.1MB 17.3MB/s eta 0:00:01\r\u001b[K     |█████████████████████████▌      | 1.2MB 17.3MB/s eta 0:00:01\r\u001b[K     |█████████████████████████▊      | 1.2MB 17.3MB/s eta 0:00:01\r\u001b[K     |██████████████████████████      | 1.2MB 17.3MB/s eta 0:00:01\r\u001b[K     |██████████████████████████▏     | 1.2MB 17.3MB/s eta 0:00:01\r\u001b[K     |██████████████████████████▍     | 1.2MB 17.3MB/s eta 0:00:01\r\u001b[K     |██████████████████████████▋     | 1.2MB 17.3MB/s eta 0:00:01\r\u001b[K     |██████████████████████████▉     | 1.2MB 17.3MB/s eta 0:00:01\r\u001b[K     |███████████████████████████     | 1.2MB 17.3MB/s eta 0:00:01\r\u001b[K     |███████████████████████████▍    | 1.2MB 17.3MB/s eta 0:00:01\r\u001b[K     |███████████████████████████▋    | 1.2MB 17.3MB/s eta 0:00:01\r\u001b[K     |███████████████████████████▉    | 1.3MB 17.3MB/s eta 0:00:01\r\u001b[K     |████████████████████████████    | 1.3MB 17.3MB/s eta 0:00:01\r\u001b[K     |████████████████████████████▎   | 1.3MB 17.3MB/s eta 0:00:01\r\u001b[K     |████████████████████████████▌   | 1.3MB 17.3MB/s eta 0:00:01\r\u001b[K     |████████████████████████████▊   | 1.3MB 17.3MB/s eta 0:00:01\r\u001b[K     |█████████████████████████████   | 1.3MB 17.3MB/s eta 0:00:01\r\u001b[K     |█████████████████████████████▏  | 1.3MB 17.3MB/s eta 0:00:01\r\u001b[K     |█████████████████████████████▍  | 1.3MB 17.3MB/s eta 0:00:01\r\u001b[K     |█████████████████████████████▋  | 1.3MB 17.3MB/s eta 0:00:01\r\u001b[K     |█████████████████████████████▉  | 1.4MB 17.3MB/s eta 0:00:01\r\u001b[K     |██████████████████████████████  | 1.4MB 17.3MB/s eta 0:00:01\r\u001b[K     |██████████████████████████████▎ | 1.4MB 17.3MB/s eta 0:00:01\r\u001b[K     |██████████████████████████████▌ | 1.4MB 17.3MB/s eta 0:00:01\r\u001b[K     |██████████████████████████████▊ | 1.4MB 17.3MB/s eta 0:00:01\r\u001b[K     |███████████████████████████████ | 1.4MB 17.3MB/s eta 0:00:01\r\u001b[K     |███████████████████████████████▏| 1.4MB 17.3MB/s eta 0:00:01\r\u001b[K     |███████████████████████████████▍| 1.4MB 17.3MB/s eta 0:00:01\r\u001b[K     |███████████████████████████████▋| 1.4MB 17.3MB/s eta 0:00:01\r\u001b[K     |███████████████████████████████▉| 1.4MB 17.3MB/s eta 0:00:01\r\u001b[K     |████████████████████████████████| 1.5MB 17.3MB/s \n",
            "\u001b[?25hRequirement already satisfied: six in /usr/local/lib/python3.6/dist-packages (from nltk==3.4.5) (1.15.0)\n",
            "Building wheels for collected packages: nltk\n",
            "  Building wheel for nltk (setup.py) ... \u001b[?25l\u001b[?25hdone\n",
            "  Created wheel for nltk: filename=nltk-3.4.5-cp36-none-any.whl size=1449906 sha256=d1ae353cc27559dfeb175ef58878a58498b2b8c618c0b6519716c2a0b7d2930d\n",
            "  Stored in directory: /root/.cache/pip/wheels/96/86/f6/68ab24c23f207c0077381a5e3904b2815136b879538a24b483\n",
            "Successfully built nltk\n",
            "Installing collected packages: nltk\n",
            "  Found existing installation: nltk 3.2.5\n",
            "    Uninstalling nltk-3.2.5:\n",
            "      Successfully uninstalled nltk-3.2.5\n",
            "Successfully installed nltk-3.4.5\n"
          ],
          "name": "stdout"
        }
      ]
    },
    {
      "cell_type": "code",
      "metadata": {
        "id": "y_6uMEd6WcLe"
      },
      "source": [
        "import nltk\n",
        "from nltk.translate.bleu_score import sentence_bleu\n",
        "from nltk.translate.meteor_score import meteor_score\n",
        "from nltk.translate.bleu_score import SmoothingFunction\n",
        "from nltk.translate.meteor_score import meteor_score\n",
        "from nltk.translate.nist_score import sentence_nist\n"
      ],
      "execution_count": null,
      "outputs": []
    },
    {
      "cell_type": "code",
      "metadata": {
        "id": "S_OPMDr4WO6t"
      },
      "source": [
        "def get_metrics(pred, target):\n",
        "    turns = len(target)\n",
        "    bleu_2 = 0\n",
        "    bleu_4 = 0\n",
        "    meteor = 0\n",
        "    nist_2 = 0\n",
        "    nist_4 = 0\n",
        "    for index in range(turns):\n",
        "        pred_utt = pred[index]\n",
        "        target_utt = target[index]\n",
        "        min_len = min(len(pred_utt), len(target_utt))\n",
        "        lens = min(min_len, 4)\n",
        "        if lens == 0:\n",
        "            continue\n",
        "        if lens >= 4:\n",
        "            bleu_4_utt = sentence_bleu([target_utt], pred_utt, weights = (0.25, 0.25, 0.25, 0.25), smoothing_function = SmoothingFunction().method1)\n",
        "            nist_4_utt = sentence_nist([target_utt], pred_utt, 4)\n",
        "        else:\n",
        "            bleu_4_utt = 0\n",
        "            nist_4_utt = 0\n",
        "        if lens >= 2:\n",
        "            bleu_2_utt = sentence_bleu([target_utt], pred_utt, weights = (0.5, 0.5), smoothing_function = SmoothingFunction().method1)\n",
        "            nist_2_utt = sentence_nist([target_utt], pred_utt, 2)\n",
        "        else:\n",
        "            bleu_2_utt = 0\n",
        "            nist_2_utt = 0\n",
        "            \n",
        "        bleu_2 += bleu_2_utt\n",
        "        bleu_4 += bleu_4_utt\n",
        "        meteor += meteor_score([\" \".join(target_utt)], \" \".join(pred_utt))\n",
        "        nist_2 += nist_2_utt\n",
        "        nist_4 += nist_4_utt\n",
        "        \n",
        "    bleu_2 /= turns\n",
        "    bleu_4 /= turns\n",
        "    meteor /= turns\n",
        "    nist_2 /= turns\n",
        "    nist_4 /= turns\n",
        "    return bleu_2, bleu_4, meteor, nist_2, nist_4\n"
      ],
      "execution_count": null,
      "outputs": []
    },
    {
      "cell_type": "code",
      "metadata": {
        "id": "N-FjW-r-fczL"
      },
      "source": [
        "mkdir nltk_data"
      ],
      "execution_count": null,
      "outputs": []
    },
    {
      "cell_type": "code",
      "metadata": {
        "colab": {
          "base_uri": "https://localhost:8080/"
        },
        "id": "hZfpaUPaffzr",
        "outputId": "b3c08293-c03a-4c32-f7fb-8a59166a027f"
      },
      "source": [
        "nltk.download('wordnet')\n"
      ],
      "execution_count": null,
      "outputs": [
        {
          "output_type": "stream",
          "text": [
            "[nltk_data] Downloading package wordnet to /root/nltk_data...\n",
            "[nltk_data]   Unzipping corpora/wordnet.zip.\n"
          ],
          "name": "stderr"
        },
        {
          "output_type": "execute_result",
          "data": {
            "text/plain": [
              "True"
            ]
          },
          "metadata": {
            "tags": []
          },
          "execution_count": 34
        }
      ]
    },
    {
      "cell_type": "code",
      "metadata": {
        "id": "cuv4nCbpWhmo"
      },
      "source": [
        "  # bleu_2, bleu_4, meteor, nist_2, nist_4 = get_metrics(pred_token, target_token)\n",
        "  bleu_2, bleu_4, meteor, nist_2, nist_4 = get_metrics(test_chatbot, test_response)\n"
      ],
      "execution_count": null,
      "outputs": []
    },
    {
      "cell_type": "code",
      "metadata": {
        "colab": {
          "base_uri": "https://localhost:8080/"
        },
        "id": "p59t0xOPfwLB",
        "outputId": "160f8854-7a98-4c4e-b632-00fd64532c9f"
      },
      "source": [
        " bleu_2, bleu_4, meteor, nist_2, nist_4"
      ],
      "execution_count": null,
      "outputs": [
        {
          "output_type": "execute_result",
          "data": {
            "text/plain": [
              "(0.10910625032198501,\n",
              " 0.046969635749153485,\n",
              " 0.12674155698173506,\n",
              " 0.49653946717741193,\n",
              " 0.512562750423553)"
            ]
          },
          "metadata": {
            "tags": []
          },
          "execution_count": 36
        }
      ]
    },
    {
      "cell_type": "markdown",
      "metadata": {
        "id": "6eDkPEuvbD47"
      },
      "source": [
        "## Interactive Chat"
      ]
    },
    {
      "cell_type": "markdown",
      "metadata": {
        "id": "rjVqotI05gOS"
      },
      "source": [
        "A variety of methods can be used in responces generation. You can find more details about these methods by this [link](https://huggingface.co/blog/how-to-generate). "
      ]
    },
    {
      "cell_type": "code",
      "metadata": {
        "id": "nIeqMwZktv7N",
        "colab": {
          "base_uri": "https://localhost:8080/"
        },
        "outputId": "dd8007bf-15f4-4610-c913-734ff29ac16b"
      },
      "source": [
        "tokenizer = AutoTokenizer.from_pretrained('microsoft/DialoGPT-small')\n",
        "model = AutoModelWithLMHead.from_pretrained('output-small-save')\n",
        "\n",
        "# Let's chat for 5 lines\n",
        "for step in range(1):\n",
        "    # encode the new user input, add the eos_token and return a tensor in Pytorch\n",
        "    new_user_input_ids = tokenizer.encode(input(\">> User:\") + tokenizer.eos_token, return_tensors='pt')\n",
        "    # print(new_user_input_ids)\n",
        "\n",
        "    # append the new user input tokens to the chat history\n",
        "    bot_input_ids = torch.cat([chat_history_ids, new_user_input_ids], dim=-1) if step > 0 else new_user_input_ids\n",
        "\n",
        "    # generated a response while limiting the total chat history to 1000 tokens, \n",
        "    chat_history_ids = model.generate(\n",
        "        bot_input_ids, max_length=1000,\n",
        "        pad_token_id=tokenizer.eos_token_id,  \n",
        "        no_repeat_ngram_size=3,       \n",
        "        do_sample=True, \n",
        "        top_k=10, \n",
        "        top_p=0.7,\n",
        "        temperature = 0.8\n",
        "    )\n",
        "    \n",
        "    # pretty print last ouput tokens from bot\n",
        "    print(\"Chatbot: {}\".format(tokenizer.decode(chat_history_ids[:, bot_input_ids.shape[-1]:][0], skip_special_tokens=True)))"
      ],
      "execution_count": null,
      "outputs": [
        {
          "output_type": "stream",
          "text": [
            "/usr/local/lib/python3.6/dist-packages/transformers/models/auto/modeling_auto.py:852: FutureWarning: The class `AutoModelWithLMHead` is deprecated and will be removed in a future version. Please use `AutoModelForCausalLM` for causal language models, `AutoModelForMaskedLM` for masked language models and `AutoModelForSeq2SeqLM` for encoder-decoder models.\n",
            "  FutureWarning,\n"
          ],
          "name": "stderr"
        },
        {
          "output_type": "stream",
          "text": [
            ">> User:Can coronavirus symptoms be mild forsome people versus severe ? for example, couldit just involve being very fatigued, low gradefever for a few days and not the extreme symp-toms?   or  is  it  always  a  full  blown  cold  andstruggle to breathe?\n",
            "Chatbot: It depends on your    severity,   and   type of cold.   If you are having a mild fever and or dry cough, then   should be treated.  If   is not having a cold, then you should be fine.  Would you like to video chat with me?\n"
          ],
          "name": "stdout"
        }
      ]
    }
  ]
}